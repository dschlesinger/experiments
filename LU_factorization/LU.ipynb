{
  "nbformat": 4,
  "nbformat_minor": 0,
  "metadata": {
    "colab": {
      "provenance": [],
      "authorship_tag": "ABX9TyNQYyQwMRi0rts2CrIbAuij",
      "include_colab_link": true
    },
    "kernelspec": {
      "name": "python3",
      "display_name": "Python 3"
    },
    "language_info": {
      "name": "python"
    }
  },
  "cells": [
    {
      "cell_type": "markdown",
      "metadata": {
        "id": "view-in-github",
        "colab_type": "text"
      },
      "source": [
        "<a href=\"https://colab.research.google.com/github/dschlesinger/experiments/blob/main/LU_factorization/LU.ipynb\" target=\"_parent\"><img src=\"https://colab.research.google.com/assets/colab-badge.svg\" alt=\"Open In Colab\"/></a>"
      ]
    },
    {
      "cell_type": "code",
      "execution_count": 2,
      "metadata": {
        "id": "TgF-hzCz6AYz"
      },
      "outputs": [],
      "source": [
        "import numpy as np"
      ]
    },
    {
      "cell_type": "code",
      "source": [
        "genA = lambda: np.round(np.random.normal(loc=0, scale=2, size=(5,5))).astype(np.float32)\n",
        "genb = lambda: np.round(np.random.normal(loc=0, scale=2, size=(5,))).astype(np.float32)\n",
        "\n",
        "A = genA()\n",
        "\n",
        "print(\n",
        "  A,\n",
        "  # Check that matrix is non-singular\n",
        "  np.linalg.det(A),\n",
        "  sep='\\n'\n",
        ")"
      ],
      "metadata": {
        "colab": {
          "base_uri": "https://localhost:8080/"
        },
        "id": "usILmzqh6DRq",
        "outputId": "806572cc-6d0e-435e-95ea-f56ef26195d1"
      },
      "execution_count": 96,
      "outputs": [
        {
          "output_type": "stream",
          "name": "stdout",
          "text": [
            "[[ 1.  0.  4. -0. -3.]\n",
            " [-2.  5.  1. -4.  0.]\n",
            " [ 1.  1. -0. -2. -4.]\n",
            " [-1. -1. -1.  2.  2.]\n",
            " [-2.  3.  3.  0.  4.]]\n",
            "-84.0\n"
          ]
        }
      ]
    },
    {
      "cell_type": "code",
      "source": [
        "from typing import Tuple, List\n",
        "\n",
        "class solver:\n",
        "\n",
        "  def __init__(self, A: np.ndarray) -> None:\n",
        "\n",
        "    if np.linalg.det(A) == 0:\n",
        "\n",
        "      raise ValueError(\"Matrix is singular\")\n",
        "\n",
        "    self.PLU(A)\n",
        "\n",
        "  def reconstruct(self) -> np.ndarray:\n",
        "    \"\"\"f(P, L, U) -> A\"\"\"\n",
        "    return self.P.T @ self.L @ self.U\n",
        "\n",
        "  def solve(self, b: np.ndarray) -> np.ndarray:\n",
        "    \"\"\"Find x in Ax=b\"\"\"\n",
        "    pb = self.P @ b\n",
        "\n",
        "    y = self.forward(pb)\n",
        "\n",
        "    x = self.backward(y)\n",
        "\n",
        "    return x\n",
        "\n",
        "  def forward(self, b: np.ndarray) -> np.ndarray:\n",
        "    \"\"\"f(L, b) -> y\n",
        "    Ly = b\n",
        "    \"\"\"\n",
        "\n",
        "    y = np.zeros(self.n, dtype=np.float64)\n",
        "    y[0] = b[0]\n",
        "\n",
        "    for i in range(1, self.n):\n",
        "\n",
        "      y[i] = b[i] - np.dot(y[:i], self.L[i, :i])\n",
        "\n",
        "    return y\n",
        "\n",
        "\n",
        "  def backward(self, y: np.ndarray) -> np.ndarray:\n",
        "    \"\"\"f(U, y: from forward) -> x\"\"\"\n",
        "\n",
        "    x = np.zeros(self.n, dtype=np.float64)\n",
        "    x[-1] = y[-1] / self.U[-1, -1]\n",
        "\n",
        "    for i in range(-2, -(self.n + 1), -1):\n",
        "\n",
        "      x[i] = (y[i] - np.dot(x[i:], self.U[i, i:])) / self.U[i, i]\n",
        "\n",
        "    return x\n",
        "\n",
        "  def PLU(self, A: np.ndarray) -> Tuple[np.ndarray]:\n",
        "        \"\"\"\n",
        "        Returns and sets as instance attributes:\n",
        "          P: Permutation Matrix\n",
        "          L: Lower Triangle Matrix, with diagonal elements = 1\n",
        "          U: Upper Triangle Matrix\n",
        "        \"\"\"\n",
        "        n = A.shape[0]\n",
        "        self.n = n\n",
        "\n",
        "        P = np.identity(n)\n",
        "        L = np.identity(n, dtype=np.float64)\n",
        "        U = A.copy().astype(np.float64)\n",
        "\n",
        "        for head in range(n):\n",
        "            # Find the pivot element (row with max absolute value in current column)\n",
        "            pivot_row = head + np.argmax(np.abs(U[head:, head]))\n",
        "\n",
        "            # If the pivot is zero, matrix is singular\n",
        "            if np.abs(U[pivot_row, head]) < 1e-10:\n",
        "                continue\n",
        "\n",
        "            # Swap rows if needed\n",
        "            if pivot_row != head:\n",
        "                # Swap rows in U\n",
        "                U[[head, pivot_row]] = U[[pivot_row, head]]\n",
        "\n",
        "                # Swap rows in P\n",
        "                P[[head, pivot_row]] = P[[pivot_row, head]]\n",
        "\n",
        "                # Only swap the ROWS of L for the COLUMNS that have already been computed\n",
        "                #if head > 0:\n",
        "                L[[head, pivot_row], :head] = L[[pivot_row, head], :head]\n",
        "\n",
        "            # Perform elimination\n",
        "            for i in range(head + 1, n):\n",
        "                if U[head, head] == 0:\n",
        "                    continue\n",
        "\n",
        "                factor = U[i, head] / U[head, head]\n",
        "                L[i, head] = factor\n",
        "                U[i, head:] -= factor * U[head, head:]\n",
        "\n",
        "        self.P = P\n",
        "        self.L = L\n",
        "        self.U = U\n",
        "\n",
        "        return P, L, U"
      ],
      "metadata": {
        "id": "bpSiyvwE7HCF",
        "collapsed": true
      },
      "execution_count": 54,
      "outputs": []
    },
    {
      "cell_type": "code",
      "source": [
        "from itertools import repeat\n",
        "from IPython.display import clear_output\n",
        "\n",
        "# Test accurate reconstruction\n",
        "\n",
        "all_cor = []\n",
        "for _ in repeat(None, 1000):\n",
        "\n",
        "  clear_output()\n",
        "\n",
        "  A = genA()\n",
        "\n",
        "  try:\n",
        "    s = solver(A)\n",
        "  except ValueError:\n",
        "    continue\n",
        "\n",
        "  correct_grid = np.isclose(A, s.reconstruct() ,rtol=1e-4, atol=1e-4)\n",
        "\n",
        "  correct = np.all(correct_grid)\n",
        "\n",
        "  all_cor.append(correct)\n",
        "\n",
        "  if not correct:\n",
        "\n",
        "    print(\"----------\")\n",
        "\n",
        "    print(A, np.round(s.reconstruct()), correct_grid, s.P, s.L, s.U, sep='\\n')\n",
        "\n",
        "    break\n",
        "\n",
        "print(np.unique(all_cor, return_counts=True))"
      ],
      "metadata": {
        "colab": {
          "base_uri": "https://localhost:8080/"
        },
        "id": "KfGuKwKl4Qrv",
        "outputId": "969c21c7-08d7-499e-e112-bf20d0bf4558"
      },
      "execution_count": 28,
      "outputs": [
        {
          "output_type": "stream",
          "name": "stdout",
          "text": [
            "(array([ True]), array([991]))\n"
          ]
        }
      ]
    },
    {
      "cell_type": "code",
      "source": [
        "# Test foward and backward\n",
        "\n",
        "all_cor = []\n",
        "for _ in repeat(None, 1000):\n",
        "\n",
        "  clear_output()\n",
        "\n",
        "  A = genA()\n",
        "  b = genb()\n",
        "\n",
        "  try:\n",
        "    s = solver(A)\n",
        "  except ValueError:\n",
        "    continue\n",
        "\n",
        "  x = s.solve(b)\n",
        "\n",
        "  correct = np.allclose(A @ x, b, rtol=1e-4, atol=1e-4)\n",
        "\n",
        "  all_cor.append(correct)\n",
        "\n",
        "  if not correct:\n",
        "\n",
        "    print(\"----------\")\n",
        "\n",
        "    print(A @ x, b, A, x, sep='\\n')\n",
        "\n",
        "    break\n",
        "\n",
        "# Not all test cases pass likely due to numerical instability\n",
        "print(np.unique(all_cor, return_counts=True))"
      ],
      "metadata": {
        "colab": {
          "base_uri": "https://localhost:8080/"
        },
        "id": "gCtebOo_EJIn",
        "outputId": "415df452-e606-4e0e-8f5f-740b5a28ef47"
      },
      "execution_count": 95,
      "outputs": [
        {
          "output_type": "stream",
          "name": "stdout",
          "text": [
            "----------\n",
            "[0. 0. 2. 0. 2.]\n",
            "[ 1. -1.  4. -2. -0.]\n",
            "[[-1. -0. -1. -1.  0.]\n",
            " [ 0. -2.  0. -0. -2.]\n",
            " [-1.  2.  0.  2. -3.]\n",
            " [-4.  2.  0.  0. -2.]\n",
            " [-1. -1. -3. -1. -3.]]\n",
            "[ 1.16342990e+16  1.16342990e+16  1.16342990e+16 -2.32685981e+16\n",
            " -1.16342990e+16]\n",
            "(array([False,  True]), array([  1, 495]))\n"
          ]
        }
      ]
    }
  ]
}