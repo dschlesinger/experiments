{
  "nbformat": 4,
  "nbformat_minor": 0,
  "metadata": {
    "colab": {
      "provenance": [],
      "collapsed_sections": [
        "orf7QRr0vdOE",
        "pk6K_NMVOdR8",
        "zuIZnKFb7F7C",
        "KF_uEGy_zcYC",
        "kSMt2cS9Ks02"
      ],
      "gpuType": "T4",
      "authorship_tag": "ABX9TyML6JLM9CDTTx7L/P29+sd9",
      "include_colab_link": true
    },
    "kernelspec": {
      "name": "python3",
      "display_name": "Python 3"
    },
    "language_info": {
      "name": "python"
    },
    "accelerator": "GPU",
    "widgets": {
      "application/vnd.jupyter.widget-state+json": {
        "3a55eb04c1ce44cab5864727b7e11aa7": {
          "model_module": "@jupyter-widgets/controls",
          "model_name": "HBoxModel",
          "model_module_version": "1.5.0",
          "state": {
            "_dom_classes": [],
            "_model_module": "@jupyter-widgets/controls",
            "_model_module_version": "1.5.0",
            "_model_name": "HBoxModel",
            "_view_count": null,
            "_view_module": "@jupyter-widgets/controls",
            "_view_module_version": "1.5.0",
            "_view_name": "HBoxView",
            "box_style": "",
            "children": [
              "IPY_MODEL_a98954e6a6f44f0fb93f22d093e0e43d",
              "IPY_MODEL_395f10d1d3934d4eb54e72ed0e311d1c",
              "IPY_MODEL_cb24658f31d840e793118147459607d1"
            ],
            "layout": "IPY_MODEL_e4a6e348140b4af2b306eb84e7164db7"
          }
        },
        "a98954e6a6f44f0fb93f22d093e0e43d": {
          "model_module": "@jupyter-widgets/controls",
          "model_name": "HTMLModel",
          "model_module_version": "1.5.0",
          "state": {
            "_dom_classes": [],
            "_model_module": "@jupyter-widgets/controls",
            "_model_module_version": "1.5.0",
            "_model_name": "HTMLModel",
            "_view_count": null,
            "_view_module": "@jupyter-widgets/controls",
            "_view_module_version": "1.5.0",
            "_view_name": "HTMLView",
            "description": "",
            "description_tooltip": null,
            "layout": "IPY_MODEL_fe369a83a8ca41b8ac389bf7723430a3",
            "placeholder": "​",
            "style": "IPY_MODEL_d90569e445f3471aa3c7e6fd2cd0cc61",
            "value": "README.md: 100%"
          }
        },
        "395f10d1d3934d4eb54e72ed0e311d1c": {
          "model_module": "@jupyter-widgets/controls",
          "model_name": "FloatProgressModel",
          "model_module_version": "1.5.0",
          "state": {
            "_dom_classes": [],
            "_model_module": "@jupyter-widgets/controls",
            "_model_module_version": "1.5.0",
            "_model_name": "FloatProgressModel",
            "_view_count": null,
            "_view_module": "@jupyter-widgets/controls",
            "_view_module_version": "1.5.0",
            "_view_name": "ProgressView",
            "bar_style": "success",
            "description": "",
            "description_tooltip": null,
            "layout": "IPY_MODEL_2481e6c7cbec4b19892af65b69ca87e3",
            "max": 7809,
            "min": 0,
            "orientation": "horizontal",
            "style": "IPY_MODEL_4dcc170079a548dfa3105e0761cf4965",
            "value": 7809
          }
        },
        "cb24658f31d840e793118147459607d1": {
          "model_module": "@jupyter-widgets/controls",
          "model_name": "HTMLModel",
          "model_module_version": "1.5.0",
          "state": {
            "_dom_classes": [],
            "_model_module": "@jupyter-widgets/controls",
            "_model_module_version": "1.5.0",
            "_model_name": "HTMLModel",
            "_view_count": null,
            "_view_module": "@jupyter-widgets/controls",
            "_view_module_version": "1.5.0",
            "_view_name": "HTMLView",
            "description": "",
            "description_tooltip": null,
            "layout": "IPY_MODEL_099dd0ce6e8443ab8f56e96684988aaa",
            "placeholder": "​",
            "style": "IPY_MODEL_5bc02c6e2a90468c874a8875a2cd8594",
            "value": " 7.81k/7.81k [00:00&lt;00:00, 763kB/s]"
          }
        },
        "e4a6e348140b4af2b306eb84e7164db7": {
          "model_module": "@jupyter-widgets/base",
          "model_name": "LayoutModel",
          "model_module_version": "1.2.0",
          "state": {
            "_model_module": "@jupyter-widgets/base",
            "_model_module_version": "1.2.0",
            "_model_name": "LayoutModel",
            "_view_count": null,
            "_view_module": "@jupyter-widgets/base",
            "_view_module_version": "1.2.0",
            "_view_name": "LayoutView",
            "align_content": null,
            "align_items": null,
            "align_self": null,
            "border": null,
            "bottom": null,
            "display": null,
            "flex": null,
            "flex_flow": null,
            "grid_area": null,
            "grid_auto_columns": null,
            "grid_auto_flow": null,
            "grid_auto_rows": null,
            "grid_column": null,
            "grid_gap": null,
            "grid_row": null,
            "grid_template_areas": null,
            "grid_template_columns": null,
            "grid_template_rows": null,
            "height": null,
            "justify_content": null,
            "justify_items": null,
            "left": null,
            "margin": null,
            "max_height": null,
            "max_width": null,
            "min_height": null,
            "min_width": null,
            "object_fit": null,
            "object_position": null,
            "order": null,
            "overflow": null,
            "overflow_x": null,
            "overflow_y": null,
            "padding": null,
            "right": null,
            "top": null,
            "visibility": null,
            "width": null
          }
        },
        "fe369a83a8ca41b8ac389bf7723430a3": {
          "model_module": "@jupyter-widgets/base",
          "model_name": "LayoutModel",
          "model_module_version": "1.2.0",
          "state": {
            "_model_module": "@jupyter-widgets/base",
            "_model_module_version": "1.2.0",
            "_model_name": "LayoutModel",
            "_view_count": null,
            "_view_module": "@jupyter-widgets/base",
            "_view_module_version": "1.2.0",
            "_view_name": "LayoutView",
            "align_content": null,
            "align_items": null,
            "align_self": null,
            "border": null,
            "bottom": null,
            "display": null,
            "flex": null,
            "flex_flow": null,
            "grid_area": null,
            "grid_auto_columns": null,
            "grid_auto_flow": null,
            "grid_auto_rows": null,
            "grid_column": null,
            "grid_gap": null,
            "grid_row": null,
            "grid_template_areas": null,
            "grid_template_columns": null,
            "grid_template_rows": null,
            "height": null,
            "justify_content": null,
            "justify_items": null,
            "left": null,
            "margin": null,
            "max_height": null,
            "max_width": null,
            "min_height": null,
            "min_width": null,
            "object_fit": null,
            "object_position": null,
            "order": null,
            "overflow": null,
            "overflow_x": null,
            "overflow_y": null,
            "padding": null,
            "right": null,
            "top": null,
            "visibility": null,
            "width": null
          }
        },
        "d90569e445f3471aa3c7e6fd2cd0cc61": {
          "model_module": "@jupyter-widgets/controls",
          "model_name": "DescriptionStyleModel",
          "model_module_version": "1.5.0",
          "state": {
            "_model_module": "@jupyter-widgets/controls",
            "_model_module_version": "1.5.0",
            "_model_name": "DescriptionStyleModel",
            "_view_count": null,
            "_view_module": "@jupyter-widgets/base",
            "_view_module_version": "1.2.0",
            "_view_name": "StyleView",
            "description_width": ""
          }
        },
        "2481e6c7cbec4b19892af65b69ca87e3": {
          "model_module": "@jupyter-widgets/base",
          "model_name": "LayoutModel",
          "model_module_version": "1.2.0",
          "state": {
            "_model_module": "@jupyter-widgets/base",
            "_model_module_version": "1.2.0",
            "_model_name": "LayoutModel",
            "_view_count": null,
            "_view_module": "@jupyter-widgets/base",
            "_view_module_version": "1.2.0",
            "_view_name": "LayoutView",
            "align_content": null,
            "align_items": null,
            "align_self": null,
            "border": null,
            "bottom": null,
            "display": null,
            "flex": null,
            "flex_flow": null,
            "grid_area": null,
            "grid_auto_columns": null,
            "grid_auto_flow": null,
            "grid_auto_rows": null,
            "grid_column": null,
            "grid_gap": null,
            "grid_row": null,
            "grid_template_areas": null,
            "grid_template_columns": null,
            "grid_template_rows": null,
            "height": null,
            "justify_content": null,
            "justify_items": null,
            "left": null,
            "margin": null,
            "max_height": null,
            "max_width": null,
            "min_height": null,
            "min_width": null,
            "object_fit": null,
            "object_position": null,
            "order": null,
            "overflow": null,
            "overflow_x": null,
            "overflow_y": null,
            "padding": null,
            "right": null,
            "top": null,
            "visibility": null,
            "width": null
          }
        },
        "4dcc170079a548dfa3105e0761cf4965": {
          "model_module": "@jupyter-widgets/controls",
          "model_name": "ProgressStyleModel",
          "model_module_version": "1.5.0",
          "state": {
            "_model_module": "@jupyter-widgets/controls",
            "_model_module_version": "1.5.0",
            "_model_name": "ProgressStyleModel",
            "_view_count": null,
            "_view_module": "@jupyter-widgets/base",
            "_view_module_version": "1.2.0",
            "_view_name": "StyleView",
            "bar_color": null,
            "description_width": ""
          }
        },
        "099dd0ce6e8443ab8f56e96684988aaa": {
          "model_module": "@jupyter-widgets/base",
          "model_name": "LayoutModel",
          "model_module_version": "1.2.0",
          "state": {
            "_model_module": "@jupyter-widgets/base",
            "_model_module_version": "1.2.0",
            "_model_name": "LayoutModel",
            "_view_count": null,
            "_view_module": "@jupyter-widgets/base",
            "_view_module_version": "1.2.0",
            "_view_name": "LayoutView",
            "align_content": null,
            "align_items": null,
            "align_self": null,
            "border": null,
            "bottom": null,
            "display": null,
            "flex": null,
            "flex_flow": null,
            "grid_area": null,
            "grid_auto_columns": null,
            "grid_auto_flow": null,
            "grid_auto_rows": null,
            "grid_column": null,
            "grid_gap": null,
            "grid_row": null,
            "grid_template_areas": null,
            "grid_template_columns": null,
            "grid_template_rows": null,
            "height": null,
            "justify_content": null,
            "justify_items": null,
            "left": null,
            "margin": null,
            "max_height": null,
            "max_width": null,
            "min_height": null,
            "min_width": null,
            "object_fit": null,
            "object_position": null,
            "order": null,
            "overflow": null,
            "overflow_x": null,
            "overflow_y": null,
            "padding": null,
            "right": null,
            "top": null,
            "visibility": null,
            "width": null
          }
        },
        "5bc02c6e2a90468c874a8875a2cd8594": {
          "model_module": "@jupyter-widgets/controls",
          "model_name": "DescriptionStyleModel",
          "model_module_version": "1.5.0",
          "state": {
            "_model_module": "@jupyter-widgets/controls",
            "_model_module_version": "1.5.0",
            "_model_name": "DescriptionStyleModel",
            "_view_count": null,
            "_view_module": "@jupyter-widgets/base",
            "_view_module_version": "1.2.0",
            "_view_name": "StyleView",
            "description_width": ""
          }
        },
        "54dfce374b76489f922d78cb2a043501": {
          "model_module": "@jupyter-widgets/controls",
          "model_name": "HBoxModel",
          "model_module_version": "1.5.0",
          "state": {
            "_dom_classes": [],
            "_model_module": "@jupyter-widgets/controls",
            "_model_module_version": "1.5.0",
            "_model_name": "HBoxModel",
            "_view_count": null,
            "_view_module": "@jupyter-widgets/controls",
            "_view_module_version": "1.5.0",
            "_view_name": "HBoxView",
            "box_style": "",
            "children": [
              "IPY_MODEL_49397335c5f14d39977311006f6ef0fc",
              "IPY_MODEL_cc68582b792346249ffb8016e742f27e",
              "IPY_MODEL_392550e003ca4191bf24e79385f7a13c"
            ],
            "layout": "IPY_MODEL_a436f6b3e3d4460da9899e7da98ea526"
          }
        },
        "49397335c5f14d39977311006f6ef0fc": {
          "model_module": "@jupyter-widgets/controls",
          "model_name": "HTMLModel",
          "model_module_version": "1.5.0",
          "state": {
            "_dom_classes": [],
            "_model_module": "@jupyter-widgets/controls",
            "_model_module_version": "1.5.0",
            "_model_name": "HTMLModel",
            "_view_count": null,
            "_view_module": "@jupyter-widgets/controls",
            "_view_module_version": "1.5.0",
            "_view_name": "HTMLView",
            "description": "",
            "description_tooltip": null,
            "layout": "IPY_MODEL_90cc1f4fb08a41a483d4965ca0f037da",
            "placeholder": "​",
            "style": "IPY_MODEL_d632248d2d874dc399387bf2fdbbe24a",
            "value": "train-00000-of-00001.parquet: 100%"
          }
        },
        "cc68582b792346249ffb8016e742f27e": {
          "model_module": "@jupyter-widgets/controls",
          "model_name": "FloatProgressModel",
          "model_module_version": "1.5.0",
          "state": {
            "_dom_classes": [],
            "_model_module": "@jupyter-widgets/controls",
            "_model_module_version": "1.5.0",
            "_model_name": "FloatProgressModel",
            "_view_count": null,
            "_view_module": "@jupyter-widgets/controls",
            "_view_module_version": "1.5.0",
            "_view_name": "ProgressView",
            "bar_style": "success",
            "description": "",
            "description_tooltip": null,
            "layout": "IPY_MODEL_f370728ad8824cfe81f0e21af629740d",
            "max": 20979968,
            "min": 0,
            "orientation": "horizontal",
            "style": "IPY_MODEL_4617729e331f4ea5b4017d3e15d9c727",
            "value": 20979968
          }
        },
        "392550e003ca4191bf24e79385f7a13c": {
          "model_module": "@jupyter-widgets/controls",
          "model_name": "HTMLModel",
          "model_module_version": "1.5.0",
          "state": {
            "_dom_classes": [],
            "_model_module": "@jupyter-widgets/controls",
            "_model_module_version": "1.5.0",
            "_model_name": "HTMLModel",
            "_view_count": null,
            "_view_module": "@jupyter-widgets/controls",
            "_view_module_version": "1.5.0",
            "_view_name": "HTMLView",
            "description": "",
            "description_tooltip": null,
            "layout": "IPY_MODEL_7129ddf5a94e432494d3f72be364cd33",
            "placeholder": "​",
            "style": "IPY_MODEL_3483c013a24a45b9a69745c40599ea60",
            "value": " 21.0M/21.0M [00:00&lt;00:00, 33.2MB/s]"
          }
        },
        "a436f6b3e3d4460da9899e7da98ea526": {
          "model_module": "@jupyter-widgets/base",
          "model_name": "LayoutModel",
          "model_module_version": "1.2.0",
          "state": {
            "_model_module": "@jupyter-widgets/base",
            "_model_module_version": "1.2.0",
            "_model_name": "LayoutModel",
            "_view_count": null,
            "_view_module": "@jupyter-widgets/base",
            "_view_module_version": "1.2.0",
            "_view_name": "LayoutView",
            "align_content": null,
            "align_items": null,
            "align_self": null,
            "border": null,
            "bottom": null,
            "display": null,
            "flex": null,
            "flex_flow": null,
            "grid_area": null,
            "grid_auto_columns": null,
            "grid_auto_flow": null,
            "grid_auto_rows": null,
            "grid_column": null,
            "grid_gap": null,
            "grid_row": null,
            "grid_template_areas": null,
            "grid_template_columns": null,
            "grid_template_rows": null,
            "height": null,
            "justify_content": null,
            "justify_items": null,
            "left": null,
            "margin": null,
            "max_height": null,
            "max_width": null,
            "min_height": null,
            "min_width": null,
            "object_fit": null,
            "object_position": null,
            "order": null,
            "overflow": null,
            "overflow_x": null,
            "overflow_y": null,
            "padding": null,
            "right": null,
            "top": null,
            "visibility": null,
            "width": null
          }
        },
        "90cc1f4fb08a41a483d4965ca0f037da": {
          "model_module": "@jupyter-widgets/base",
          "model_name": "LayoutModel",
          "model_module_version": "1.2.0",
          "state": {
            "_model_module": "@jupyter-widgets/base",
            "_model_module_version": "1.2.0",
            "_model_name": "LayoutModel",
            "_view_count": null,
            "_view_module": "@jupyter-widgets/base",
            "_view_module_version": "1.2.0",
            "_view_name": "LayoutView",
            "align_content": null,
            "align_items": null,
            "align_self": null,
            "border": null,
            "bottom": null,
            "display": null,
            "flex": null,
            "flex_flow": null,
            "grid_area": null,
            "grid_auto_columns": null,
            "grid_auto_flow": null,
            "grid_auto_rows": null,
            "grid_column": null,
            "grid_gap": null,
            "grid_row": null,
            "grid_template_areas": null,
            "grid_template_columns": null,
            "grid_template_rows": null,
            "height": null,
            "justify_content": null,
            "justify_items": null,
            "left": null,
            "margin": null,
            "max_height": null,
            "max_width": null,
            "min_height": null,
            "min_width": null,
            "object_fit": null,
            "object_position": null,
            "order": null,
            "overflow": null,
            "overflow_x": null,
            "overflow_y": null,
            "padding": null,
            "right": null,
            "top": null,
            "visibility": null,
            "width": null
          }
        },
        "d632248d2d874dc399387bf2fdbbe24a": {
          "model_module": "@jupyter-widgets/controls",
          "model_name": "DescriptionStyleModel",
          "model_module_version": "1.5.0",
          "state": {
            "_model_module": "@jupyter-widgets/controls",
            "_model_module_version": "1.5.0",
            "_model_name": "DescriptionStyleModel",
            "_view_count": null,
            "_view_module": "@jupyter-widgets/base",
            "_view_module_version": "1.2.0",
            "_view_name": "StyleView",
            "description_width": ""
          }
        },
        "f370728ad8824cfe81f0e21af629740d": {
          "model_module": "@jupyter-widgets/base",
          "model_name": "LayoutModel",
          "model_module_version": "1.2.0",
          "state": {
            "_model_module": "@jupyter-widgets/base",
            "_model_module_version": "1.2.0",
            "_model_name": "LayoutModel",
            "_view_count": null,
            "_view_module": "@jupyter-widgets/base",
            "_view_module_version": "1.2.0",
            "_view_name": "LayoutView",
            "align_content": null,
            "align_items": null,
            "align_self": null,
            "border": null,
            "bottom": null,
            "display": null,
            "flex": null,
            "flex_flow": null,
            "grid_area": null,
            "grid_auto_columns": null,
            "grid_auto_flow": null,
            "grid_auto_rows": null,
            "grid_column": null,
            "grid_gap": null,
            "grid_row": null,
            "grid_template_areas": null,
            "grid_template_columns": null,
            "grid_template_rows": null,
            "height": null,
            "justify_content": null,
            "justify_items": null,
            "left": null,
            "margin": null,
            "max_height": null,
            "max_width": null,
            "min_height": null,
            "min_width": null,
            "object_fit": null,
            "object_position": null,
            "order": null,
            "overflow": null,
            "overflow_x": null,
            "overflow_y": null,
            "padding": null,
            "right": null,
            "top": null,
            "visibility": null,
            "width": null
          }
        },
        "4617729e331f4ea5b4017d3e15d9c727": {
          "model_module": "@jupyter-widgets/controls",
          "model_name": "ProgressStyleModel",
          "model_module_version": "1.5.0",
          "state": {
            "_model_module": "@jupyter-widgets/controls",
            "_model_module_version": "1.5.0",
            "_model_name": "ProgressStyleModel",
            "_view_count": null,
            "_view_module": "@jupyter-widgets/base",
            "_view_module_version": "1.2.0",
            "_view_name": "StyleView",
            "bar_color": null,
            "description_width": ""
          }
        },
        "7129ddf5a94e432494d3f72be364cd33": {
          "model_module": "@jupyter-widgets/base",
          "model_name": "LayoutModel",
          "model_module_version": "1.2.0",
          "state": {
            "_model_module": "@jupyter-widgets/base",
            "_model_module_version": "1.2.0",
            "_model_name": "LayoutModel",
            "_view_count": null,
            "_view_module": "@jupyter-widgets/base",
            "_view_module_version": "1.2.0",
            "_view_name": "LayoutView",
            "align_content": null,
            "align_items": null,
            "align_self": null,
            "border": null,
            "bottom": null,
            "display": null,
            "flex": null,
            "flex_flow": null,
            "grid_area": null,
            "grid_auto_columns": null,
            "grid_auto_flow": null,
            "grid_auto_rows": null,
            "grid_column": null,
            "grid_gap": null,
            "grid_row": null,
            "grid_template_areas": null,
            "grid_template_columns": null,
            "grid_template_rows": null,
            "height": null,
            "justify_content": null,
            "justify_items": null,
            "left": null,
            "margin": null,
            "max_height": null,
            "max_width": null,
            "min_height": null,
            "min_width": null,
            "object_fit": null,
            "object_position": null,
            "order": null,
            "overflow": null,
            "overflow_x": null,
            "overflow_y": null,
            "padding": null,
            "right": null,
            "top": null,
            "visibility": null,
            "width": null
          }
        },
        "3483c013a24a45b9a69745c40599ea60": {
          "model_module": "@jupyter-widgets/controls",
          "model_name": "DescriptionStyleModel",
          "model_module_version": "1.5.0",
          "state": {
            "_model_module": "@jupyter-widgets/controls",
            "_model_module_version": "1.5.0",
            "_model_name": "DescriptionStyleModel",
            "_view_count": null,
            "_view_module": "@jupyter-widgets/base",
            "_view_module_version": "1.2.0",
            "_view_name": "StyleView",
            "description_width": ""
          }
        },
        "93815e5334b94760919d8cfdc3a5bff4": {
          "model_module": "@jupyter-widgets/controls",
          "model_name": "HBoxModel",
          "model_module_version": "1.5.0",
          "state": {
            "_dom_classes": [],
            "_model_module": "@jupyter-widgets/controls",
            "_model_module_version": "1.5.0",
            "_model_name": "HBoxModel",
            "_view_count": null,
            "_view_module": "@jupyter-widgets/controls",
            "_view_module_version": "1.5.0",
            "_view_name": "HBoxView",
            "box_style": "",
            "children": [
              "IPY_MODEL_034c59d0eedc452a995529305b673e9b",
              "IPY_MODEL_2e84470dbb3f4eb6a9e05893899e013f",
              "IPY_MODEL_8c07fc065d614875829cd123d350a85a"
            ],
            "layout": "IPY_MODEL_d296f6d108fd41de860aacedf991aa0b"
          }
        },
        "034c59d0eedc452a995529305b673e9b": {
          "model_module": "@jupyter-widgets/controls",
          "model_name": "HTMLModel",
          "model_module_version": "1.5.0",
          "state": {
            "_dom_classes": [],
            "_model_module": "@jupyter-widgets/controls",
            "_model_module_version": "1.5.0",
            "_model_name": "HTMLModel",
            "_view_count": null,
            "_view_module": "@jupyter-widgets/controls",
            "_view_module_version": "1.5.0",
            "_view_name": "HTMLView",
            "description": "",
            "description_tooltip": null,
            "layout": "IPY_MODEL_bc0428c4eb1d4d3b97599e94a078f588",
            "placeholder": "​",
            "style": "IPY_MODEL_9480d066370e45ac9892a5fd4953d3ed",
            "value": "test-00000-of-00001.parquet: 100%"
          }
        },
        "2e84470dbb3f4eb6a9e05893899e013f": {
          "model_module": "@jupyter-widgets/controls",
          "model_name": "FloatProgressModel",
          "model_module_version": "1.5.0",
          "state": {
            "_dom_classes": [],
            "_model_module": "@jupyter-widgets/controls",
            "_model_module_version": "1.5.0",
            "_model_name": "FloatProgressModel",
            "_view_count": null,
            "_view_module": "@jupyter-widgets/controls",
            "_view_module_version": "1.5.0",
            "_view_name": "ProgressView",
            "bar_style": "success",
            "description": "",
            "description_tooltip": null,
            "layout": "IPY_MODEL_8876311500774735ba059e71905170eb",
            "max": 20470363,
            "min": 0,
            "orientation": "horizontal",
            "style": "IPY_MODEL_1b6b56f8574445a683189d911f5d3e31",
            "value": 20470363
          }
        },
        "8c07fc065d614875829cd123d350a85a": {
          "model_module": "@jupyter-widgets/controls",
          "model_name": "HTMLModel",
          "model_module_version": "1.5.0",
          "state": {
            "_dom_classes": [],
            "_model_module": "@jupyter-widgets/controls",
            "_model_module_version": "1.5.0",
            "_model_name": "HTMLModel",
            "_view_count": null,
            "_view_module": "@jupyter-widgets/controls",
            "_view_module_version": "1.5.0",
            "_view_name": "HTMLView",
            "description": "",
            "description_tooltip": null,
            "layout": "IPY_MODEL_8176a8b4e74143749c1c650b449bdbc3",
            "placeholder": "​",
            "style": "IPY_MODEL_f29b915dbcb34ce2b0dd1dea0847d901",
            "value": " 20.5M/20.5M [00:00&lt;00:00, 118MB/s]"
          }
        },
        "d296f6d108fd41de860aacedf991aa0b": {
          "model_module": "@jupyter-widgets/base",
          "model_name": "LayoutModel",
          "model_module_version": "1.2.0",
          "state": {
            "_model_module": "@jupyter-widgets/base",
            "_model_module_version": "1.2.0",
            "_model_name": "LayoutModel",
            "_view_count": null,
            "_view_module": "@jupyter-widgets/base",
            "_view_module_version": "1.2.0",
            "_view_name": "LayoutView",
            "align_content": null,
            "align_items": null,
            "align_self": null,
            "border": null,
            "bottom": null,
            "display": null,
            "flex": null,
            "flex_flow": null,
            "grid_area": null,
            "grid_auto_columns": null,
            "grid_auto_flow": null,
            "grid_auto_rows": null,
            "grid_column": null,
            "grid_gap": null,
            "grid_row": null,
            "grid_template_areas": null,
            "grid_template_columns": null,
            "grid_template_rows": null,
            "height": null,
            "justify_content": null,
            "justify_items": null,
            "left": null,
            "margin": null,
            "max_height": null,
            "max_width": null,
            "min_height": null,
            "min_width": null,
            "object_fit": null,
            "object_position": null,
            "order": null,
            "overflow": null,
            "overflow_x": null,
            "overflow_y": null,
            "padding": null,
            "right": null,
            "top": null,
            "visibility": null,
            "width": null
          }
        },
        "bc0428c4eb1d4d3b97599e94a078f588": {
          "model_module": "@jupyter-widgets/base",
          "model_name": "LayoutModel",
          "model_module_version": "1.2.0",
          "state": {
            "_model_module": "@jupyter-widgets/base",
            "_model_module_version": "1.2.0",
            "_model_name": "LayoutModel",
            "_view_count": null,
            "_view_module": "@jupyter-widgets/base",
            "_view_module_version": "1.2.0",
            "_view_name": "LayoutView",
            "align_content": null,
            "align_items": null,
            "align_self": null,
            "border": null,
            "bottom": null,
            "display": null,
            "flex": null,
            "flex_flow": null,
            "grid_area": null,
            "grid_auto_columns": null,
            "grid_auto_flow": null,
            "grid_auto_rows": null,
            "grid_column": null,
            "grid_gap": null,
            "grid_row": null,
            "grid_template_areas": null,
            "grid_template_columns": null,
            "grid_template_rows": null,
            "height": null,
            "justify_content": null,
            "justify_items": null,
            "left": null,
            "margin": null,
            "max_height": null,
            "max_width": null,
            "min_height": null,
            "min_width": null,
            "object_fit": null,
            "object_position": null,
            "order": null,
            "overflow": null,
            "overflow_x": null,
            "overflow_y": null,
            "padding": null,
            "right": null,
            "top": null,
            "visibility": null,
            "width": null
          }
        },
        "9480d066370e45ac9892a5fd4953d3ed": {
          "model_module": "@jupyter-widgets/controls",
          "model_name": "DescriptionStyleModel",
          "model_module_version": "1.5.0",
          "state": {
            "_model_module": "@jupyter-widgets/controls",
            "_model_module_version": "1.5.0",
            "_model_name": "DescriptionStyleModel",
            "_view_count": null,
            "_view_module": "@jupyter-widgets/base",
            "_view_module_version": "1.2.0",
            "_view_name": "StyleView",
            "description_width": ""
          }
        },
        "8876311500774735ba059e71905170eb": {
          "model_module": "@jupyter-widgets/base",
          "model_name": "LayoutModel",
          "model_module_version": "1.2.0",
          "state": {
            "_model_module": "@jupyter-widgets/base",
            "_model_module_version": "1.2.0",
            "_model_name": "LayoutModel",
            "_view_count": null,
            "_view_module": "@jupyter-widgets/base",
            "_view_module_version": "1.2.0",
            "_view_name": "LayoutView",
            "align_content": null,
            "align_items": null,
            "align_self": null,
            "border": null,
            "bottom": null,
            "display": null,
            "flex": null,
            "flex_flow": null,
            "grid_area": null,
            "grid_auto_columns": null,
            "grid_auto_flow": null,
            "grid_auto_rows": null,
            "grid_column": null,
            "grid_gap": null,
            "grid_row": null,
            "grid_template_areas": null,
            "grid_template_columns": null,
            "grid_template_rows": null,
            "height": null,
            "justify_content": null,
            "justify_items": null,
            "left": null,
            "margin": null,
            "max_height": null,
            "max_width": null,
            "min_height": null,
            "min_width": null,
            "object_fit": null,
            "object_position": null,
            "order": null,
            "overflow": null,
            "overflow_x": null,
            "overflow_y": null,
            "padding": null,
            "right": null,
            "top": null,
            "visibility": null,
            "width": null
          }
        },
        "1b6b56f8574445a683189d911f5d3e31": {
          "model_module": "@jupyter-widgets/controls",
          "model_name": "ProgressStyleModel",
          "model_module_version": "1.5.0",
          "state": {
            "_model_module": "@jupyter-widgets/controls",
            "_model_module_version": "1.5.0",
            "_model_name": "ProgressStyleModel",
            "_view_count": null,
            "_view_module": "@jupyter-widgets/base",
            "_view_module_version": "1.2.0",
            "_view_name": "StyleView",
            "bar_color": null,
            "description_width": ""
          }
        },
        "8176a8b4e74143749c1c650b449bdbc3": {
          "model_module": "@jupyter-widgets/base",
          "model_name": "LayoutModel",
          "model_module_version": "1.2.0",
          "state": {
            "_model_module": "@jupyter-widgets/base",
            "_model_module_version": "1.2.0",
            "_model_name": "LayoutModel",
            "_view_count": null,
            "_view_module": "@jupyter-widgets/base",
            "_view_module_version": "1.2.0",
            "_view_name": "LayoutView",
            "align_content": null,
            "align_items": null,
            "align_self": null,
            "border": null,
            "bottom": null,
            "display": null,
            "flex": null,
            "flex_flow": null,
            "grid_area": null,
            "grid_auto_columns": null,
            "grid_auto_flow": null,
            "grid_auto_rows": null,
            "grid_column": null,
            "grid_gap": null,
            "grid_row": null,
            "grid_template_areas": null,
            "grid_template_columns": null,
            "grid_template_rows": null,
            "height": null,
            "justify_content": null,
            "justify_items": null,
            "left": null,
            "margin": null,
            "max_height": null,
            "max_width": null,
            "min_height": null,
            "min_width": null,
            "object_fit": null,
            "object_position": null,
            "order": null,
            "overflow": null,
            "overflow_x": null,
            "overflow_y": null,
            "padding": null,
            "right": null,
            "top": null,
            "visibility": null,
            "width": null
          }
        },
        "f29b915dbcb34ce2b0dd1dea0847d901": {
          "model_module": "@jupyter-widgets/controls",
          "model_name": "DescriptionStyleModel",
          "model_module_version": "1.5.0",
          "state": {
            "_model_module": "@jupyter-widgets/controls",
            "_model_module_version": "1.5.0",
            "_model_name": "DescriptionStyleModel",
            "_view_count": null,
            "_view_module": "@jupyter-widgets/base",
            "_view_module_version": "1.2.0",
            "_view_name": "StyleView",
            "description_width": ""
          }
        },
        "85b6ff68302e4d0eb2604c9d5fe4d3d8": {
          "model_module": "@jupyter-widgets/controls",
          "model_name": "HBoxModel",
          "model_module_version": "1.5.0",
          "state": {
            "_dom_classes": [],
            "_model_module": "@jupyter-widgets/controls",
            "_model_module_version": "1.5.0",
            "_model_name": "HBoxModel",
            "_view_count": null,
            "_view_module": "@jupyter-widgets/controls",
            "_view_module_version": "1.5.0",
            "_view_name": "HBoxView",
            "box_style": "",
            "children": [
              "IPY_MODEL_a1179f2ae4014227b0364aca36cd879d",
              "IPY_MODEL_6ecfefaaad084149a3f0b80c4edd5966",
              "IPY_MODEL_5172827fa7e54d91ad8ea76955a691f3"
            ],
            "layout": "IPY_MODEL_8fe62634e2764864902bef8255030bc7"
          }
        },
        "a1179f2ae4014227b0364aca36cd879d": {
          "model_module": "@jupyter-widgets/controls",
          "model_name": "HTMLModel",
          "model_module_version": "1.5.0",
          "state": {
            "_dom_classes": [],
            "_model_module": "@jupyter-widgets/controls",
            "_model_module_version": "1.5.0",
            "_model_name": "HTMLModel",
            "_view_count": null,
            "_view_module": "@jupyter-widgets/controls",
            "_view_module_version": "1.5.0",
            "_view_name": "HTMLView",
            "description": "",
            "description_tooltip": null,
            "layout": "IPY_MODEL_de1b8c830ef740eeb3836366d66abcfa",
            "placeholder": "​",
            "style": "IPY_MODEL_f8ae12cf027142ae8bc9a877334e9513",
            "value": "unsupervised-00000-of-00001.parquet: 100%"
          }
        },
        "6ecfefaaad084149a3f0b80c4edd5966": {
          "model_module": "@jupyter-widgets/controls",
          "model_name": "FloatProgressModel",
          "model_module_version": "1.5.0",
          "state": {
            "_dom_classes": [],
            "_model_module": "@jupyter-widgets/controls",
            "_model_module_version": "1.5.0",
            "_model_name": "FloatProgressModel",
            "_view_count": null,
            "_view_module": "@jupyter-widgets/controls",
            "_view_module_version": "1.5.0",
            "_view_name": "ProgressView",
            "bar_style": "success",
            "description": "",
            "description_tooltip": null,
            "layout": "IPY_MODEL_031ad2696d7748b6ac953be70b80ca5d",
            "max": 41996509,
            "min": 0,
            "orientation": "horizontal",
            "style": "IPY_MODEL_b97e2f97269942d3ac2c478ba2374740",
            "value": 41996509
          }
        },
        "5172827fa7e54d91ad8ea76955a691f3": {
          "model_module": "@jupyter-widgets/controls",
          "model_name": "HTMLModel",
          "model_module_version": "1.5.0",
          "state": {
            "_dom_classes": [],
            "_model_module": "@jupyter-widgets/controls",
            "_model_module_version": "1.5.0",
            "_model_name": "HTMLModel",
            "_view_count": null,
            "_view_module": "@jupyter-widgets/controls",
            "_view_module_version": "1.5.0",
            "_view_name": "HTMLView",
            "description": "",
            "description_tooltip": null,
            "layout": "IPY_MODEL_436a4d25ee87427a8e52a358be73e06c",
            "placeholder": "​",
            "style": "IPY_MODEL_1d13cc0e9a2e439db4ae31efebf5a66c",
            "value": " 42.0M/42.0M [00:00&lt;00:00, 120MB/s]"
          }
        },
        "8fe62634e2764864902bef8255030bc7": {
          "model_module": "@jupyter-widgets/base",
          "model_name": "LayoutModel",
          "model_module_version": "1.2.0",
          "state": {
            "_model_module": "@jupyter-widgets/base",
            "_model_module_version": "1.2.0",
            "_model_name": "LayoutModel",
            "_view_count": null,
            "_view_module": "@jupyter-widgets/base",
            "_view_module_version": "1.2.0",
            "_view_name": "LayoutView",
            "align_content": null,
            "align_items": null,
            "align_self": null,
            "border": null,
            "bottom": null,
            "display": null,
            "flex": null,
            "flex_flow": null,
            "grid_area": null,
            "grid_auto_columns": null,
            "grid_auto_flow": null,
            "grid_auto_rows": null,
            "grid_column": null,
            "grid_gap": null,
            "grid_row": null,
            "grid_template_areas": null,
            "grid_template_columns": null,
            "grid_template_rows": null,
            "height": null,
            "justify_content": null,
            "justify_items": null,
            "left": null,
            "margin": null,
            "max_height": null,
            "max_width": null,
            "min_height": null,
            "min_width": null,
            "object_fit": null,
            "object_position": null,
            "order": null,
            "overflow": null,
            "overflow_x": null,
            "overflow_y": null,
            "padding": null,
            "right": null,
            "top": null,
            "visibility": null,
            "width": null
          }
        },
        "de1b8c830ef740eeb3836366d66abcfa": {
          "model_module": "@jupyter-widgets/base",
          "model_name": "LayoutModel",
          "model_module_version": "1.2.0",
          "state": {
            "_model_module": "@jupyter-widgets/base",
            "_model_module_version": "1.2.0",
            "_model_name": "LayoutModel",
            "_view_count": null,
            "_view_module": "@jupyter-widgets/base",
            "_view_module_version": "1.2.0",
            "_view_name": "LayoutView",
            "align_content": null,
            "align_items": null,
            "align_self": null,
            "border": null,
            "bottom": null,
            "display": null,
            "flex": null,
            "flex_flow": null,
            "grid_area": null,
            "grid_auto_columns": null,
            "grid_auto_flow": null,
            "grid_auto_rows": null,
            "grid_column": null,
            "grid_gap": null,
            "grid_row": null,
            "grid_template_areas": null,
            "grid_template_columns": null,
            "grid_template_rows": null,
            "height": null,
            "justify_content": null,
            "justify_items": null,
            "left": null,
            "margin": null,
            "max_height": null,
            "max_width": null,
            "min_height": null,
            "min_width": null,
            "object_fit": null,
            "object_position": null,
            "order": null,
            "overflow": null,
            "overflow_x": null,
            "overflow_y": null,
            "padding": null,
            "right": null,
            "top": null,
            "visibility": null,
            "width": null
          }
        },
        "f8ae12cf027142ae8bc9a877334e9513": {
          "model_module": "@jupyter-widgets/controls",
          "model_name": "DescriptionStyleModel",
          "model_module_version": "1.5.0",
          "state": {
            "_model_module": "@jupyter-widgets/controls",
            "_model_module_version": "1.5.0",
            "_model_name": "DescriptionStyleModel",
            "_view_count": null,
            "_view_module": "@jupyter-widgets/base",
            "_view_module_version": "1.2.0",
            "_view_name": "StyleView",
            "description_width": ""
          }
        },
        "031ad2696d7748b6ac953be70b80ca5d": {
          "model_module": "@jupyter-widgets/base",
          "model_name": "LayoutModel",
          "model_module_version": "1.2.0",
          "state": {
            "_model_module": "@jupyter-widgets/base",
            "_model_module_version": "1.2.0",
            "_model_name": "LayoutModel",
            "_view_count": null,
            "_view_module": "@jupyter-widgets/base",
            "_view_module_version": "1.2.0",
            "_view_name": "LayoutView",
            "align_content": null,
            "align_items": null,
            "align_self": null,
            "border": null,
            "bottom": null,
            "display": null,
            "flex": null,
            "flex_flow": null,
            "grid_area": null,
            "grid_auto_columns": null,
            "grid_auto_flow": null,
            "grid_auto_rows": null,
            "grid_column": null,
            "grid_gap": null,
            "grid_row": null,
            "grid_template_areas": null,
            "grid_template_columns": null,
            "grid_template_rows": null,
            "height": null,
            "justify_content": null,
            "justify_items": null,
            "left": null,
            "margin": null,
            "max_height": null,
            "max_width": null,
            "min_height": null,
            "min_width": null,
            "object_fit": null,
            "object_position": null,
            "order": null,
            "overflow": null,
            "overflow_x": null,
            "overflow_y": null,
            "padding": null,
            "right": null,
            "top": null,
            "visibility": null,
            "width": null
          }
        },
        "b97e2f97269942d3ac2c478ba2374740": {
          "model_module": "@jupyter-widgets/controls",
          "model_name": "ProgressStyleModel",
          "model_module_version": "1.5.0",
          "state": {
            "_model_module": "@jupyter-widgets/controls",
            "_model_module_version": "1.5.0",
            "_model_name": "ProgressStyleModel",
            "_view_count": null,
            "_view_module": "@jupyter-widgets/base",
            "_view_module_version": "1.2.0",
            "_view_name": "StyleView",
            "bar_color": null,
            "description_width": ""
          }
        },
        "436a4d25ee87427a8e52a358be73e06c": {
          "model_module": "@jupyter-widgets/base",
          "model_name": "LayoutModel",
          "model_module_version": "1.2.0",
          "state": {
            "_model_module": "@jupyter-widgets/base",
            "_model_module_version": "1.2.0",
            "_model_name": "LayoutModel",
            "_view_count": null,
            "_view_module": "@jupyter-widgets/base",
            "_view_module_version": "1.2.0",
            "_view_name": "LayoutView",
            "align_content": null,
            "align_items": null,
            "align_self": null,
            "border": null,
            "bottom": null,
            "display": null,
            "flex": null,
            "flex_flow": null,
            "grid_area": null,
            "grid_auto_columns": null,
            "grid_auto_flow": null,
            "grid_auto_rows": null,
            "grid_column": null,
            "grid_gap": null,
            "grid_row": null,
            "grid_template_areas": null,
            "grid_template_columns": null,
            "grid_template_rows": null,
            "height": null,
            "justify_content": null,
            "justify_items": null,
            "left": null,
            "margin": null,
            "max_height": null,
            "max_width": null,
            "min_height": null,
            "min_width": null,
            "object_fit": null,
            "object_position": null,
            "order": null,
            "overflow": null,
            "overflow_x": null,
            "overflow_y": null,
            "padding": null,
            "right": null,
            "top": null,
            "visibility": null,
            "width": null
          }
        },
        "1d13cc0e9a2e439db4ae31efebf5a66c": {
          "model_module": "@jupyter-widgets/controls",
          "model_name": "DescriptionStyleModel",
          "model_module_version": "1.5.0",
          "state": {
            "_model_module": "@jupyter-widgets/controls",
            "_model_module_version": "1.5.0",
            "_model_name": "DescriptionStyleModel",
            "_view_count": null,
            "_view_module": "@jupyter-widgets/base",
            "_view_module_version": "1.2.0",
            "_view_name": "StyleView",
            "description_width": ""
          }
        },
        "d90dd0baeb494ab58c50d65b00410c7f": {
          "model_module": "@jupyter-widgets/controls",
          "model_name": "HBoxModel",
          "model_module_version": "1.5.0",
          "state": {
            "_dom_classes": [],
            "_model_module": "@jupyter-widgets/controls",
            "_model_module_version": "1.5.0",
            "_model_name": "HBoxModel",
            "_view_count": null,
            "_view_module": "@jupyter-widgets/controls",
            "_view_module_version": "1.5.0",
            "_view_name": "HBoxView",
            "box_style": "",
            "children": [
              "IPY_MODEL_1d8b6fe71ea049cdb75b26bd90c23d2a",
              "IPY_MODEL_d01e3b684aaf49ea81258fb8ec34b7e1",
              "IPY_MODEL_c6d37138c90b4919b90bbb14ed586a53"
            ],
            "layout": "IPY_MODEL_5c6164ac5caa4e5f8a224ad42950b2ec"
          }
        },
        "1d8b6fe71ea049cdb75b26bd90c23d2a": {
          "model_module": "@jupyter-widgets/controls",
          "model_name": "HTMLModel",
          "model_module_version": "1.5.0",
          "state": {
            "_dom_classes": [],
            "_model_module": "@jupyter-widgets/controls",
            "_model_module_version": "1.5.0",
            "_model_name": "HTMLModel",
            "_view_count": null,
            "_view_module": "@jupyter-widgets/controls",
            "_view_module_version": "1.5.0",
            "_view_name": "HTMLView",
            "description": "",
            "description_tooltip": null,
            "layout": "IPY_MODEL_f0f586bbddc846eea85825aa6ddbe806",
            "placeholder": "​",
            "style": "IPY_MODEL_41e9ae11eb2c487aad74b252f62b16e4",
            "value": "Generating train split: 100%"
          }
        },
        "d01e3b684aaf49ea81258fb8ec34b7e1": {
          "model_module": "@jupyter-widgets/controls",
          "model_name": "FloatProgressModel",
          "model_module_version": "1.5.0",
          "state": {
            "_dom_classes": [],
            "_model_module": "@jupyter-widgets/controls",
            "_model_module_version": "1.5.0",
            "_model_name": "FloatProgressModel",
            "_view_count": null,
            "_view_module": "@jupyter-widgets/controls",
            "_view_module_version": "1.5.0",
            "_view_name": "ProgressView",
            "bar_style": "success",
            "description": "",
            "description_tooltip": null,
            "layout": "IPY_MODEL_3c44a9abbfb24e98b9d1fa1fbe68b5d1",
            "max": 25000,
            "min": 0,
            "orientation": "horizontal",
            "style": "IPY_MODEL_c662b437bc91426e8d2820d49c960766",
            "value": 25000
          }
        },
        "c6d37138c90b4919b90bbb14ed586a53": {
          "model_module": "@jupyter-widgets/controls",
          "model_name": "HTMLModel",
          "model_module_version": "1.5.0",
          "state": {
            "_dom_classes": [],
            "_model_module": "@jupyter-widgets/controls",
            "_model_module_version": "1.5.0",
            "_model_name": "HTMLModel",
            "_view_count": null,
            "_view_module": "@jupyter-widgets/controls",
            "_view_module_version": "1.5.0",
            "_view_name": "HTMLView",
            "description": "",
            "description_tooltip": null,
            "layout": "IPY_MODEL_7a1fa524ec674e83a04a89be1a58da16",
            "placeholder": "​",
            "style": "IPY_MODEL_1914807c5885445c92b0b36f0ca4abdd",
            "value": " 25000/25000 [00:00&lt;00:00, 80048.09 examples/s]"
          }
        },
        "5c6164ac5caa4e5f8a224ad42950b2ec": {
          "model_module": "@jupyter-widgets/base",
          "model_name": "LayoutModel",
          "model_module_version": "1.2.0",
          "state": {
            "_model_module": "@jupyter-widgets/base",
            "_model_module_version": "1.2.0",
            "_model_name": "LayoutModel",
            "_view_count": null,
            "_view_module": "@jupyter-widgets/base",
            "_view_module_version": "1.2.0",
            "_view_name": "LayoutView",
            "align_content": null,
            "align_items": null,
            "align_self": null,
            "border": null,
            "bottom": null,
            "display": null,
            "flex": null,
            "flex_flow": null,
            "grid_area": null,
            "grid_auto_columns": null,
            "grid_auto_flow": null,
            "grid_auto_rows": null,
            "grid_column": null,
            "grid_gap": null,
            "grid_row": null,
            "grid_template_areas": null,
            "grid_template_columns": null,
            "grid_template_rows": null,
            "height": null,
            "justify_content": null,
            "justify_items": null,
            "left": null,
            "margin": null,
            "max_height": null,
            "max_width": null,
            "min_height": null,
            "min_width": null,
            "object_fit": null,
            "object_position": null,
            "order": null,
            "overflow": null,
            "overflow_x": null,
            "overflow_y": null,
            "padding": null,
            "right": null,
            "top": null,
            "visibility": null,
            "width": null
          }
        },
        "f0f586bbddc846eea85825aa6ddbe806": {
          "model_module": "@jupyter-widgets/base",
          "model_name": "LayoutModel",
          "model_module_version": "1.2.0",
          "state": {
            "_model_module": "@jupyter-widgets/base",
            "_model_module_version": "1.2.0",
            "_model_name": "LayoutModel",
            "_view_count": null,
            "_view_module": "@jupyter-widgets/base",
            "_view_module_version": "1.2.0",
            "_view_name": "LayoutView",
            "align_content": null,
            "align_items": null,
            "align_self": null,
            "border": null,
            "bottom": null,
            "display": null,
            "flex": null,
            "flex_flow": null,
            "grid_area": null,
            "grid_auto_columns": null,
            "grid_auto_flow": null,
            "grid_auto_rows": null,
            "grid_column": null,
            "grid_gap": null,
            "grid_row": null,
            "grid_template_areas": null,
            "grid_template_columns": null,
            "grid_template_rows": null,
            "height": null,
            "justify_content": null,
            "justify_items": null,
            "left": null,
            "margin": null,
            "max_height": null,
            "max_width": null,
            "min_height": null,
            "min_width": null,
            "object_fit": null,
            "object_position": null,
            "order": null,
            "overflow": null,
            "overflow_x": null,
            "overflow_y": null,
            "padding": null,
            "right": null,
            "top": null,
            "visibility": null,
            "width": null
          }
        },
        "41e9ae11eb2c487aad74b252f62b16e4": {
          "model_module": "@jupyter-widgets/controls",
          "model_name": "DescriptionStyleModel",
          "model_module_version": "1.5.0",
          "state": {
            "_model_module": "@jupyter-widgets/controls",
            "_model_module_version": "1.5.0",
            "_model_name": "DescriptionStyleModel",
            "_view_count": null,
            "_view_module": "@jupyter-widgets/base",
            "_view_module_version": "1.2.0",
            "_view_name": "StyleView",
            "description_width": ""
          }
        },
        "3c44a9abbfb24e98b9d1fa1fbe68b5d1": {
          "model_module": "@jupyter-widgets/base",
          "model_name": "LayoutModel",
          "model_module_version": "1.2.0",
          "state": {
            "_model_module": "@jupyter-widgets/base",
            "_model_module_version": "1.2.0",
            "_model_name": "LayoutModel",
            "_view_count": null,
            "_view_module": "@jupyter-widgets/base",
            "_view_module_version": "1.2.0",
            "_view_name": "LayoutView",
            "align_content": null,
            "align_items": null,
            "align_self": null,
            "border": null,
            "bottom": null,
            "display": null,
            "flex": null,
            "flex_flow": null,
            "grid_area": null,
            "grid_auto_columns": null,
            "grid_auto_flow": null,
            "grid_auto_rows": null,
            "grid_column": null,
            "grid_gap": null,
            "grid_row": null,
            "grid_template_areas": null,
            "grid_template_columns": null,
            "grid_template_rows": null,
            "height": null,
            "justify_content": null,
            "justify_items": null,
            "left": null,
            "margin": null,
            "max_height": null,
            "max_width": null,
            "min_height": null,
            "min_width": null,
            "object_fit": null,
            "object_position": null,
            "order": null,
            "overflow": null,
            "overflow_x": null,
            "overflow_y": null,
            "padding": null,
            "right": null,
            "top": null,
            "visibility": null,
            "width": null
          }
        },
        "c662b437bc91426e8d2820d49c960766": {
          "model_module": "@jupyter-widgets/controls",
          "model_name": "ProgressStyleModel",
          "model_module_version": "1.5.0",
          "state": {
            "_model_module": "@jupyter-widgets/controls",
            "_model_module_version": "1.5.0",
            "_model_name": "ProgressStyleModel",
            "_view_count": null,
            "_view_module": "@jupyter-widgets/base",
            "_view_module_version": "1.2.0",
            "_view_name": "StyleView",
            "bar_color": null,
            "description_width": ""
          }
        },
        "7a1fa524ec674e83a04a89be1a58da16": {
          "model_module": "@jupyter-widgets/base",
          "model_name": "LayoutModel",
          "model_module_version": "1.2.0",
          "state": {
            "_model_module": "@jupyter-widgets/base",
            "_model_module_version": "1.2.0",
            "_model_name": "LayoutModel",
            "_view_count": null,
            "_view_module": "@jupyter-widgets/base",
            "_view_module_version": "1.2.0",
            "_view_name": "LayoutView",
            "align_content": null,
            "align_items": null,
            "align_self": null,
            "border": null,
            "bottom": null,
            "display": null,
            "flex": null,
            "flex_flow": null,
            "grid_area": null,
            "grid_auto_columns": null,
            "grid_auto_flow": null,
            "grid_auto_rows": null,
            "grid_column": null,
            "grid_gap": null,
            "grid_row": null,
            "grid_template_areas": null,
            "grid_template_columns": null,
            "grid_template_rows": null,
            "height": null,
            "justify_content": null,
            "justify_items": null,
            "left": null,
            "margin": null,
            "max_height": null,
            "max_width": null,
            "min_height": null,
            "min_width": null,
            "object_fit": null,
            "object_position": null,
            "order": null,
            "overflow": null,
            "overflow_x": null,
            "overflow_y": null,
            "padding": null,
            "right": null,
            "top": null,
            "visibility": null,
            "width": null
          }
        },
        "1914807c5885445c92b0b36f0ca4abdd": {
          "model_module": "@jupyter-widgets/controls",
          "model_name": "DescriptionStyleModel",
          "model_module_version": "1.5.0",
          "state": {
            "_model_module": "@jupyter-widgets/controls",
            "_model_module_version": "1.5.0",
            "_model_name": "DescriptionStyleModel",
            "_view_count": null,
            "_view_module": "@jupyter-widgets/base",
            "_view_module_version": "1.2.0",
            "_view_name": "StyleView",
            "description_width": ""
          }
        },
        "02d003a8d4bf4584ae1a872f1e204c6e": {
          "model_module": "@jupyter-widgets/controls",
          "model_name": "HBoxModel",
          "model_module_version": "1.5.0",
          "state": {
            "_dom_classes": [],
            "_model_module": "@jupyter-widgets/controls",
            "_model_module_version": "1.5.0",
            "_model_name": "HBoxModel",
            "_view_count": null,
            "_view_module": "@jupyter-widgets/controls",
            "_view_module_version": "1.5.0",
            "_view_name": "HBoxView",
            "box_style": "",
            "children": [
              "IPY_MODEL_ca0d290d58db4d2a8628993838684d71",
              "IPY_MODEL_7768131cd5574b3d93791fb941c1ba4a",
              "IPY_MODEL_98ef96b384db40ea8919b94ce32b29c7"
            ],
            "layout": "IPY_MODEL_d88093972ec444d0bad1ddf627674128"
          }
        },
        "ca0d290d58db4d2a8628993838684d71": {
          "model_module": "@jupyter-widgets/controls",
          "model_name": "HTMLModel",
          "model_module_version": "1.5.0",
          "state": {
            "_dom_classes": [],
            "_model_module": "@jupyter-widgets/controls",
            "_model_module_version": "1.5.0",
            "_model_name": "HTMLModel",
            "_view_count": null,
            "_view_module": "@jupyter-widgets/controls",
            "_view_module_version": "1.5.0",
            "_view_name": "HTMLView",
            "description": "",
            "description_tooltip": null,
            "layout": "IPY_MODEL_543aba14d7334003af9de8ff11b69945",
            "placeholder": "​",
            "style": "IPY_MODEL_a813f6d0a6284897b02d8eedbf3e3c79",
            "value": "Generating test split: 100%"
          }
        },
        "7768131cd5574b3d93791fb941c1ba4a": {
          "model_module": "@jupyter-widgets/controls",
          "model_name": "FloatProgressModel",
          "model_module_version": "1.5.0",
          "state": {
            "_dom_classes": [],
            "_model_module": "@jupyter-widgets/controls",
            "_model_module_version": "1.5.0",
            "_model_name": "FloatProgressModel",
            "_view_count": null,
            "_view_module": "@jupyter-widgets/controls",
            "_view_module_version": "1.5.0",
            "_view_name": "ProgressView",
            "bar_style": "success",
            "description": "",
            "description_tooltip": null,
            "layout": "IPY_MODEL_f0f45787270945a693d45979b80593f6",
            "max": 25000,
            "min": 0,
            "orientation": "horizontal",
            "style": "IPY_MODEL_3b7d0042b80248e988910e721721ebf4",
            "value": 25000
          }
        },
        "98ef96b384db40ea8919b94ce32b29c7": {
          "model_module": "@jupyter-widgets/controls",
          "model_name": "HTMLModel",
          "model_module_version": "1.5.0",
          "state": {
            "_dom_classes": [],
            "_model_module": "@jupyter-widgets/controls",
            "_model_module_version": "1.5.0",
            "_model_name": "HTMLModel",
            "_view_count": null,
            "_view_module": "@jupyter-widgets/controls",
            "_view_module_version": "1.5.0",
            "_view_name": "HTMLView",
            "description": "",
            "description_tooltip": null,
            "layout": "IPY_MODEL_1cd4c4efc85e41a5b8321d80e0f08bc3",
            "placeholder": "​",
            "style": "IPY_MODEL_8ae202f4f0764dc3a19eb2f8cc2351a3",
            "value": " 25000/25000 [00:00&lt;00:00, 113812.61 examples/s]"
          }
        },
        "d88093972ec444d0bad1ddf627674128": {
          "model_module": "@jupyter-widgets/base",
          "model_name": "LayoutModel",
          "model_module_version": "1.2.0",
          "state": {
            "_model_module": "@jupyter-widgets/base",
            "_model_module_version": "1.2.0",
            "_model_name": "LayoutModel",
            "_view_count": null,
            "_view_module": "@jupyter-widgets/base",
            "_view_module_version": "1.2.0",
            "_view_name": "LayoutView",
            "align_content": null,
            "align_items": null,
            "align_self": null,
            "border": null,
            "bottom": null,
            "display": null,
            "flex": null,
            "flex_flow": null,
            "grid_area": null,
            "grid_auto_columns": null,
            "grid_auto_flow": null,
            "grid_auto_rows": null,
            "grid_column": null,
            "grid_gap": null,
            "grid_row": null,
            "grid_template_areas": null,
            "grid_template_columns": null,
            "grid_template_rows": null,
            "height": null,
            "justify_content": null,
            "justify_items": null,
            "left": null,
            "margin": null,
            "max_height": null,
            "max_width": null,
            "min_height": null,
            "min_width": null,
            "object_fit": null,
            "object_position": null,
            "order": null,
            "overflow": null,
            "overflow_x": null,
            "overflow_y": null,
            "padding": null,
            "right": null,
            "top": null,
            "visibility": null,
            "width": null
          }
        },
        "543aba14d7334003af9de8ff11b69945": {
          "model_module": "@jupyter-widgets/base",
          "model_name": "LayoutModel",
          "model_module_version": "1.2.0",
          "state": {
            "_model_module": "@jupyter-widgets/base",
            "_model_module_version": "1.2.0",
            "_model_name": "LayoutModel",
            "_view_count": null,
            "_view_module": "@jupyter-widgets/base",
            "_view_module_version": "1.2.0",
            "_view_name": "LayoutView",
            "align_content": null,
            "align_items": null,
            "align_self": null,
            "border": null,
            "bottom": null,
            "display": null,
            "flex": null,
            "flex_flow": null,
            "grid_area": null,
            "grid_auto_columns": null,
            "grid_auto_flow": null,
            "grid_auto_rows": null,
            "grid_column": null,
            "grid_gap": null,
            "grid_row": null,
            "grid_template_areas": null,
            "grid_template_columns": null,
            "grid_template_rows": null,
            "height": null,
            "justify_content": null,
            "justify_items": null,
            "left": null,
            "margin": null,
            "max_height": null,
            "max_width": null,
            "min_height": null,
            "min_width": null,
            "object_fit": null,
            "object_position": null,
            "order": null,
            "overflow": null,
            "overflow_x": null,
            "overflow_y": null,
            "padding": null,
            "right": null,
            "top": null,
            "visibility": null,
            "width": null
          }
        },
        "a813f6d0a6284897b02d8eedbf3e3c79": {
          "model_module": "@jupyter-widgets/controls",
          "model_name": "DescriptionStyleModel",
          "model_module_version": "1.5.0",
          "state": {
            "_model_module": "@jupyter-widgets/controls",
            "_model_module_version": "1.5.0",
            "_model_name": "DescriptionStyleModel",
            "_view_count": null,
            "_view_module": "@jupyter-widgets/base",
            "_view_module_version": "1.2.0",
            "_view_name": "StyleView",
            "description_width": ""
          }
        },
        "f0f45787270945a693d45979b80593f6": {
          "model_module": "@jupyter-widgets/base",
          "model_name": "LayoutModel",
          "model_module_version": "1.2.0",
          "state": {
            "_model_module": "@jupyter-widgets/base",
            "_model_module_version": "1.2.0",
            "_model_name": "LayoutModel",
            "_view_count": null,
            "_view_module": "@jupyter-widgets/base",
            "_view_module_version": "1.2.0",
            "_view_name": "LayoutView",
            "align_content": null,
            "align_items": null,
            "align_self": null,
            "border": null,
            "bottom": null,
            "display": null,
            "flex": null,
            "flex_flow": null,
            "grid_area": null,
            "grid_auto_columns": null,
            "grid_auto_flow": null,
            "grid_auto_rows": null,
            "grid_column": null,
            "grid_gap": null,
            "grid_row": null,
            "grid_template_areas": null,
            "grid_template_columns": null,
            "grid_template_rows": null,
            "height": null,
            "justify_content": null,
            "justify_items": null,
            "left": null,
            "margin": null,
            "max_height": null,
            "max_width": null,
            "min_height": null,
            "min_width": null,
            "object_fit": null,
            "object_position": null,
            "order": null,
            "overflow": null,
            "overflow_x": null,
            "overflow_y": null,
            "padding": null,
            "right": null,
            "top": null,
            "visibility": null,
            "width": null
          }
        },
        "3b7d0042b80248e988910e721721ebf4": {
          "model_module": "@jupyter-widgets/controls",
          "model_name": "ProgressStyleModel",
          "model_module_version": "1.5.0",
          "state": {
            "_model_module": "@jupyter-widgets/controls",
            "_model_module_version": "1.5.0",
            "_model_name": "ProgressStyleModel",
            "_view_count": null,
            "_view_module": "@jupyter-widgets/base",
            "_view_module_version": "1.2.0",
            "_view_name": "StyleView",
            "bar_color": null,
            "description_width": ""
          }
        },
        "1cd4c4efc85e41a5b8321d80e0f08bc3": {
          "model_module": "@jupyter-widgets/base",
          "model_name": "LayoutModel",
          "model_module_version": "1.2.0",
          "state": {
            "_model_module": "@jupyter-widgets/base",
            "_model_module_version": "1.2.0",
            "_model_name": "LayoutModel",
            "_view_count": null,
            "_view_module": "@jupyter-widgets/base",
            "_view_module_version": "1.2.0",
            "_view_name": "LayoutView",
            "align_content": null,
            "align_items": null,
            "align_self": null,
            "border": null,
            "bottom": null,
            "display": null,
            "flex": null,
            "flex_flow": null,
            "grid_area": null,
            "grid_auto_columns": null,
            "grid_auto_flow": null,
            "grid_auto_rows": null,
            "grid_column": null,
            "grid_gap": null,
            "grid_row": null,
            "grid_template_areas": null,
            "grid_template_columns": null,
            "grid_template_rows": null,
            "height": null,
            "justify_content": null,
            "justify_items": null,
            "left": null,
            "margin": null,
            "max_height": null,
            "max_width": null,
            "min_height": null,
            "min_width": null,
            "object_fit": null,
            "object_position": null,
            "order": null,
            "overflow": null,
            "overflow_x": null,
            "overflow_y": null,
            "padding": null,
            "right": null,
            "top": null,
            "visibility": null,
            "width": null
          }
        },
        "8ae202f4f0764dc3a19eb2f8cc2351a3": {
          "model_module": "@jupyter-widgets/controls",
          "model_name": "DescriptionStyleModel",
          "model_module_version": "1.5.0",
          "state": {
            "_model_module": "@jupyter-widgets/controls",
            "_model_module_version": "1.5.0",
            "_model_name": "DescriptionStyleModel",
            "_view_count": null,
            "_view_module": "@jupyter-widgets/base",
            "_view_module_version": "1.2.0",
            "_view_name": "StyleView",
            "description_width": ""
          }
        },
        "4ce37ff0a2114d469ce7510bb9178e7e": {
          "model_module": "@jupyter-widgets/controls",
          "model_name": "HBoxModel",
          "model_module_version": "1.5.0",
          "state": {
            "_dom_classes": [],
            "_model_module": "@jupyter-widgets/controls",
            "_model_module_version": "1.5.0",
            "_model_name": "HBoxModel",
            "_view_count": null,
            "_view_module": "@jupyter-widgets/controls",
            "_view_module_version": "1.5.0",
            "_view_name": "HBoxView",
            "box_style": "",
            "children": [
              "IPY_MODEL_5341788e03ba474a86530c15ab130a06",
              "IPY_MODEL_e440ee43449546588c109fa47c6d0528",
              "IPY_MODEL_535a319a1a47448fa8776e2baf6f3a32"
            ],
            "layout": "IPY_MODEL_bed9b6edb7014b538e008a10ef91fe3c"
          }
        },
        "5341788e03ba474a86530c15ab130a06": {
          "model_module": "@jupyter-widgets/controls",
          "model_name": "HTMLModel",
          "model_module_version": "1.5.0",
          "state": {
            "_dom_classes": [],
            "_model_module": "@jupyter-widgets/controls",
            "_model_module_version": "1.5.0",
            "_model_name": "HTMLModel",
            "_view_count": null,
            "_view_module": "@jupyter-widgets/controls",
            "_view_module_version": "1.5.0",
            "_view_name": "HTMLView",
            "description": "",
            "description_tooltip": null,
            "layout": "IPY_MODEL_f14956aeb0834b1c889ee87fba5d874d",
            "placeholder": "​",
            "style": "IPY_MODEL_c527d26ee3a549acb92b2c3f0deef29f",
            "value": "Generating unsupervised split: 100%"
          }
        },
        "e440ee43449546588c109fa47c6d0528": {
          "model_module": "@jupyter-widgets/controls",
          "model_name": "FloatProgressModel",
          "model_module_version": "1.5.0",
          "state": {
            "_dom_classes": [],
            "_model_module": "@jupyter-widgets/controls",
            "_model_module_version": "1.5.0",
            "_model_name": "FloatProgressModel",
            "_view_count": null,
            "_view_module": "@jupyter-widgets/controls",
            "_view_module_version": "1.5.0",
            "_view_name": "ProgressView",
            "bar_style": "success",
            "description": "",
            "description_tooltip": null,
            "layout": "IPY_MODEL_a62f158a21864e88b7690266576c53b9",
            "max": 50000,
            "min": 0,
            "orientation": "horizontal",
            "style": "IPY_MODEL_8d846a4cfa5f4aca8edbb6cb6892449a",
            "value": 50000
          }
        },
        "535a319a1a47448fa8776e2baf6f3a32": {
          "model_module": "@jupyter-widgets/controls",
          "model_name": "HTMLModel",
          "model_module_version": "1.5.0",
          "state": {
            "_dom_classes": [],
            "_model_module": "@jupyter-widgets/controls",
            "_model_module_version": "1.5.0",
            "_model_name": "HTMLModel",
            "_view_count": null,
            "_view_module": "@jupyter-widgets/controls",
            "_view_module_version": "1.5.0",
            "_view_name": "HTMLView",
            "description": "",
            "description_tooltip": null,
            "layout": "IPY_MODEL_a064bebdea6e4416b66dd99d1732da5a",
            "placeholder": "​",
            "style": "IPY_MODEL_454bf511cd2c4c84aca9eacf2ce11f98",
            "value": " 50000/50000 [00:00&lt;00:00, 122332.45 examples/s]"
          }
        },
        "bed9b6edb7014b538e008a10ef91fe3c": {
          "model_module": "@jupyter-widgets/base",
          "model_name": "LayoutModel",
          "model_module_version": "1.2.0",
          "state": {
            "_model_module": "@jupyter-widgets/base",
            "_model_module_version": "1.2.0",
            "_model_name": "LayoutModel",
            "_view_count": null,
            "_view_module": "@jupyter-widgets/base",
            "_view_module_version": "1.2.0",
            "_view_name": "LayoutView",
            "align_content": null,
            "align_items": null,
            "align_self": null,
            "border": null,
            "bottom": null,
            "display": null,
            "flex": null,
            "flex_flow": null,
            "grid_area": null,
            "grid_auto_columns": null,
            "grid_auto_flow": null,
            "grid_auto_rows": null,
            "grid_column": null,
            "grid_gap": null,
            "grid_row": null,
            "grid_template_areas": null,
            "grid_template_columns": null,
            "grid_template_rows": null,
            "height": null,
            "justify_content": null,
            "justify_items": null,
            "left": null,
            "margin": null,
            "max_height": null,
            "max_width": null,
            "min_height": null,
            "min_width": null,
            "object_fit": null,
            "object_position": null,
            "order": null,
            "overflow": null,
            "overflow_x": null,
            "overflow_y": null,
            "padding": null,
            "right": null,
            "top": null,
            "visibility": null,
            "width": null
          }
        },
        "f14956aeb0834b1c889ee87fba5d874d": {
          "model_module": "@jupyter-widgets/base",
          "model_name": "LayoutModel",
          "model_module_version": "1.2.0",
          "state": {
            "_model_module": "@jupyter-widgets/base",
            "_model_module_version": "1.2.0",
            "_model_name": "LayoutModel",
            "_view_count": null,
            "_view_module": "@jupyter-widgets/base",
            "_view_module_version": "1.2.0",
            "_view_name": "LayoutView",
            "align_content": null,
            "align_items": null,
            "align_self": null,
            "border": null,
            "bottom": null,
            "display": null,
            "flex": null,
            "flex_flow": null,
            "grid_area": null,
            "grid_auto_columns": null,
            "grid_auto_flow": null,
            "grid_auto_rows": null,
            "grid_column": null,
            "grid_gap": null,
            "grid_row": null,
            "grid_template_areas": null,
            "grid_template_columns": null,
            "grid_template_rows": null,
            "height": null,
            "justify_content": null,
            "justify_items": null,
            "left": null,
            "margin": null,
            "max_height": null,
            "max_width": null,
            "min_height": null,
            "min_width": null,
            "object_fit": null,
            "object_position": null,
            "order": null,
            "overflow": null,
            "overflow_x": null,
            "overflow_y": null,
            "padding": null,
            "right": null,
            "top": null,
            "visibility": null,
            "width": null
          }
        },
        "c527d26ee3a549acb92b2c3f0deef29f": {
          "model_module": "@jupyter-widgets/controls",
          "model_name": "DescriptionStyleModel",
          "model_module_version": "1.5.0",
          "state": {
            "_model_module": "@jupyter-widgets/controls",
            "_model_module_version": "1.5.0",
            "_model_name": "DescriptionStyleModel",
            "_view_count": null,
            "_view_module": "@jupyter-widgets/base",
            "_view_module_version": "1.2.0",
            "_view_name": "StyleView",
            "description_width": ""
          }
        },
        "a62f158a21864e88b7690266576c53b9": {
          "model_module": "@jupyter-widgets/base",
          "model_name": "LayoutModel",
          "model_module_version": "1.2.0",
          "state": {
            "_model_module": "@jupyter-widgets/base",
            "_model_module_version": "1.2.0",
            "_model_name": "LayoutModel",
            "_view_count": null,
            "_view_module": "@jupyter-widgets/base",
            "_view_module_version": "1.2.0",
            "_view_name": "LayoutView",
            "align_content": null,
            "align_items": null,
            "align_self": null,
            "border": null,
            "bottom": null,
            "display": null,
            "flex": null,
            "flex_flow": null,
            "grid_area": null,
            "grid_auto_columns": null,
            "grid_auto_flow": null,
            "grid_auto_rows": null,
            "grid_column": null,
            "grid_gap": null,
            "grid_row": null,
            "grid_template_areas": null,
            "grid_template_columns": null,
            "grid_template_rows": null,
            "height": null,
            "justify_content": null,
            "justify_items": null,
            "left": null,
            "margin": null,
            "max_height": null,
            "max_width": null,
            "min_height": null,
            "min_width": null,
            "object_fit": null,
            "object_position": null,
            "order": null,
            "overflow": null,
            "overflow_x": null,
            "overflow_y": null,
            "padding": null,
            "right": null,
            "top": null,
            "visibility": null,
            "width": null
          }
        },
        "8d846a4cfa5f4aca8edbb6cb6892449a": {
          "model_module": "@jupyter-widgets/controls",
          "model_name": "ProgressStyleModel",
          "model_module_version": "1.5.0",
          "state": {
            "_model_module": "@jupyter-widgets/controls",
            "_model_module_version": "1.5.0",
            "_model_name": "ProgressStyleModel",
            "_view_count": null,
            "_view_module": "@jupyter-widgets/base",
            "_view_module_version": "1.2.0",
            "_view_name": "StyleView",
            "bar_color": null,
            "description_width": ""
          }
        },
        "a064bebdea6e4416b66dd99d1732da5a": {
          "model_module": "@jupyter-widgets/base",
          "model_name": "LayoutModel",
          "model_module_version": "1.2.0",
          "state": {
            "_model_module": "@jupyter-widgets/base",
            "_model_module_version": "1.2.0",
            "_model_name": "LayoutModel",
            "_view_count": null,
            "_view_module": "@jupyter-widgets/base",
            "_view_module_version": "1.2.0",
            "_view_name": "LayoutView",
            "align_content": null,
            "align_items": null,
            "align_self": null,
            "border": null,
            "bottom": null,
            "display": null,
            "flex": null,
            "flex_flow": null,
            "grid_area": null,
            "grid_auto_columns": null,
            "grid_auto_flow": null,
            "grid_auto_rows": null,
            "grid_column": null,
            "grid_gap": null,
            "grid_row": null,
            "grid_template_areas": null,
            "grid_template_columns": null,
            "grid_template_rows": null,
            "height": null,
            "justify_content": null,
            "justify_items": null,
            "left": null,
            "margin": null,
            "max_height": null,
            "max_width": null,
            "min_height": null,
            "min_width": null,
            "object_fit": null,
            "object_position": null,
            "order": null,
            "overflow": null,
            "overflow_x": null,
            "overflow_y": null,
            "padding": null,
            "right": null,
            "top": null,
            "visibility": null,
            "width": null
          }
        },
        "454bf511cd2c4c84aca9eacf2ce11f98": {
          "model_module": "@jupyter-widgets/controls",
          "model_name": "DescriptionStyleModel",
          "model_module_version": "1.5.0",
          "state": {
            "_model_module": "@jupyter-widgets/controls",
            "_model_module_version": "1.5.0",
            "_model_name": "DescriptionStyleModel",
            "_view_count": null,
            "_view_module": "@jupyter-widgets/base",
            "_view_module_version": "1.2.0",
            "_view_name": "StyleView",
            "description_width": ""
          }
        },
        "0fbb64e58ac547d29decd6cb037fa3b4": {
          "model_module": "@jupyter-widgets/controls",
          "model_name": "HBoxModel",
          "model_module_version": "1.5.0",
          "state": {
            "_dom_classes": [],
            "_model_module": "@jupyter-widgets/controls",
            "_model_module_version": "1.5.0",
            "_model_name": "HBoxModel",
            "_view_count": null,
            "_view_module": "@jupyter-widgets/controls",
            "_view_module_version": "1.5.0",
            "_view_name": "HBoxView",
            "box_style": "",
            "children": [
              "IPY_MODEL_60440a2bf2aa4d11898761a519da057a",
              "IPY_MODEL_7273c78d179c4a518812971345adfa99",
              "IPY_MODEL_05958c5ce6ff44a685a9ba7a88f9f574"
            ],
            "layout": "IPY_MODEL_4ee1f4d40ebb4672be69b11f20e53b4e"
          }
        },
        "60440a2bf2aa4d11898761a519da057a": {
          "model_module": "@jupyter-widgets/controls",
          "model_name": "HTMLModel",
          "model_module_version": "1.5.0",
          "state": {
            "_dom_classes": [],
            "_model_module": "@jupyter-widgets/controls",
            "_model_module_version": "1.5.0",
            "_model_name": "HTMLModel",
            "_view_count": null,
            "_view_module": "@jupyter-widgets/controls",
            "_view_module_version": "1.5.0",
            "_view_name": "HTMLView",
            "description": "",
            "description_tooltip": null,
            "layout": "IPY_MODEL_2b94f1087ffc4a9aa35d99af77fde61d",
            "placeholder": "​",
            "style": "IPY_MODEL_d57e0690811742438999aa092d623b12",
            "value": "tokenizer_config.json: 100%"
          }
        },
        "7273c78d179c4a518812971345adfa99": {
          "model_module": "@jupyter-widgets/controls",
          "model_name": "FloatProgressModel",
          "model_module_version": "1.5.0",
          "state": {
            "_dom_classes": [],
            "_model_module": "@jupyter-widgets/controls",
            "_model_module_version": "1.5.0",
            "_model_name": "FloatProgressModel",
            "_view_count": null,
            "_view_module": "@jupyter-widgets/controls",
            "_view_module_version": "1.5.0",
            "_view_name": "ProgressView",
            "bar_style": "success",
            "description": "",
            "description_tooltip": null,
            "layout": "IPY_MODEL_09b3407afac34ecd9b61c5b0ec4c1d3d",
            "max": 48,
            "min": 0,
            "orientation": "horizontal",
            "style": "IPY_MODEL_5b8bc41de8874fafb56ba2fa73d69d1c",
            "value": 48
          }
        },
        "05958c5ce6ff44a685a9ba7a88f9f574": {
          "model_module": "@jupyter-widgets/controls",
          "model_name": "HTMLModel",
          "model_module_version": "1.5.0",
          "state": {
            "_dom_classes": [],
            "_model_module": "@jupyter-widgets/controls",
            "_model_module_version": "1.5.0",
            "_model_name": "HTMLModel",
            "_view_count": null,
            "_view_module": "@jupyter-widgets/controls",
            "_view_module_version": "1.5.0",
            "_view_name": "HTMLView",
            "description": "",
            "description_tooltip": null,
            "layout": "IPY_MODEL_38176255bc8845aca1c5f7fba52ea9be",
            "placeholder": "​",
            "style": "IPY_MODEL_ad70920cd8bc42a88e2bfd5b7a8c24ff",
            "value": " 48.0/48.0 [00:00&lt;00:00, 4.62kB/s]"
          }
        },
        "4ee1f4d40ebb4672be69b11f20e53b4e": {
          "model_module": "@jupyter-widgets/base",
          "model_name": "LayoutModel",
          "model_module_version": "1.2.0",
          "state": {
            "_model_module": "@jupyter-widgets/base",
            "_model_module_version": "1.2.0",
            "_model_name": "LayoutModel",
            "_view_count": null,
            "_view_module": "@jupyter-widgets/base",
            "_view_module_version": "1.2.0",
            "_view_name": "LayoutView",
            "align_content": null,
            "align_items": null,
            "align_self": null,
            "border": null,
            "bottom": null,
            "display": null,
            "flex": null,
            "flex_flow": null,
            "grid_area": null,
            "grid_auto_columns": null,
            "grid_auto_flow": null,
            "grid_auto_rows": null,
            "grid_column": null,
            "grid_gap": null,
            "grid_row": null,
            "grid_template_areas": null,
            "grid_template_columns": null,
            "grid_template_rows": null,
            "height": null,
            "justify_content": null,
            "justify_items": null,
            "left": null,
            "margin": null,
            "max_height": null,
            "max_width": null,
            "min_height": null,
            "min_width": null,
            "object_fit": null,
            "object_position": null,
            "order": null,
            "overflow": null,
            "overflow_x": null,
            "overflow_y": null,
            "padding": null,
            "right": null,
            "top": null,
            "visibility": null,
            "width": null
          }
        },
        "2b94f1087ffc4a9aa35d99af77fde61d": {
          "model_module": "@jupyter-widgets/base",
          "model_name": "LayoutModel",
          "model_module_version": "1.2.0",
          "state": {
            "_model_module": "@jupyter-widgets/base",
            "_model_module_version": "1.2.0",
            "_model_name": "LayoutModel",
            "_view_count": null,
            "_view_module": "@jupyter-widgets/base",
            "_view_module_version": "1.2.0",
            "_view_name": "LayoutView",
            "align_content": null,
            "align_items": null,
            "align_self": null,
            "border": null,
            "bottom": null,
            "display": null,
            "flex": null,
            "flex_flow": null,
            "grid_area": null,
            "grid_auto_columns": null,
            "grid_auto_flow": null,
            "grid_auto_rows": null,
            "grid_column": null,
            "grid_gap": null,
            "grid_row": null,
            "grid_template_areas": null,
            "grid_template_columns": null,
            "grid_template_rows": null,
            "height": null,
            "justify_content": null,
            "justify_items": null,
            "left": null,
            "margin": null,
            "max_height": null,
            "max_width": null,
            "min_height": null,
            "min_width": null,
            "object_fit": null,
            "object_position": null,
            "order": null,
            "overflow": null,
            "overflow_x": null,
            "overflow_y": null,
            "padding": null,
            "right": null,
            "top": null,
            "visibility": null,
            "width": null
          }
        },
        "d57e0690811742438999aa092d623b12": {
          "model_module": "@jupyter-widgets/controls",
          "model_name": "DescriptionStyleModel",
          "model_module_version": "1.5.0",
          "state": {
            "_model_module": "@jupyter-widgets/controls",
            "_model_module_version": "1.5.0",
            "_model_name": "DescriptionStyleModel",
            "_view_count": null,
            "_view_module": "@jupyter-widgets/base",
            "_view_module_version": "1.2.0",
            "_view_name": "StyleView",
            "description_width": ""
          }
        },
        "09b3407afac34ecd9b61c5b0ec4c1d3d": {
          "model_module": "@jupyter-widgets/base",
          "model_name": "LayoutModel",
          "model_module_version": "1.2.0",
          "state": {
            "_model_module": "@jupyter-widgets/base",
            "_model_module_version": "1.2.0",
            "_model_name": "LayoutModel",
            "_view_count": null,
            "_view_module": "@jupyter-widgets/base",
            "_view_module_version": "1.2.0",
            "_view_name": "LayoutView",
            "align_content": null,
            "align_items": null,
            "align_self": null,
            "border": null,
            "bottom": null,
            "display": null,
            "flex": null,
            "flex_flow": null,
            "grid_area": null,
            "grid_auto_columns": null,
            "grid_auto_flow": null,
            "grid_auto_rows": null,
            "grid_column": null,
            "grid_gap": null,
            "grid_row": null,
            "grid_template_areas": null,
            "grid_template_columns": null,
            "grid_template_rows": null,
            "height": null,
            "justify_content": null,
            "justify_items": null,
            "left": null,
            "margin": null,
            "max_height": null,
            "max_width": null,
            "min_height": null,
            "min_width": null,
            "object_fit": null,
            "object_position": null,
            "order": null,
            "overflow": null,
            "overflow_x": null,
            "overflow_y": null,
            "padding": null,
            "right": null,
            "top": null,
            "visibility": null,
            "width": null
          }
        },
        "5b8bc41de8874fafb56ba2fa73d69d1c": {
          "model_module": "@jupyter-widgets/controls",
          "model_name": "ProgressStyleModel",
          "model_module_version": "1.5.0",
          "state": {
            "_model_module": "@jupyter-widgets/controls",
            "_model_module_version": "1.5.0",
            "_model_name": "ProgressStyleModel",
            "_view_count": null,
            "_view_module": "@jupyter-widgets/base",
            "_view_module_version": "1.2.0",
            "_view_name": "StyleView",
            "bar_color": null,
            "description_width": ""
          }
        },
        "38176255bc8845aca1c5f7fba52ea9be": {
          "model_module": "@jupyter-widgets/base",
          "model_name": "LayoutModel",
          "model_module_version": "1.2.0",
          "state": {
            "_model_module": "@jupyter-widgets/base",
            "_model_module_version": "1.2.0",
            "_model_name": "LayoutModel",
            "_view_count": null,
            "_view_module": "@jupyter-widgets/base",
            "_view_module_version": "1.2.0",
            "_view_name": "LayoutView",
            "align_content": null,
            "align_items": null,
            "align_self": null,
            "border": null,
            "bottom": null,
            "display": null,
            "flex": null,
            "flex_flow": null,
            "grid_area": null,
            "grid_auto_columns": null,
            "grid_auto_flow": null,
            "grid_auto_rows": null,
            "grid_column": null,
            "grid_gap": null,
            "grid_row": null,
            "grid_template_areas": null,
            "grid_template_columns": null,
            "grid_template_rows": null,
            "height": null,
            "justify_content": null,
            "justify_items": null,
            "left": null,
            "margin": null,
            "max_height": null,
            "max_width": null,
            "min_height": null,
            "min_width": null,
            "object_fit": null,
            "object_position": null,
            "order": null,
            "overflow": null,
            "overflow_x": null,
            "overflow_y": null,
            "padding": null,
            "right": null,
            "top": null,
            "visibility": null,
            "width": null
          }
        },
        "ad70920cd8bc42a88e2bfd5b7a8c24ff": {
          "model_module": "@jupyter-widgets/controls",
          "model_name": "DescriptionStyleModel",
          "model_module_version": "1.5.0",
          "state": {
            "_model_module": "@jupyter-widgets/controls",
            "_model_module_version": "1.5.0",
            "_model_name": "DescriptionStyleModel",
            "_view_count": null,
            "_view_module": "@jupyter-widgets/base",
            "_view_module_version": "1.2.0",
            "_view_name": "StyleView",
            "description_width": ""
          }
        },
        "3e505a58021241b6ac88ec636bdfa549": {
          "model_module": "@jupyter-widgets/controls",
          "model_name": "HBoxModel",
          "model_module_version": "1.5.0",
          "state": {
            "_dom_classes": [],
            "_model_module": "@jupyter-widgets/controls",
            "_model_module_version": "1.5.0",
            "_model_name": "HBoxModel",
            "_view_count": null,
            "_view_module": "@jupyter-widgets/controls",
            "_view_module_version": "1.5.0",
            "_view_name": "HBoxView",
            "box_style": "",
            "children": [
              "IPY_MODEL_e272864773af473386bea04a998c6846",
              "IPY_MODEL_36000ad82a4d45c993fb7d1d12d6247c",
              "IPY_MODEL_4c1d1e8893864f5d929c85a8fc821f18"
            ],
            "layout": "IPY_MODEL_ea44be87f5314055ba2d73343f983e76"
          }
        },
        "e272864773af473386bea04a998c6846": {
          "model_module": "@jupyter-widgets/controls",
          "model_name": "HTMLModel",
          "model_module_version": "1.5.0",
          "state": {
            "_dom_classes": [],
            "_model_module": "@jupyter-widgets/controls",
            "_model_module_version": "1.5.0",
            "_model_name": "HTMLModel",
            "_view_count": null,
            "_view_module": "@jupyter-widgets/controls",
            "_view_module_version": "1.5.0",
            "_view_name": "HTMLView",
            "description": "",
            "description_tooltip": null,
            "layout": "IPY_MODEL_6d79872e13d14399ad0bc57c50719bdc",
            "placeholder": "​",
            "style": "IPY_MODEL_96683155f6124769985c14ab05b3107c",
            "value": "vocab.txt: 100%"
          }
        },
        "36000ad82a4d45c993fb7d1d12d6247c": {
          "model_module": "@jupyter-widgets/controls",
          "model_name": "FloatProgressModel",
          "model_module_version": "1.5.0",
          "state": {
            "_dom_classes": [],
            "_model_module": "@jupyter-widgets/controls",
            "_model_module_version": "1.5.0",
            "_model_name": "FloatProgressModel",
            "_view_count": null,
            "_view_module": "@jupyter-widgets/controls",
            "_view_module_version": "1.5.0",
            "_view_name": "ProgressView",
            "bar_style": "success",
            "description": "",
            "description_tooltip": null,
            "layout": "IPY_MODEL_21129486a1ed41ef8c37659980b55d6b",
            "max": 231508,
            "min": 0,
            "orientation": "horizontal",
            "style": "IPY_MODEL_f19e9fc187374c7dadb95d2c652d00ca",
            "value": 231508
          }
        },
        "4c1d1e8893864f5d929c85a8fc821f18": {
          "model_module": "@jupyter-widgets/controls",
          "model_name": "HTMLModel",
          "model_module_version": "1.5.0",
          "state": {
            "_dom_classes": [],
            "_model_module": "@jupyter-widgets/controls",
            "_model_module_version": "1.5.0",
            "_model_name": "HTMLModel",
            "_view_count": null,
            "_view_module": "@jupyter-widgets/controls",
            "_view_module_version": "1.5.0",
            "_view_name": "HTMLView",
            "description": "",
            "description_tooltip": null,
            "layout": "IPY_MODEL_3cd8ec65915a40cb9d38def9f5bf9471",
            "placeholder": "​",
            "style": "IPY_MODEL_08d35082b295406190bffec386d5596a",
            "value": " 232k/232k [00:00&lt;00:00, 3.17MB/s]"
          }
        },
        "ea44be87f5314055ba2d73343f983e76": {
          "model_module": "@jupyter-widgets/base",
          "model_name": "LayoutModel",
          "model_module_version": "1.2.0",
          "state": {
            "_model_module": "@jupyter-widgets/base",
            "_model_module_version": "1.2.0",
            "_model_name": "LayoutModel",
            "_view_count": null,
            "_view_module": "@jupyter-widgets/base",
            "_view_module_version": "1.2.0",
            "_view_name": "LayoutView",
            "align_content": null,
            "align_items": null,
            "align_self": null,
            "border": null,
            "bottom": null,
            "display": null,
            "flex": null,
            "flex_flow": null,
            "grid_area": null,
            "grid_auto_columns": null,
            "grid_auto_flow": null,
            "grid_auto_rows": null,
            "grid_column": null,
            "grid_gap": null,
            "grid_row": null,
            "grid_template_areas": null,
            "grid_template_columns": null,
            "grid_template_rows": null,
            "height": null,
            "justify_content": null,
            "justify_items": null,
            "left": null,
            "margin": null,
            "max_height": null,
            "max_width": null,
            "min_height": null,
            "min_width": null,
            "object_fit": null,
            "object_position": null,
            "order": null,
            "overflow": null,
            "overflow_x": null,
            "overflow_y": null,
            "padding": null,
            "right": null,
            "top": null,
            "visibility": null,
            "width": null
          }
        },
        "6d79872e13d14399ad0bc57c50719bdc": {
          "model_module": "@jupyter-widgets/base",
          "model_name": "LayoutModel",
          "model_module_version": "1.2.0",
          "state": {
            "_model_module": "@jupyter-widgets/base",
            "_model_module_version": "1.2.0",
            "_model_name": "LayoutModel",
            "_view_count": null,
            "_view_module": "@jupyter-widgets/base",
            "_view_module_version": "1.2.0",
            "_view_name": "LayoutView",
            "align_content": null,
            "align_items": null,
            "align_self": null,
            "border": null,
            "bottom": null,
            "display": null,
            "flex": null,
            "flex_flow": null,
            "grid_area": null,
            "grid_auto_columns": null,
            "grid_auto_flow": null,
            "grid_auto_rows": null,
            "grid_column": null,
            "grid_gap": null,
            "grid_row": null,
            "grid_template_areas": null,
            "grid_template_columns": null,
            "grid_template_rows": null,
            "height": null,
            "justify_content": null,
            "justify_items": null,
            "left": null,
            "margin": null,
            "max_height": null,
            "max_width": null,
            "min_height": null,
            "min_width": null,
            "object_fit": null,
            "object_position": null,
            "order": null,
            "overflow": null,
            "overflow_x": null,
            "overflow_y": null,
            "padding": null,
            "right": null,
            "top": null,
            "visibility": null,
            "width": null
          }
        },
        "96683155f6124769985c14ab05b3107c": {
          "model_module": "@jupyter-widgets/controls",
          "model_name": "DescriptionStyleModel",
          "model_module_version": "1.5.0",
          "state": {
            "_model_module": "@jupyter-widgets/controls",
            "_model_module_version": "1.5.0",
            "_model_name": "DescriptionStyleModel",
            "_view_count": null,
            "_view_module": "@jupyter-widgets/base",
            "_view_module_version": "1.2.0",
            "_view_name": "StyleView",
            "description_width": ""
          }
        },
        "21129486a1ed41ef8c37659980b55d6b": {
          "model_module": "@jupyter-widgets/base",
          "model_name": "LayoutModel",
          "model_module_version": "1.2.0",
          "state": {
            "_model_module": "@jupyter-widgets/base",
            "_model_module_version": "1.2.0",
            "_model_name": "LayoutModel",
            "_view_count": null,
            "_view_module": "@jupyter-widgets/base",
            "_view_module_version": "1.2.0",
            "_view_name": "LayoutView",
            "align_content": null,
            "align_items": null,
            "align_self": null,
            "border": null,
            "bottom": null,
            "display": null,
            "flex": null,
            "flex_flow": null,
            "grid_area": null,
            "grid_auto_columns": null,
            "grid_auto_flow": null,
            "grid_auto_rows": null,
            "grid_column": null,
            "grid_gap": null,
            "grid_row": null,
            "grid_template_areas": null,
            "grid_template_columns": null,
            "grid_template_rows": null,
            "height": null,
            "justify_content": null,
            "justify_items": null,
            "left": null,
            "margin": null,
            "max_height": null,
            "max_width": null,
            "min_height": null,
            "min_width": null,
            "object_fit": null,
            "object_position": null,
            "order": null,
            "overflow": null,
            "overflow_x": null,
            "overflow_y": null,
            "padding": null,
            "right": null,
            "top": null,
            "visibility": null,
            "width": null
          }
        },
        "f19e9fc187374c7dadb95d2c652d00ca": {
          "model_module": "@jupyter-widgets/controls",
          "model_name": "ProgressStyleModel",
          "model_module_version": "1.5.0",
          "state": {
            "_model_module": "@jupyter-widgets/controls",
            "_model_module_version": "1.5.0",
            "_model_name": "ProgressStyleModel",
            "_view_count": null,
            "_view_module": "@jupyter-widgets/base",
            "_view_module_version": "1.2.0",
            "_view_name": "StyleView",
            "bar_color": null,
            "description_width": ""
          }
        },
        "3cd8ec65915a40cb9d38def9f5bf9471": {
          "model_module": "@jupyter-widgets/base",
          "model_name": "LayoutModel",
          "model_module_version": "1.2.0",
          "state": {
            "_model_module": "@jupyter-widgets/base",
            "_model_module_version": "1.2.0",
            "_model_name": "LayoutModel",
            "_view_count": null,
            "_view_module": "@jupyter-widgets/base",
            "_view_module_version": "1.2.0",
            "_view_name": "LayoutView",
            "align_content": null,
            "align_items": null,
            "align_self": null,
            "border": null,
            "bottom": null,
            "display": null,
            "flex": null,
            "flex_flow": null,
            "grid_area": null,
            "grid_auto_columns": null,
            "grid_auto_flow": null,
            "grid_auto_rows": null,
            "grid_column": null,
            "grid_gap": null,
            "grid_row": null,
            "grid_template_areas": null,
            "grid_template_columns": null,
            "grid_template_rows": null,
            "height": null,
            "justify_content": null,
            "justify_items": null,
            "left": null,
            "margin": null,
            "max_height": null,
            "max_width": null,
            "min_height": null,
            "min_width": null,
            "object_fit": null,
            "object_position": null,
            "order": null,
            "overflow": null,
            "overflow_x": null,
            "overflow_y": null,
            "padding": null,
            "right": null,
            "top": null,
            "visibility": null,
            "width": null
          }
        },
        "08d35082b295406190bffec386d5596a": {
          "model_module": "@jupyter-widgets/controls",
          "model_name": "DescriptionStyleModel",
          "model_module_version": "1.5.0",
          "state": {
            "_model_module": "@jupyter-widgets/controls",
            "_model_module_version": "1.5.0",
            "_model_name": "DescriptionStyleModel",
            "_view_count": null,
            "_view_module": "@jupyter-widgets/base",
            "_view_module_version": "1.2.0",
            "_view_name": "StyleView",
            "description_width": ""
          }
        },
        "1d9fc8b263594ee0b542f8fccd6f6cfd": {
          "model_module": "@jupyter-widgets/controls",
          "model_name": "HBoxModel",
          "model_module_version": "1.5.0",
          "state": {
            "_dom_classes": [],
            "_model_module": "@jupyter-widgets/controls",
            "_model_module_version": "1.5.0",
            "_model_name": "HBoxModel",
            "_view_count": null,
            "_view_module": "@jupyter-widgets/controls",
            "_view_module_version": "1.5.0",
            "_view_name": "HBoxView",
            "box_style": "",
            "children": [
              "IPY_MODEL_28ead8b2a1bf464786729bea6a7df072",
              "IPY_MODEL_f2403b54d4ec4641ab8bbe119a7d2302",
              "IPY_MODEL_fbe05f42bb4c4174b849c67638118a38"
            ],
            "layout": "IPY_MODEL_3c02b3a741794183ae3af7152ba32c2f"
          }
        },
        "28ead8b2a1bf464786729bea6a7df072": {
          "model_module": "@jupyter-widgets/controls",
          "model_name": "HTMLModel",
          "model_module_version": "1.5.0",
          "state": {
            "_dom_classes": [],
            "_model_module": "@jupyter-widgets/controls",
            "_model_module_version": "1.5.0",
            "_model_name": "HTMLModel",
            "_view_count": null,
            "_view_module": "@jupyter-widgets/controls",
            "_view_module_version": "1.5.0",
            "_view_name": "HTMLView",
            "description": "",
            "description_tooltip": null,
            "layout": "IPY_MODEL_7a7d0048e7e440e2b9e51d95d66194ef",
            "placeholder": "​",
            "style": "IPY_MODEL_19f92edc2ba346f684967c7ff4713422",
            "value": "tokenizer.json: 100%"
          }
        },
        "f2403b54d4ec4641ab8bbe119a7d2302": {
          "model_module": "@jupyter-widgets/controls",
          "model_name": "FloatProgressModel",
          "model_module_version": "1.5.0",
          "state": {
            "_dom_classes": [],
            "_model_module": "@jupyter-widgets/controls",
            "_model_module_version": "1.5.0",
            "_model_name": "FloatProgressModel",
            "_view_count": null,
            "_view_module": "@jupyter-widgets/controls",
            "_view_module_version": "1.5.0",
            "_view_name": "ProgressView",
            "bar_style": "success",
            "description": "",
            "description_tooltip": null,
            "layout": "IPY_MODEL_2fec51ef685e4f15a8de9fd113d072c1",
            "max": 466062,
            "min": 0,
            "orientation": "horizontal",
            "style": "IPY_MODEL_6ab3ed4da9e84221befe4206919541f2",
            "value": 466062
          }
        },
        "fbe05f42bb4c4174b849c67638118a38": {
          "model_module": "@jupyter-widgets/controls",
          "model_name": "HTMLModel",
          "model_module_version": "1.5.0",
          "state": {
            "_dom_classes": [],
            "_model_module": "@jupyter-widgets/controls",
            "_model_module_version": "1.5.0",
            "_model_name": "HTMLModel",
            "_view_count": null,
            "_view_module": "@jupyter-widgets/controls",
            "_view_module_version": "1.5.0",
            "_view_name": "HTMLView",
            "description": "",
            "description_tooltip": null,
            "layout": "IPY_MODEL_b1246b57b35547a78d1821098f6b05dd",
            "placeholder": "​",
            "style": "IPY_MODEL_944408f884b04fe7bde33c9c83271bb3",
            "value": " 466k/466k [00:00&lt;00:00, 7.02MB/s]"
          }
        },
        "3c02b3a741794183ae3af7152ba32c2f": {
          "model_module": "@jupyter-widgets/base",
          "model_name": "LayoutModel",
          "model_module_version": "1.2.0",
          "state": {
            "_model_module": "@jupyter-widgets/base",
            "_model_module_version": "1.2.0",
            "_model_name": "LayoutModel",
            "_view_count": null,
            "_view_module": "@jupyter-widgets/base",
            "_view_module_version": "1.2.0",
            "_view_name": "LayoutView",
            "align_content": null,
            "align_items": null,
            "align_self": null,
            "border": null,
            "bottom": null,
            "display": null,
            "flex": null,
            "flex_flow": null,
            "grid_area": null,
            "grid_auto_columns": null,
            "grid_auto_flow": null,
            "grid_auto_rows": null,
            "grid_column": null,
            "grid_gap": null,
            "grid_row": null,
            "grid_template_areas": null,
            "grid_template_columns": null,
            "grid_template_rows": null,
            "height": null,
            "justify_content": null,
            "justify_items": null,
            "left": null,
            "margin": null,
            "max_height": null,
            "max_width": null,
            "min_height": null,
            "min_width": null,
            "object_fit": null,
            "object_position": null,
            "order": null,
            "overflow": null,
            "overflow_x": null,
            "overflow_y": null,
            "padding": null,
            "right": null,
            "top": null,
            "visibility": null,
            "width": null
          }
        },
        "7a7d0048e7e440e2b9e51d95d66194ef": {
          "model_module": "@jupyter-widgets/base",
          "model_name": "LayoutModel",
          "model_module_version": "1.2.0",
          "state": {
            "_model_module": "@jupyter-widgets/base",
            "_model_module_version": "1.2.0",
            "_model_name": "LayoutModel",
            "_view_count": null,
            "_view_module": "@jupyter-widgets/base",
            "_view_module_version": "1.2.0",
            "_view_name": "LayoutView",
            "align_content": null,
            "align_items": null,
            "align_self": null,
            "border": null,
            "bottom": null,
            "display": null,
            "flex": null,
            "flex_flow": null,
            "grid_area": null,
            "grid_auto_columns": null,
            "grid_auto_flow": null,
            "grid_auto_rows": null,
            "grid_column": null,
            "grid_gap": null,
            "grid_row": null,
            "grid_template_areas": null,
            "grid_template_columns": null,
            "grid_template_rows": null,
            "height": null,
            "justify_content": null,
            "justify_items": null,
            "left": null,
            "margin": null,
            "max_height": null,
            "max_width": null,
            "min_height": null,
            "min_width": null,
            "object_fit": null,
            "object_position": null,
            "order": null,
            "overflow": null,
            "overflow_x": null,
            "overflow_y": null,
            "padding": null,
            "right": null,
            "top": null,
            "visibility": null,
            "width": null
          }
        },
        "19f92edc2ba346f684967c7ff4713422": {
          "model_module": "@jupyter-widgets/controls",
          "model_name": "DescriptionStyleModel",
          "model_module_version": "1.5.0",
          "state": {
            "_model_module": "@jupyter-widgets/controls",
            "_model_module_version": "1.5.0",
            "_model_name": "DescriptionStyleModel",
            "_view_count": null,
            "_view_module": "@jupyter-widgets/base",
            "_view_module_version": "1.2.0",
            "_view_name": "StyleView",
            "description_width": ""
          }
        },
        "2fec51ef685e4f15a8de9fd113d072c1": {
          "model_module": "@jupyter-widgets/base",
          "model_name": "LayoutModel",
          "model_module_version": "1.2.0",
          "state": {
            "_model_module": "@jupyter-widgets/base",
            "_model_module_version": "1.2.0",
            "_model_name": "LayoutModel",
            "_view_count": null,
            "_view_module": "@jupyter-widgets/base",
            "_view_module_version": "1.2.0",
            "_view_name": "LayoutView",
            "align_content": null,
            "align_items": null,
            "align_self": null,
            "border": null,
            "bottom": null,
            "display": null,
            "flex": null,
            "flex_flow": null,
            "grid_area": null,
            "grid_auto_columns": null,
            "grid_auto_flow": null,
            "grid_auto_rows": null,
            "grid_column": null,
            "grid_gap": null,
            "grid_row": null,
            "grid_template_areas": null,
            "grid_template_columns": null,
            "grid_template_rows": null,
            "height": null,
            "justify_content": null,
            "justify_items": null,
            "left": null,
            "margin": null,
            "max_height": null,
            "max_width": null,
            "min_height": null,
            "min_width": null,
            "object_fit": null,
            "object_position": null,
            "order": null,
            "overflow": null,
            "overflow_x": null,
            "overflow_y": null,
            "padding": null,
            "right": null,
            "top": null,
            "visibility": null,
            "width": null
          }
        },
        "6ab3ed4da9e84221befe4206919541f2": {
          "model_module": "@jupyter-widgets/controls",
          "model_name": "ProgressStyleModel",
          "model_module_version": "1.5.0",
          "state": {
            "_model_module": "@jupyter-widgets/controls",
            "_model_module_version": "1.5.0",
            "_model_name": "ProgressStyleModel",
            "_view_count": null,
            "_view_module": "@jupyter-widgets/base",
            "_view_module_version": "1.2.0",
            "_view_name": "StyleView",
            "bar_color": null,
            "description_width": ""
          }
        },
        "b1246b57b35547a78d1821098f6b05dd": {
          "model_module": "@jupyter-widgets/base",
          "model_name": "LayoutModel",
          "model_module_version": "1.2.0",
          "state": {
            "_model_module": "@jupyter-widgets/base",
            "_model_module_version": "1.2.0",
            "_model_name": "LayoutModel",
            "_view_count": null,
            "_view_module": "@jupyter-widgets/base",
            "_view_module_version": "1.2.0",
            "_view_name": "LayoutView",
            "align_content": null,
            "align_items": null,
            "align_self": null,
            "border": null,
            "bottom": null,
            "display": null,
            "flex": null,
            "flex_flow": null,
            "grid_area": null,
            "grid_auto_columns": null,
            "grid_auto_flow": null,
            "grid_auto_rows": null,
            "grid_column": null,
            "grid_gap": null,
            "grid_row": null,
            "grid_template_areas": null,
            "grid_template_columns": null,
            "grid_template_rows": null,
            "height": null,
            "justify_content": null,
            "justify_items": null,
            "left": null,
            "margin": null,
            "max_height": null,
            "max_width": null,
            "min_height": null,
            "min_width": null,
            "object_fit": null,
            "object_position": null,
            "order": null,
            "overflow": null,
            "overflow_x": null,
            "overflow_y": null,
            "padding": null,
            "right": null,
            "top": null,
            "visibility": null,
            "width": null
          }
        },
        "944408f884b04fe7bde33c9c83271bb3": {
          "model_module": "@jupyter-widgets/controls",
          "model_name": "DescriptionStyleModel",
          "model_module_version": "1.5.0",
          "state": {
            "_model_module": "@jupyter-widgets/controls",
            "_model_module_version": "1.5.0",
            "_model_name": "DescriptionStyleModel",
            "_view_count": null,
            "_view_module": "@jupyter-widgets/base",
            "_view_module_version": "1.2.0",
            "_view_name": "StyleView",
            "description_width": ""
          }
        },
        "c103b5a2fd6f46699b4dc5347da90fde": {
          "model_module": "@jupyter-widgets/controls",
          "model_name": "HBoxModel",
          "model_module_version": "1.5.0",
          "state": {
            "_dom_classes": [],
            "_model_module": "@jupyter-widgets/controls",
            "_model_module_version": "1.5.0",
            "_model_name": "HBoxModel",
            "_view_count": null,
            "_view_module": "@jupyter-widgets/controls",
            "_view_module_version": "1.5.0",
            "_view_name": "HBoxView",
            "box_style": "",
            "children": [
              "IPY_MODEL_8cc760484de542bfacb989a372690ccf",
              "IPY_MODEL_c81e1604d45d47f88586affa5b046e7d",
              "IPY_MODEL_e8f9b80fb6384aba8b70897808a58ae5"
            ],
            "layout": "IPY_MODEL_52b803a979e5498bae0b611f6f811f65"
          }
        },
        "8cc760484de542bfacb989a372690ccf": {
          "model_module": "@jupyter-widgets/controls",
          "model_name": "HTMLModel",
          "model_module_version": "1.5.0",
          "state": {
            "_dom_classes": [],
            "_model_module": "@jupyter-widgets/controls",
            "_model_module_version": "1.5.0",
            "_model_name": "HTMLModel",
            "_view_count": null,
            "_view_module": "@jupyter-widgets/controls",
            "_view_module_version": "1.5.0",
            "_view_name": "HTMLView",
            "description": "",
            "description_tooltip": null,
            "layout": "IPY_MODEL_83fe16a142fb4bd2b9f88bd476dab27c",
            "placeholder": "​",
            "style": "IPY_MODEL_8941e110a5bc41d7b36cc9908b932efd",
            "value": "config.json: 100%"
          }
        },
        "c81e1604d45d47f88586affa5b046e7d": {
          "model_module": "@jupyter-widgets/controls",
          "model_name": "FloatProgressModel",
          "model_module_version": "1.5.0",
          "state": {
            "_dom_classes": [],
            "_model_module": "@jupyter-widgets/controls",
            "_model_module_version": "1.5.0",
            "_model_name": "FloatProgressModel",
            "_view_count": null,
            "_view_module": "@jupyter-widgets/controls",
            "_view_module_version": "1.5.0",
            "_view_name": "ProgressView",
            "bar_style": "success",
            "description": "",
            "description_tooltip": null,
            "layout": "IPY_MODEL_c96959210cff4f829e99d6f0241e0868",
            "max": 570,
            "min": 0,
            "orientation": "horizontal",
            "style": "IPY_MODEL_537fdc69682047d6bd79c4eaebe66a63",
            "value": 570
          }
        },
        "e8f9b80fb6384aba8b70897808a58ae5": {
          "model_module": "@jupyter-widgets/controls",
          "model_name": "HTMLModel",
          "model_module_version": "1.5.0",
          "state": {
            "_dom_classes": [],
            "_model_module": "@jupyter-widgets/controls",
            "_model_module_version": "1.5.0",
            "_model_name": "HTMLModel",
            "_view_count": null,
            "_view_module": "@jupyter-widgets/controls",
            "_view_module_version": "1.5.0",
            "_view_name": "HTMLView",
            "description": "",
            "description_tooltip": null,
            "layout": "IPY_MODEL_ce963fdd569b44c5b9806ce23de4a296",
            "placeholder": "​",
            "style": "IPY_MODEL_4c61fd1102a04619a816638d6d7261de",
            "value": " 570/570 [00:00&lt;00:00, 64.4kB/s]"
          }
        },
        "52b803a979e5498bae0b611f6f811f65": {
          "model_module": "@jupyter-widgets/base",
          "model_name": "LayoutModel",
          "model_module_version": "1.2.0",
          "state": {
            "_model_module": "@jupyter-widgets/base",
            "_model_module_version": "1.2.0",
            "_model_name": "LayoutModel",
            "_view_count": null,
            "_view_module": "@jupyter-widgets/base",
            "_view_module_version": "1.2.0",
            "_view_name": "LayoutView",
            "align_content": null,
            "align_items": null,
            "align_self": null,
            "border": null,
            "bottom": null,
            "display": null,
            "flex": null,
            "flex_flow": null,
            "grid_area": null,
            "grid_auto_columns": null,
            "grid_auto_flow": null,
            "grid_auto_rows": null,
            "grid_column": null,
            "grid_gap": null,
            "grid_row": null,
            "grid_template_areas": null,
            "grid_template_columns": null,
            "grid_template_rows": null,
            "height": null,
            "justify_content": null,
            "justify_items": null,
            "left": null,
            "margin": null,
            "max_height": null,
            "max_width": null,
            "min_height": null,
            "min_width": null,
            "object_fit": null,
            "object_position": null,
            "order": null,
            "overflow": null,
            "overflow_x": null,
            "overflow_y": null,
            "padding": null,
            "right": null,
            "top": null,
            "visibility": null,
            "width": null
          }
        },
        "83fe16a142fb4bd2b9f88bd476dab27c": {
          "model_module": "@jupyter-widgets/base",
          "model_name": "LayoutModel",
          "model_module_version": "1.2.0",
          "state": {
            "_model_module": "@jupyter-widgets/base",
            "_model_module_version": "1.2.0",
            "_model_name": "LayoutModel",
            "_view_count": null,
            "_view_module": "@jupyter-widgets/base",
            "_view_module_version": "1.2.0",
            "_view_name": "LayoutView",
            "align_content": null,
            "align_items": null,
            "align_self": null,
            "border": null,
            "bottom": null,
            "display": null,
            "flex": null,
            "flex_flow": null,
            "grid_area": null,
            "grid_auto_columns": null,
            "grid_auto_flow": null,
            "grid_auto_rows": null,
            "grid_column": null,
            "grid_gap": null,
            "grid_row": null,
            "grid_template_areas": null,
            "grid_template_columns": null,
            "grid_template_rows": null,
            "height": null,
            "justify_content": null,
            "justify_items": null,
            "left": null,
            "margin": null,
            "max_height": null,
            "max_width": null,
            "min_height": null,
            "min_width": null,
            "object_fit": null,
            "object_position": null,
            "order": null,
            "overflow": null,
            "overflow_x": null,
            "overflow_y": null,
            "padding": null,
            "right": null,
            "top": null,
            "visibility": null,
            "width": null
          }
        },
        "8941e110a5bc41d7b36cc9908b932efd": {
          "model_module": "@jupyter-widgets/controls",
          "model_name": "DescriptionStyleModel",
          "model_module_version": "1.5.0",
          "state": {
            "_model_module": "@jupyter-widgets/controls",
            "_model_module_version": "1.5.0",
            "_model_name": "DescriptionStyleModel",
            "_view_count": null,
            "_view_module": "@jupyter-widgets/base",
            "_view_module_version": "1.2.0",
            "_view_name": "StyleView",
            "description_width": ""
          }
        },
        "c96959210cff4f829e99d6f0241e0868": {
          "model_module": "@jupyter-widgets/base",
          "model_name": "LayoutModel",
          "model_module_version": "1.2.0",
          "state": {
            "_model_module": "@jupyter-widgets/base",
            "_model_module_version": "1.2.0",
            "_model_name": "LayoutModel",
            "_view_count": null,
            "_view_module": "@jupyter-widgets/base",
            "_view_module_version": "1.2.0",
            "_view_name": "LayoutView",
            "align_content": null,
            "align_items": null,
            "align_self": null,
            "border": null,
            "bottom": null,
            "display": null,
            "flex": null,
            "flex_flow": null,
            "grid_area": null,
            "grid_auto_columns": null,
            "grid_auto_flow": null,
            "grid_auto_rows": null,
            "grid_column": null,
            "grid_gap": null,
            "grid_row": null,
            "grid_template_areas": null,
            "grid_template_columns": null,
            "grid_template_rows": null,
            "height": null,
            "justify_content": null,
            "justify_items": null,
            "left": null,
            "margin": null,
            "max_height": null,
            "max_width": null,
            "min_height": null,
            "min_width": null,
            "object_fit": null,
            "object_position": null,
            "order": null,
            "overflow": null,
            "overflow_x": null,
            "overflow_y": null,
            "padding": null,
            "right": null,
            "top": null,
            "visibility": null,
            "width": null
          }
        },
        "537fdc69682047d6bd79c4eaebe66a63": {
          "model_module": "@jupyter-widgets/controls",
          "model_name": "ProgressStyleModel",
          "model_module_version": "1.5.0",
          "state": {
            "_model_module": "@jupyter-widgets/controls",
            "_model_module_version": "1.5.0",
            "_model_name": "ProgressStyleModel",
            "_view_count": null,
            "_view_module": "@jupyter-widgets/base",
            "_view_module_version": "1.2.0",
            "_view_name": "StyleView",
            "bar_color": null,
            "description_width": ""
          }
        },
        "ce963fdd569b44c5b9806ce23de4a296": {
          "model_module": "@jupyter-widgets/base",
          "model_name": "LayoutModel",
          "model_module_version": "1.2.0",
          "state": {
            "_model_module": "@jupyter-widgets/base",
            "_model_module_version": "1.2.0",
            "_model_name": "LayoutModel",
            "_view_count": null,
            "_view_module": "@jupyter-widgets/base",
            "_view_module_version": "1.2.0",
            "_view_name": "LayoutView",
            "align_content": null,
            "align_items": null,
            "align_self": null,
            "border": null,
            "bottom": null,
            "display": null,
            "flex": null,
            "flex_flow": null,
            "grid_area": null,
            "grid_auto_columns": null,
            "grid_auto_flow": null,
            "grid_auto_rows": null,
            "grid_column": null,
            "grid_gap": null,
            "grid_row": null,
            "grid_template_areas": null,
            "grid_template_columns": null,
            "grid_template_rows": null,
            "height": null,
            "justify_content": null,
            "justify_items": null,
            "left": null,
            "margin": null,
            "max_height": null,
            "max_width": null,
            "min_height": null,
            "min_width": null,
            "object_fit": null,
            "object_position": null,
            "order": null,
            "overflow": null,
            "overflow_x": null,
            "overflow_y": null,
            "padding": null,
            "right": null,
            "top": null,
            "visibility": null,
            "width": null
          }
        },
        "4c61fd1102a04619a816638d6d7261de": {
          "model_module": "@jupyter-widgets/controls",
          "model_name": "DescriptionStyleModel",
          "model_module_version": "1.5.0",
          "state": {
            "_model_module": "@jupyter-widgets/controls",
            "_model_module_version": "1.5.0",
            "_model_name": "DescriptionStyleModel",
            "_view_count": null,
            "_view_module": "@jupyter-widgets/base",
            "_view_module_version": "1.2.0",
            "_view_name": "StyleView",
            "description_width": ""
          }
        },
        "58e6b6fe9fc44c60abfa8f1e0ee12bb5": {
          "model_module": "@jupyter-widgets/controls",
          "model_name": "HBoxModel",
          "model_module_version": "1.5.0",
          "state": {
            "_dom_classes": [],
            "_model_module": "@jupyter-widgets/controls",
            "_model_module_version": "1.5.0",
            "_model_name": "HBoxModel",
            "_view_count": null,
            "_view_module": "@jupyter-widgets/controls",
            "_view_module_version": "1.5.0",
            "_view_name": "HBoxView",
            "box_style": "",
            "children": [
              "IPY_MODEL_50180f1e0ff84baa96dcc72416d7065d",
              "IPY_MODEL_f2d122cb1ae04d8eb59eb56d6f3051f1",
              "IPY_MODEL_dbe59daee3ec40c480af03e46baea38f"
            ],
            "layout": "IPY_MODEL_0e27f5ad7b25418ea4af927c184b0496"
          }
        },
        "50180f1e0ff84baa96dcc72416d7065d": {
          "model_module": "@jupyter-widgets/controls",
          "model_name": "HTMLModel",
          "model_module_version": "1.5.0",
          "state": {
            "_dom_classes": [],
            "_model_module": "@jupyter-widgets/controls",
            "_model_module_version": "1.5.0",
            "_model_name": "HTMLModel",
            "_view_count": null,
            "_view_module": "@jupyter-widgets/controls",
            "_view_module_version": "1.5.0",
            "_view_name": "HTMLView",
            "description": "",
            "description_tooltip": null,
            "layout": "IPY_MODEL_f5d235c6a3bb490a85d61ab341c61568",
            "placeholder": "​",
            "style": "IPY_MODEL_7819876bd40540a29b1ca315d1fce18a",
            "value": "model.safetensors: 100%"
          }
        },
        "f2d122cb1ae04d8eb59eb56d6f3051f1": {
          "model_module": "@jupyter-widgets/controls",
          "model_name": "FloatProgressModel",
          "model_module_version": "1.5.0",
          "state": {
            "_dom_classes": [],
            "_model_module": "@jupyter-widgets/controls",
            "_model_module_version": "1.5.0",
            "_model_name": "FloatProgressModel",
            "_view_count": null,
            "_view_module": "@jupyter-widgets/controls",
            "_view_module_version": "1.5.0",
            "_view_name": "ProgressView",
            "bar_style": "success",
            "description": "",
            "description_tooltip": null,
            "layout": "IPY_MODEL_15587715fb4f43048a433981463550f0",
            "max": 440449768,
            "min": 0,
            "orientation": "horizontal",
            "style": "IPY_MODEL_829b7dc548b444f7a6f7b4e7a57a527f",
            "value": 440449768
          }
        },
        "dbe59daee3ec40c480af03e46baea38f": {
          "model_module": "@jupyter-widgets/controls",
          "model_name": "HTMLModel",
          "model_module_version": "1.5.0",
          "state": {
            "_dom_classes": [],
            "_model_module": "@jupyter-widgets/controls",
            "_model_module_version": "1.5.0",
            "_model_name": "HTMLModel",
            "_view_count": null,
            "_view_module": "@jupyter-widgets/controls",
            "_view_module_version": "1.5.0",
            "_view_name": "HTMLView",
            "description": "",
            "description_tooltip": null,
            "layout": "IPY_MODEL_fc52713a1cf04dfe9795c085fb5f1c22",
            "placeholder": "​",
            "style": "IPY_MODEL_9a768ab6476e4b6394ae56bc697e2492",
            "value": " 440M/440M [00:02&lt;00:00, 205MB/s]"
          }
        },
        "0e27f5ad7b25418ea4af927c184b0496": {
          "model_module": "@jupyter-widgets/base",
          "model_name": "LayoutModel",
          "model_module_version": "1.2.0",
          "state": {
            "_model_module": "@jupyter-widgets/base",
            "_model_module_version": "1.2.0",
            "_model_name": "LayoutModel",
            "_view_count": null,
            "_view_module": "@jupyter-widgets/base",
            "_view_module_version": "1.2.0",
            "_view_name": "LayoutView",
            "align_content": null,
            "align_items": null,
            "align_self": null,
            "border": null,
            "bottom": null,
            "display": null,
            "flex": null,
            "flex_flow": null,
            "grid_area": null,
            "grid_auto_columns": null,
            "grid_auto_flow": null,
            "grid_auto_rows": null,
            "grid_column": null,
            "grid_gap": null,
            "grid_row": null,
            "grid_template_areas": null,
            "grid_template_columns": null,
            "grid_template_rows": null,
            "height": null,
            "justify_content": null,
            "justify_items": null,
            "left": null,
            "margin": null,
            "max_height": null,
            "max_width": null,
            "min_height": null,
            "min_width": null,
            "object_fit": null,
            "object_position": null,
            "order": null,
            "overflow": null,
            "overflow_x": null,
            "overflow_y": null,
            "padding": null,
            "right": null,
            "top": null,
            "visibility": null,
            "width": null
          }
        },
        "f5d235c6a3bb490a85d61ab341c61568": {
          "model_module": "@jupyter-widgets/base",
          "model_name": "LayoutModel",
          "model_module_version": "1.2.0",
          "state": {
            "_model_module": "@jupyter-widgets/base",
            "_model_module_version": "1.2.0",
            "_model_name": "LayoutModel",
            "_view_count": null,
            "_view_module": "@jupyter-widgets/base",
            "_view_module_version": "1.2.0",
            "_view_name": "LayoutView",
            "align_content": null,
            "align_items": null,
            "align_self": null,
            "border": null,
            "bottom": null,
            "display": null,
            "flex": null,
            "flex_flow": null,
            "grid_area": null,
            "grid_auto_columns": null,
            "grid_auto_flow": null,
            "grid_auto_rows": null,
            "grid_column": null,
            "grid_gap": null,
            "grid_row": null,
            "grid_template_areas": null,
            "grid_template_columns": null,
            "grid_template_rows": null,
            "height": null,
            "justify_content": null,
            "justify_items": null,
            "left": null,
            "margin": null,
            "max_height": null,
            "max_width": null,
            "min_height": null,
            "min_width": null,
            "object_fit": null,
            "object_position": null,
            "order": null,
            "overflow": null,
            "overflow_x": null,
            "overflow_y": null,
            "padding": null,
            "right": null,
            "top": null,
            "visibility": null,
            "width": null
          }
        },
        "7819876bd40540a29b1ca315d1fce18a": {
          "model_module": "@jupyter-widgets/controls",
          "model_name": "DescriptionStyleModel",
          "model_module_version": "1.5.0",
          "state": {
            "_model_module": "@jupyter-widgets/controls",
            "_model_module_version": "1.5.0",
            "_model_name": "DescriptionStyleModel",
            "_view_count": null,
            "_view_module": "@jupyter-widgets/base",
            "_view_module_version": "1.2.0",
            "_view_name": "StyleView",
            "description_width": ""
          }
        },
        "15587715fb4f43048a433981463550f0": {
          "model_module": "@jupyter-widgets/base",
          "model_name": "LayoutModel",
          "model_module_version": "1.2.0",
          "state": {
            "_model_module": "@jupyter-widgets/base",
            "_model_module_version": "1.2.0",
            "_model_name": "LayoutModel",
            "_view_count": null,
            "_view_module": "@jupyter-widgets/base",
            "_view_module_version": "1.2.0",
            "_view_name": "LayoutView",
            "align_content": null,
            "align_items": null,
            "align_self": null,
            "border": null,
            "bottom": null,
            "display": null,
            "flex": null,
            "flex_flow": null,
            "grid_area": null,
            "grid_auto_columns": null,
            "grid_auto_flow": null,
            "grid_auto_rows": null,
            "grid_column": null,
            "grid_gap": null,
            "grid_row": null,
            "grid_template_areas": null,
            "grid_template_columns": null,
            "grid_template_rows": null,
            "height": null,
            "justify_content": null,
            "justify_items": null,
            "left": null,
            "margin": null,
            "max_height": null,
            "max_width": null,
            "min_height": null,
            "min_width": null,
            "object_fit": null,
            "object_position": null,
            "order": null,
            "overflow": null,
            "overflow_x": null,
            "overflow_y": null,
            "padding": null,
            "right": null,
            "top": null,
            "visibility": null,
            "width": null
          }
        },
        "829b7dc548b444f7a6f7b4e7a57a527f": {
          "model_module": "@jupyter-widgets/controls",
          "model_name": "ProgressStyleModel",
          "model_module_version": "1.5.0",
          "state": {
            "_model_module": "@jupyter-widgets/controls",
            "_model_module_version": "1.5.0",
            "_model_name": "ProgressStyleModel",
            "_view_count": null,
            "_view_module": "@jupyter-widgets/base",
            "_view_module_version": "1.2.0",
            "_view_name": "StyleView",
            "bar_color": null,
            "description_width": ""
          }
        },
        "fc52713a1cf04dfe9795c085fb5f1c22": {
          "model_module": "@jupyter-widgets/base",
          "model_name": "LayoutModel",
          "model_module_version": "1.2.0",
          "state": {
            "_model_module": "@jupyter-widgets/base",
            "_model_module_version": "1.2.0",
            "_model_name": "LayoutModel",
            "_view_count": null,
            "_view_module": "@jupyter-widgets/base",
            "_view_module_version": "1.2.0",
            "_view_name": "LayoutView",
            "align_content": null,
            "align_items": null,
            "align_self": null,
            "border": null,
            "bottom": null,
            "display": null,
            "flex": null,
            "flex_flow": null,
            "grid_area": null,
            "grid_auto_columns": null,
            "grid_auto_flow": null,
            "grid_auto_rows": null,
            "grid_column": null,
            "grid_gap": null,
            "grid_row": null,
            "grid_template_areas": null,
            "grid_template_columns": null,
            "grid_template_rows": null,
            "height": null,
            "justify_content": null,
            "justify_items": null,
            "left": null,
            "margin": null,
            "max_height": null,
            "max_width": null,
            "min_height": null,
            "min_width": null,
            "object_fit": null,
            "object_position": null,
            "order": null,
            "overflow": null,
            "overflow_x": null,
            "overflow_y": null,
            "padding": null,
            "right": null,
            "top": null,
            "visibility": null,
            "width": null
          }
        },
        "9a768ab6476e4b6394ae56bc697e2492": {
          "model_module": "@jupyter-widgets/controls",
          "model_name": "DescriptionStyleModel",
          "model_module_version": "1.5.0",
          "state": {
            "_model_module": "@jupyter-widgets/controls",
            "_model_module_version": "1.5.0",
            "_model_name": "DescriptionStyleModel",
            "_view_count": null,
            "_view_module": "@jupyter-widgets/base",
            "_view_module_version": "1.2.0",
            "_view_name": "StyleView",
            "description_width": ""
          }
        }
      }
    }
  },
  "cells": [
    {
      "cell_type": "markdown",
      "metadata": {
        "id": "view-in-github",
        "colab_type": "text"
      },
      "source": [
        "<a href=\"https://colab.research.google.com/github/dschlesinger/experiments/blob/main/pytorch_tutorial/PyTorch_Tutorial.ipynb\" target=\"_parent\"><img src=\"https://colab.research.google.com/assets/colab-badge.svg\" alt=\"Open In Colab\"/></a>"
      ]
    },
    {
      "cell_type": "markdown",
      "source": [
        "## Random Expiriments with PyTorch\n",
        "\n",
        "### Sections\n",
        "\n",
        "- Setup\n",
        "- Compute\n",
        "- Tensors\n",
        "- Neural Networks\n"
      ],
      "metadata": {
        "id": "oAxC9KnAOSW1"
      }
    },
    {
      "cell_type": "markdown",
      "source": [
        "## Setup"
      ],
      "metadata": {
        "id": "orf7QRr0vdOE"
      }
    },
    {
      "cell_type": "code",
      "source": [
        "%pip install torch torchvision torchaudio torchmetrics tqdm # torch_xla\n",
        "%pip install datasets transformers # Hugging face"
      ],
      "metadata": {
        "collapsed": true,
        "id": "aJHYjrRE3QkE",
        "colab": {
          "base_uri": "https://localhost:8080/"
        },
        "outputId": "f3a48edd-6979-4723-d4e6-b88288653020"
      },
      "execution_count": 1,
      "outputs": [
        {
          "output_type": "stream",
          "name": "stdout",
          "text": [
            "Requirement already satisfied: torch in /usr/local/lib/python3.11/dist-packages (2.6.0+cu124)\n",
            "Requirement already satisfied: torchvision in /usr/local/lib/python3.11/dist-packages (0.21.0+cu124)\n",
            "Requirement already satisfied: torchaudio in /usr/local/lib/python3.11/dist-packages (2.6.0+cu124)\n",
            "Collecting torchmetrics\n",
            "  Downloading torchmetrics-1.7.1-py3-none-any.whl.metadata (21 kB)\n",
            "Requirement already satisfied: tqdm in /usr/local/lib/python3.11/dist-packages (4.67.1)\n",
            "Requirement already satisfied: filelock in /usr/local/lib/python3.11/dist-packages (from torch) (3.18.0)\n",
            "Requirement already satisfied: typing-extensions>=4.10.0 in /usr/local/lib/python3.11/dist-packages (from torch) (4.13.1)\n",
            "Requirement already satisfied: networkx in /usr/local/lib/python3.11/dist-packages (from torch) (3.4.2)\n",
            "Requirement already satisfied: jinja2 in /usr/local/lib/python3.11/dist-packages (from torch) (3.1.6)\n",
            "Requirement already satisfied: fsspec in /usr/local/lib/python3.11/dist-packages (from torch) (2025.3.2)\n",
            "Collecting nvidia-cuda-nvrtc-cu12==12.4.127 (from torch)\n",
            "  Downloading nvidia_cuda_nvrtc_cu12-12.4.127-py3-none-manylinux2014_x86_64.whl.metadata (1.5 kB)\n",
            "Collecting nvidia-cuda-runtime-cu12==12.4.127 (from torch)\n",
            "  Downloading nvidia_cuda_runtime_cu12-12.4.127-py3-none-manylinux2014_x86_64.whl.metadata (1.5 kB)\n",
            "Collecting nvidia-cuda-cupti-cu12==12.4.127 (from torch)\n",
            "  Downloading nvidia_cuda_cupti_cu12-12.4.127-py3-none-manylinux2014_x86_64.whl.metadata (1.6 kB)\n",
            "Collecting nvidia-cudnn-cu12==9.1.0.70 (from torch)\n",
            "  Downloading nvidia_cudnn_cu12-9.1.0.70-py3-none-manylinux2014_x86_64.whl.metadata (1.6 kB)\n",
            "Collecting nvidia-cublas-cu12==12.4.5.8 (from torch)\n",
            "  Downloading nvidia_cublas_cu12-12.4.5.8-py3-none-manylinux2014_x86_64.whl.metadata (1.5 kB)\n",
            "Collecting nvidia-cufft-cu12==11.2.1.3 (from torch)\n",
            "  Downloading nvidia_cufft_cu12-11.2.1.3-py3-none-manylinux2014_x86_64.whl.metadata (1.5 kB)\n",
            "Collecting nvidia-curand-cu12==10.3.5.147 (from torch)\n",
            "  Downloading nvidia_curand_cu12-10.3.5.147-py3-none-manylinux2014_x86_64.whl.metadata (1.5 kB)\n",
            "Collecting nvidia-cusolver-cu12==11.6.1.9 (from torch)\n",
            "  Downloading nvidia_cusolver_cu12-11.6.1.9-py3-none-manylinux2014_x86_64.whl.metadata (1.6 kB)\n",
            "Collecting nvidia-cusparse-cu12==12.3.1.170 (from torch)\n",
            "  Downloading nvidia_cusparse_cu12-12.3.1.170-py3-none-manylinux2014_x86_64.whl.metadata (1.6 kB)\n",
            "Requirement already satisfied: nvidia-cusparselt-cu12==0.6.2 in /usr/local/lib/python3.11/dist-packages (from torch) (0.6.2)\n",
            "Requirement already satisfied: nvidia-nccl-cu12==2.21.5 in /usr/local/lib/python3.11/dist-packages (from torch) (2.21.5)\n",
            "Requirement already satisfied: nvidia-nvtx-cu12==12.4.127 in /usr/local/lib/python3.11/dist-packages (from torch) (12.4.127)\n",
            "Collecting nvidia-nvjitlink-cu12==12.4.127 (from torch)\n",
            "  Downloading nvidia_nvjitlink_cu12-12.4.127-py3-none-manylinux2014_x86_64.whl.metadata (1.5 kB)\n",
            "Requirement already satisfied: triton==3.2.0 in /usr/local/lib/python3.11/dist-packages (from torch) (3.2.0)\n",
            "Requirement already satisfied: sympy==1.13.1 in /usr/local/lib/python3.11/dist-packages (from torch) (1.13.1)\n",
            "Requirement already satisfied: mpmath<1.4,>=1.1.0 in /usr/local/lib/python3.11/dist-packages (from sympy==1.13.1->torch) (1.3.0)\n",
            "Requirement already satisfied: numpy in /usr/local/lib/python3.11/dist-packages (from torchvision) (2.0.2)\n",
            "Requirement already satisfied: pillow!=8.3.*,>=5.3.0 in /usr/local/lib/python3.11/dist-packages (from torchvision) (11.1.0)\n",
            "Requirement already satisfied: packaging>17.1 in /usr/local/lib/python3.11/dist-packages (from torchmetrics) (24.2)\n",
            "Collecting lightning-utilities>=0.8.0 (from torchmetrics)\n",
            "  Downloading lightning_utilities-0.14.3-py3-none-any.whl.metadata (5.6 kB)\n",
            "Requirement already satisfied: setuptools in /usr/local/lib/python3.11/dist-packages (from lightning-utilities>=0.8.0->torchmetrics) (75.2.0)\n",
            "Requirement already satisfied: MarkupSafe>=2.0 in /usr/local/lib/python3.11/dist-packages (from jinja2->torch) (3.0.2)\n",
            "Downloading nvidia_cublas_cu12-12.4.5.8-py3-none-manylinux2014_x86_64.whl (363.4 MB)\n",
            "\u001b[2K   \u001b[90m━━━━━━━━━━━━━━━━━━━━━━━━━━━━━━━━━━━━━━━━\u001b[0m \u001b[32m363.4/363.4 MB\u001b[0m \u001b[31m3.9 MB/s\u001b[0m eta \u001b[36m0:00:00\u001b[0m\n",
            "\u001b[?25hDownloading nvidia_cuda_cupti_cu12-12.4.127-py3-none-manylinux2014_x86_64.whl (13.8 MB)\n",
            "\u001b[2K   \u001b[90m━━━━━━━━━━━━━━━━━━━━━━━━━━━━━━━━━━━━━━━━\u001b[0m \u001b[32m13.8/13.8 MB\u001b[0m \u001b[31m35.0 MB/s\u001b[0m eta \u001b[36m0:00:00\u001b[0m\n",
            "\u001b[?25hDownloading nvidia_cuda_nvrtc_cu12-12.4.127-py3-none-manylinux2014_x86_64.whl (24.6 MB)\n",
            "\u001b[2K   \u001b[90m━━━━━━━━━━━━━━━━━━━━━━━━━━━━━━━━━━━━━━━━\u001b[0m \u001b[32m24.6/24.6 MB\u001b[0m \u001b[31m36.4 MB/s\u001b[0m eta \u001b[36m0:00:00\u001b[0m\n",
            "\u001b[?25hDownloading nvidia_cuda_runtime_cu12-12.4.127-py3-none-manylinux2014_x86_64.whl (883 kB)\n",
            "\u001b[2K   \u001b[90m━━━━━━━━━━━━━━━━━━━━━━━━━━━━━━━━━━━━━━━━\u001b[0m \u001b[32m883.7/883.7 kB\u001b[0m \u001b[31m30.7 MB/s\u001b[0m eta \u001b[36m0:00:00\u001b[0m\n",
            "\u001b[?25hDownloading nvidia_cudnn_cu12-9.1.0.70-py3-none-manylinux2014_x86_64.whl (664.8 MB)\n",
            "\u001b[2K   \u001b[90m━━━━━━━━━━━━━━━━━━━━━━━━━━━━━━━━━━━━━━━━\u001b[0m \u001b[32m664.8/664.8 MB\u001b[0m \u001b[31m1.6 MB/s\u001b[0m eta \u001b[36m0:00:00\u001b[0m\n",
            "\u001b[?25hDownloading nvidia_cufft_cu12-11.2.1.3-py3-none-manylinux2014_x86_64.whl (211.5 MB)\n",
            "\u001b[2K   \u001b[90m━━━━━━━━━━━━━━━━━━━━━━━━━━━━━━━━━━━━━━━━\u001b[0m \u001b[32m211.5/211.5 MB\u001b[0m \u001b[31m5.3 MB/s\u001b[0m eta \u001b[36m0:00:00\u001b[0m\n",
            "\u001b[?25hDownloading nvidia_curand_cu12-10.3.5.147-py3-none-manylinux2014_x86_64.whl (56.3 MB)\n",
            "\u001b[2K   \u001b[90m━━━━━━━━━━━━━━━━━━━━━━━━━━━━━━━━━━━━━━━━\u001b[0m \u001b[32m56.3/56.3 MB\u001b[0m \u001b[31m14.5 MB/s\u001b[0m eta \u001b[36m0:00:00\u001b[0m\n",
            "\u001b[?25hDownloading nvidia_cusolver_cu12-11.6.1.9-py3-none-manylinux2014_x86_64.whl (127.9 MB)\n",
            "\u001b[2K   \u001b[90m━━━━━━━━━━━━━━━━━━━━━━━━━━━━━━━━━━━━━━━━\u001b[0m \u001b[32m127.9/127.9 MB\u001b[0m \u001b[31m7.3 MB/s\u001b[0m eta \u001b[36m0:00:00\u001b[0m\n",
            "\u001b[?25hDownloading nvidia_cusparse_cu12-12.3.1.170-py3-none-manylinux2014_x86_64.whl (207.5 MB)\n",
            "\u001b[2K   \u001b[90m━━━━━━━━━━━━━━━━━━━━━━━━━━━━━━━━━━━━━━━━\u001b[0m \u001b[32m207.5/207.5 MB\u001b[0m \u001b[31m5.8 MB/s\u001b[0m eta \u001b[36m0:00:00\u001b[0m\n",
            "\u001b[?25hDownloading nvidia_nvjitlink_cu12-12.4.127-py3-none-manylinux2014_x86_64.whl (21.1 MB)\n",
            "\u001b[2K   \u001b[90m━━━━━━━━━━━━━━━━━━━━━━━━━━━━━━━━━━━━━━━━\u001b[0m \u001b[32m21.1/21.1 MB\u001b[0m \u001b[31m95.0 MB/s\u001b[0m eta \u001b[36m0:00:00\u001b[0m\n",
            "\u001b[?25hDownloading torchmetrics-1.7.1-py3-none-any.whl (961 kB)\n",
            "\u001b[2K   \u001b[90m━━━━━━━━━━━━━━━━━━━━━━━━━━━━━━━━━━━━━━━━\u001b[0m \u001b[32m961.5/961.5 kB\u001b[0m \u001b[31m59.7 MB/s\u001b[0m eta \u001b[36m0:00:00\u001b[0m\n",
            "\u001b[?25hDownloading lightning_utilities-0.14.3-py3-none-any.whl (28 kB)\n",
            "Installing collected packages: nvidia-nvjitlink-cu12, nvidia-curand-cu12, nvidia-cufft-cu12, nvidia-cuda-runtime-cu12, nvidia-cuda-nvrtc-cu12, nvidia-cuda-cupti-cu12, nvidia-cublas-cu12, lightning-utilities, nvidia-cusparse-cu12, nvidia-cudnn-cu12, nvidia-cusolver-cu12, torchmetrics\n",
            "  Attempting uninstall: nvidia-nvjitlink-cu12\n",
            "    Found existing installation: nvidia-nvjitlink-cu12 12.5.82\n",
            "    Uninstalling nvidia-nvjitlink-cu12-12.5.82:\n",
            "      Successfully uninstalled nvidia-nvjitlink-cu12-12.5.82\n",
            "  Attempting uninstall: nvidia-curand-cu12\n",
            "    Found existing installation: nvidia-curand-cu12 10.3.6.82\n",
            "    Uninstalling nvidia-curand-cu12-10.3.6.82:\n",
            "      Successfully uninstalled nvidia-curand-cu12-10.3.6.82\n",
            "  Attempting uninstall: nvidia-cufft-cu12\n",
            "    Found existing installation: nvidia-cufft-cu12 11.2.3.61\n",
            "    Uninstalling nvidia-cufft-cu12-11.2.3.61:\n",
            "      Successfully uninstalled nvidia-cufft-cu12-11.2.3.61\n",
            "  Attempting uninstall: nvidia-cuda-runtime-cu12\n",
            "    Found existing installation: nvidia-cuda-runtime-cu12 12.5.82\n",
            "    Uninstalling nvidia-cuda-runtime-cu12-12.5.82:\n",
            "      Successfully uninstalled nvidia-cuda-runtime-cu12-12.5.82\n",
            "  Attempting uninstall: nvidia-cuda-nvrtc-cu12\n",
            "    Found existing installation: nvidia-cuda-nvrtc-cu12 12.5.82\n",
            "    Uninstalling nvidia-cuda-nvrtc-cu12-12.5.82:\n",
            "      Successfully uninstalled nvidia-cuda-nvrtc-cu12-12.5.82\n",
            "  Attempting uninstall: nvidia-cuda-cupti-cu12\n",
            "    Found existing installation: nvidia-cuda-cupti-cu12 12.5.82\n",
            "    Uninstalling nvidia-cuda-cupti-cu12-12.5.82:\n",
            "      Successfully uninstalled nvidia-cuda-cupti-cu12-12.5.82\n",
            "  Attempting uninstall: nvidia-cublas-cu12\n",
            "    Found existing installation: nvidia-cublas-cu12 12.5.3.2\n",
            "    Uninstalling nvidia-cublas-cu12-12.5.3.2:\n",
            "      Successfully uninstalled nvidia-cublas-cu12-12.5.3.2\n",
            "  Attempting uninstall: nvidia-cusparse-cu12\n",
            "    Found existing installation: nvidia-cusparse-cu12 12.5.1.3\n",
            "    Uninstalling nvidia-cusparse-cu12-12.5.1.3:\n",
            "      Successfully uninstalled nvidia-cusparse-cu12-12.5.1.3\n",
            "  Attempting uninstall: nvidia-cudnn-cu12\n",
            "    Found existing installation: nvidia-cudnn-cu12 9.3.0.75\n",
            "    Uninstalling nvidia-cudnn-cu12-9.3.0.75:\n",
            "      Successfully uninstalled nvidia-cudnn-cu12-9.3.0.75\n",
            "  Attempting uninstall: nvidia-cusolver-cu12\n",
            "    Found existing installation: nvidia-cusolver-cu12 11.6.3.83\n",
            "    Uninstalling nvidia-cusolver-cu12-11.6.3.83:\n",
            "      Successfully uninstalled nvidia-cusolver-cu12-11.6.3.83\n",
            "Successfully installed lightning-utilities-0.14.3 nvidia-cublas-cu12-12.4.5.8 nvidia-cuda-cupti-cu12-12.4.127 nvidia-cuda-nvrtc-cu12-12.4.127 nvidia-cuda-runtime-cu12-12.4.127 nvidia-cudnn-cu12-9.1.0.70 nvidia-cufft-cu12-11.2.1.3 nvidia-curand-cu12-10.3.5.147 nvidia-cusolver-cu12-11.6.1.9 nvidia-cusparse-cu12-12.3.1.170 nvidia-nvjitlink-cu12-12.4.127 torchmetrics-1.7.1\n",
            "Collecting datasets\n",
            "  Downloading datasets-3.5.0-py3-none-any.whl.metadata (19 kB)\n",
            "Requirement already satisfied: transformers in /usr/local/lib/python3.11/dist-packages (4.50.3)\n",
            "Requirement already satisfied: filelock in /usr/local/lib/python3.11/dist-packages (from datasets) (3.18.0)\n",
            "Requirement already satisfied: numpy>=1.17 in /usr/local/lib/python3.11/dist-packages (from datasets) (2.0.2)\n",
            "Requirement already satisfied: pyarrow>=15.0.0 in /usr/local/lib/python3.11/dist-packages (from datasets) (18.1.0)\n",
            "Collecting dill<0.3.9,>=0.3.0 (from datasets)\n",
            "  Downloading dill-0.3.8-py3-none-any.whl.metadata (10 kB)\n",
            "Requirement already satisfied: pandas in /usr/local/lib/python3.11/dist-packages (from datasets) (2.2.2)\n",
            "Requirement already satisfied: requests>=2.32.2 in /usr/local/lib/python3.11/dist-packages (from datasets) (2.32.3)\n",
            "Requirement already satisfied: tqdm>=4.66.3 in /usr/local/lib/python3.11/dist-packages (from datasets) (4.67.1)\n",
            "Collecting xxhash (from datasets)\n",
            "  Downloading xxhash-3.5.0-cp311-cp311-manylinux_2_17_x86_64.manylinux2014_x86_64.whl.metadata (12 kB)\n",
            "Collecting multiprocess<0.70.17 (from datasets)\n",
            "  Downloading multiprocess-0.70.16-py311-none-any.whl.metadata (7.2 kB)\n",
            "Collecting fsspec<=2024.12.0,>=2023.1.0 (from fsspec[http]<=2024.12.0,>=2023.1.0->datasets)\n",
            "  Downloading fsspec-2024.12.0-py3-none-any.whl.metadata (11 kB)\n",
            "Requirement already satisfied: aiohttp in /usr/local/lib/python3.11/dist-packages (from datasets) (3.11.15)\n",
            "Requirement already satisfied: huggingface-hub>=0.24.0 in /usr/local/lib/python3.11/dist-packages (from datasets) (0.30.1)\n",
            "Requirement already satisfied: packaging in /usr/local/lib/python3.11/dist-packages (from datasets) (24.2)\n",
            "Requirement already satisfied: pyyaml>=5.1 in /usr/local/lib/python3.11/dist-packages (from datasets) (6.0.2)\n",
            "Requirement already satisfied: regex!=2019.12.17 in /usr/local/lib/python3.11/dist-packages (from transformers) (2024.11.6)\n",
            "Requirement already satisfied: tokenizers<0.22,>=0.21 in /usr/local/lib/python3.11/dist-packages (from transformers) (0.21.1)\n",
            "Requirement already satisfied: safetensors>=0.4.3 in /usr/local/lib/python3.11/dist-packages (from transformers) (0.5.3)\n",
            "Requirement already satisfied: aiohappyeyeballs>=2.3.0 in /usr/local/lib/python3.11/dist-packages (from aiohttp->datasets) (2.6.1)\n",
            "Requirement already satisfied: aiosignal>=1.1.2 in /usr/local/lib/python3.11/dist-packages (from aiohttp->datasets) (1.3.2)\n",
            "Requirement already satisfied: attrs>=17.3.0 in /usr/local/lib/python3.11/dist-packages (from aiohttp->datasets) (25.3.0)\n",
            "Requirement already satisfied: frozenlist>=1.1.1 in /usr/local/lib/python3.11/dist-packages (from aiohttp->datasets) (1.5.0)\n",
            "Requirement already satisfied: multidict<7.0,>=4.5 in /usr/local/lib/python3.11/dist-packages (from aiohttp->datasets) (6.3.2)\n",
            "Requirement already satisfied: propcache>=0.2.0 in /usr/local/lib/python3.11/dist-packages (from aiohttp->datasets) (0.3.1)\n",
            "Requirement already satisfied: yarl<2.0,>=1.17.0 in /usr/local/lib/python3.11/dist-packages (from aiohttp->datasets) (1.18.3)\n",
            "Requirement already satisfied: typing-extensions>=3.7.4.3 in /usr/local/lib/python3.11/dist-packages (from huggingface-hub>=0.24.0->datasets) (4.13.1)\n",
            "Requirement already satisfied: charset-normalizer<4,>=2 in /usr/local/lib/python3.11/dist-packages (from requests>=2.32.2->datasets) (3.4.1)\n",
            "Requirement already satisfied: idna<4,>=2.5 in /usr/local/lib/python3.11/dist-packages (from requests>=2.32.2->datasets) (3.10)\n",
            "Requirement already satisfied: urllib3<3,>=1.21.1 in /usr/local/lib/python3.11/dist-packages (from requests>=2.32.2->datasets) (2.3.0)\n",
            "Requirement already satisfied: certifi>=2017.4.17 in /usr/local/lib/python3.11/dist-packages (from requests>=2.32.2->datasets) (2025.1.31)\n",
            "Requirement already satisfied: python-dateutil>=2.8.2 in /usr/local/lib/python3.11/dist-packages (from pandas->datasets) (2.8.2)\n",
            "Requirement already satisfied: pytz>=2020.1 in /usr/local/lib/python3.11/dist-packages (from pandas->datasets) (2025.2)\n",
            "Requirement already satisfied: tzdata>=2022.7 in /usr/local/lib/python3.11/dist-packages (from pandas->datasets) (2025.2)\n",
            "Requirement already satisfied: six>=1.5 in /usr/local/lib/python3.11/dist-packages (from python-dateutil>=2.8.2->pandas->datasets) (1.17.0)\n",
            "Downloading datasets-3.5.0-py3-none-any.whl (491 kB)\n",
            "\u001b[2K   \u001b[90m━━━━━━━━━━━━━━━━━━━━━━━━━━━━━━━━━━━━━━━━\u001b[0m \u001b[32m491.2/491.2 kB\u001b[0m \u001b[31m12.9 MB/s\u001b[0m eta \u001b[36m0:00:00\u001b[0m\n",
            "\u001b[?25hDownloading dill-0.3.8-py3-none-any.whl (116 kB)\n",
            "\u001b[2K   \u001b[90m━━━━━━━━━━━━━━━━━━━━━━━━━━━━━━━━━━━━━━━━\u001b[0m \u001b[32m116.3/116.3 kB\u001b[0m \u001b[31m12.6 MB/s\u001b[0m eta \u001b[36m0:00:00\u001b[0m\n",
            "\u001b[?25hDownloading fsspec-2024.12.0-py3-none-any.whl (183 kB)\n",
            "\u001b[2K   \u001b[90m━━━━━━━━━━━━━━━━━━━━━━━━━━━━━━━━━━━━━━━━\u001b[0m \u001b[32m183.9/183.9 kB\u001b[0m \u001b[31m16.8 MB/s\u001b[0m eta \u001b[36m0:00:00\u001b[0m\n",
            "\u001b[?25hDownloading multiprocess-0.70.16-py311-none-any.whl (143 kB)\n",
            "\u001b[2K   \u001b[90m━━━━━━━━━━━━━━━━━━━━━━━━━━━━━━━━━━━━━━━━\u001b[0m \u001b[32m143.5/143.5 kB\u001b[0m \u001b[31m14.5 MB/s\u001b[0m eta \u001b[36m0:00:00\u001b[0m\n",
            "\u001b[?25hDownloading xxhash-3.5.0-cp311-cp311-manylinux_2_17_x86_64.manylinux2014_x86_64.whl (194 kB)\n",
            "\u001b[2K   \u001b[90m━━━━━━━━━━━━━━━━━━━━━━━━━━━━━━━━━━━━━━━━\u001b[0m \u001b[32m194.8/194.8 kB\u001b[0m \u001b[31m17.2 MB/s\u001b[0m eta \u001b[36m0:00:00\u001b[0m\n",
            "\u001b[?25hInstalling collected packages: xxhash, fsspec, dill, multiprocess, datasets\n",
            "  Attempting uninstall: fsspec\n",
            "    Found existing installation: fsspec 2025.3.2\n",
            "    Uninstalling fsspec-2025.3.2:\n",
            "      Successfully uninstalled fsspec-2025.3.2\n",
            "\u001b[31mERROR: pip's dependency resolver does not currently take into account all the packages that are installed. This behaviour is the source of the following dependency conflicts.\n",
            "gcsfs 2025.3.2 requires fsspec==2025.3.2, but you have fsspec 2024.12.0 which is incompatible.\u001b[0m\u001b[31m\n",
            "\u001b[0mSuccessfully installed datasets-3.5.0 dill-0.3.8 fsspec-2024.12.0 multiprocess-0.70.16 xxhash-3.5.0\n"
          ]
        }
      ]
    },
    {
      "cell_type": "code",
      "source": [
        "import torch, datasets, transformers, numpy as np, matplotlib.pyplot as plt, PIL.Image as Image, requests, torchvision.transforms as transforms #, torch_xla, torch_xla.core.xla_model as xm\n",
        "\n",
        "from typing import *\n",
        "\n",
        "device = 'cpu'\n",
        "\n",
        "if torch.cuda.is_available(): device = 'cuda'"
      ],
      "metadata": {
        "id": "usLKTuaLOvaW"
      },
      "execution_count": 2,
      "outputs": []
    },
    {
      "cell_type": "code",
      "source": [
        "torch.__version__"
      ],
      "metadata": {
        "colab": {
          "base_uri": "https://localhost:8080/",
          "height": 0
        },
        "id": "in7lwJDG-P-L",
        "outputId": "6575668b-c97d-41ca-a057-66174b6104ce"
      },
      "execution_count": 3,
      "outputs": [
        {
          "output_type": "execute_result",
          "data": {
            "text/plain": [
              "'2.6.0+cu124'"
            ],
            "application/vnd.google.colaboratory.intrinsic+json": {
              "type": "string"
            }
          },
          "metadata": {},
          "execution_count": 3
        }
      ]
    },
    {
      "cell_type": "code",
      "source": [
        "from enum import Enum\n",
        "\n",
        "class Color(Enum):\n",
        "  RED = '\\033[31m'\n",
        "  GREEN = '\\033[32m'\n",
        "  BLUE = '\\033[34m'\n",
        "  BLACK = '\\033[30m'\n",
        "  WHITE = '\\033[37m'\n",
        "  YELLOW = '\\033[33m'\n",
        "  RESET = '\\033[0m'\n",
        "\n",
        "  def apply(self, text: str) -> str:\n",
        "\n",
        "    return self.value + text + Color.RESET.value\n",
        "\n",
        "  def __call__(self, text: str) -> None:\n",
        "\n",
        "    print(self.value + text + Color.RESET.value)"
      ],
      "metadata": {
        "id": "T7KhfdfMvfc0"
      },
      "execution_count": 4,
      "outputs": []
    },
    {
      "cell_type": "code",
      "source": [
        "def load_tpu() -> torch.device | None:\n",
        "  try:\n",
        "    tpu_device = xm.xla_device()\n",
        "    Color.GREEN(\"Found tpu\")\n",
        "    return tpu_device\n",
        "  except RuntimeError as RE:\n",
        "    Color.RED(\"Could not find tpu\")\n",
        "  return\n",
        "\n",
        "# device = load_tpu() or device"
      ],
      "metadata": {
        "id": "y8_ZP13G2iwg"
      },
      "execution_count": 5,
      "outputs": []
    },
    {
      "cell_type": "code",
      "source": [
        "from itertools import repeat\n",
        "\n",
        "def fibbonaci(i: int) -> int:\n",
        "  \"\"\"Computes fibbonnaci with dynamic programming\n",
        "\n",
        "  Args:\n",
        "    i: int\n",
        "\n",
        "  Returns:\n",
        "    int: 0 if i <= 0 else fib(i)\n",
        "  \"\"\"\n",
        "\n",
        "  if i <= 0: return 0\n",
        "\n",
        "  # Start at step 1\n",
        "  window = [0, 1]\n",
        "\n",
        "  for _ in repeat(None, i - 1):\n",
        "\n",
        "    window = [window[1], window[0] + window[1]]\n",
        "\n",
        "  return window[1]"
      ],
      "metadata": {
        "id": "XtT3GktDeemH"
      },
      "execution_count": 6,
      "outputs": []
    },
    {
      "cell_type": "code",
      "source": [
        "# testing golden ratio\n",
        "\n",
        "t = 70\n",
        "\n",
        "error = []\n",
        "\n",
        "phi = (1 + (5 ** 0.5)) / 2\n",
        "\n",
        "func = lambda x: (((phi) ** x) - (1 - phi) ** x) / (5 ** 0.5)\n",
        "\n",
        "for i in range(t):\n",
        "\n",
        "  error.append(\n",
        "      func(i) - fibbonaci(i)\n",
        "  )\n",
        "\n",
        "plt.plot(range(t), error)"
      ],
      "metadata": {
        "colab": {
          "base_uri": "https://localhost:8080/",
          "height": 0
        },
        "id": "wsxaZ7QrpZnC",
        "outputId": "70cfe381-22e6-4b29-acf0-ff125e4f121c"
      },
      "execution_count": 7,
      "outputs": [
        {
          "output_type": "execute_result",
          "data": {
            "text/plain": [
              "[<matplotlib.lines.Line2D at 0x79834b522150>]"
            ]
          },
          "metadata": {},
          "execution_count": 7
        },
        {
          "output_type": "display_data",
          "data": {
            "text/plain": [
              "<Figure size 640x480 with 1 Axes>"
            ],
            "image/png": "[encoded data removed]"
          },
          "metadata": {}
        }
      ]
    },
    {
      "cell_type": "markdown",
      "source": [
        "## Compute\n",
        "- CPU\n",
        "- Workers\n",
        "- GPU\n",
        "- TPU\n",
        "- Moving\n",
        "- Benchmarking"
      ],
      "metadata": {
        "id": "pk6K_NMVOdR8"
      }
    },
    {
      "cell_type": "markdown",
      "source": [
        "### CPU"
      ],
      "metadata": {
        "id": "Cn_okSFuTT4w"
      }
    },
    {
      "cell_type": "code",
      "execution_count": null,
      "metadata": {
        "colab": {
          "base_uri": "https://localhost:8080/"
        },
        "id": "912I5RVYOO9e",
        "outputId": "48aafab6-4497-4b15-f4ff-5e5100cf7019"
      },
      "outputs": [
        {
          "output_type": "stream",
          "name": "stdout",
          "text": [
            "Num CPUS: 48\n",
            "Num Threads: 96\n",
            "\n",
            "Torch with 1 thread\n",
            "CPU times: user 1.89 s, sys: 143 ms, total: 2.03 s\n",
            "Wall time: 2.02 s\n",
            "\n",
            "Torch with 96 thread\n",
            "CPU times: user 8.23 s, sys: 506 ms, total: 8.74 s\n",
            "Wall time: 2.34 s\n"
          ]
        }
      ],
      "source": [
        "# Find devices\n",
        "\n",
        "import psutil\n",
        "\n",
        "# Get CPU Stats\n",
        "\n",
        "ncpus: int = psutil.cpu_count(logical=False)\n",
        "nthreads: int = psutil.cpu_count(logical=True) # Same as torch.get_num_cpus()\n",
        "\n",
        "print(\n",
        "    f\"Num CPUS: {ncpus}\",\n",
        "    f\"Num Threads: {nthreads}\",\n",
        "    \"\",\n",
        "    sep='\\n'\n",
        ")\n",
        "\n",
        "# Control Torch CPU Acsess, test speed\n",
        "\n",
        "n: int = 5000\n",
        "\n",
        "print(\"Torch with 1 thread\")\n",
        "\n",
        "torch.set_num_threads(1)\n",
        "\n",
        "%time _ = torch.mm(torch.randn(n, n, device='cpu'), torch.randn(n, n, device='cpu'))\n",
        "\n",
        "print()\n",
        "\n",
        "print(f\"Torch with {nthreads} thread\")\n",
        "\n",
        "torch.set_num_threads(nthreads)\n",
        "\n",
        "%time _ = torch.mm(torch.randn(n, n, device='cpu'), torch.randn(n, n, device='cpu'))\n",
        "\n",
        "# Slightly slower as hyper threading and overhead"
      ]
    },
    {
      "cell_type": "markdown",
      "source": [
        "### Workers"
      ],
      "metadata": {
        "id": "mQncrodyTWU2"
      }
    },
    {
      "cell_type": "code",
      "source": [
        "# For loading data in parallel\n",
        "\n",
        "from torch.utils.data import DataLoader, Dataset\n",
        "\n",
        "n: int = 1_000_000\n",
        "\n",
        "class MyDataset(Dataset):\n",
        "\n",
        "    def __init__(self, n) -> None:\n",
        "\n",
        "      self.n = n\n",
        "\n",
        "    def __getitem__(self, index):\n",
        "        return index  # Simulated data point\n",
        "    def __len__(self):\n",
        "        return self.n\n",
        "\n",
        "def worker_load_test(nworkers: int) -> None:\n",
        "  dataset = MyDataset(n)\n",
        "  dataloader = DataLoader(dataset, batch_size=32, num_workers=nworkers)\n",
        "\n",
        "  for batch in dataloader:\n",
        "      _ = batch\n",
        "\n",
        "# Test times\n",
        "\n",
        "for t in range(1, nthreads + 1):\n",
        "\n",
        "  print(f\"Using {t} threads\")\n",
        "\n",
        "  %time worker_load_test(t)\n",
        "\n",
        "  print()"
      ],
      "metadata": {
        "colab": {
          "base_uri": "https://localhost:8080/"
        },
        "id": "TOw4hCVNTcz_",
        "outputId": "27301636-13e6-4fee-f2d6-1c836e6ffd76"
      },
      "execution_count": null,
      "outputs": [
        {
          "output_type": "stream",
          "name": "stdout",
          "text": [
            "Using 1 threads\n",
            "CPU times: user 15.2 s, sys: 5.38 s, total: 20.6 s\n",
            "Wall time: 35.4 s\n",
            "\n",
            "Using 2 threads\n",
            "CPU times: user 15.2 s, sys: 5.32 s, total: 20.5 s\n",
            "Wall time: 33.9 s\n",
            "\n"
          ]
        }
      ]
    },
    {
      "cell_type": "markdown",
      "source": [
        "### GPU"
      ],
      "metadata": {
        "id": "5UQwttbNVI1q"
      }
    },
    {
      "cell_type": "code",
      "source": [
        "# Use GPU runtime\n",
        "\n",
        "found_gpu: bool = torch.cuda.is_available()\n",
        "\n",
        "ngpus: int = 0 if not found_gpu else torch.cuda.device_count()\n",
        "\n",
        "gpu_names: List[str] = [torch.cuda.get_device_name(i) for i in range(ngpus)]\n",
        "\n",
        "print(f\"Found GPU: {found_gpu}\",\n",
        "      f\"Num GPU: {ngpus}\",\n",
        "      \"\",\n",
        "      \"GPUs Found:\",\n",
        "      *[f'{name}' for name in gpu_names],\n",
        "      sep='\\n'\n",
        ")"
      ],
      "metadata": {
        "colab": {
          "base_uri": "https://localhost:8080/"
        },
        "id": "0Ezm0TRgVNnE",
        "outputId": "f909a9d4-2f29-48a7-d6db-1ee4d0091010"
      },
      "execution_count": null,
      "outputs": [
        {
          "output_type": "stream",
          "name": "stdout",
          "text": [
            "Found GPU: True\n",
            "Num GPU: 1\n",
            "\n",
            "GPUs Found:\n",
            "Tesla T4\n"
          ]
        }
      ]
    },
    {
      "cell_type": "code",
      "source": [
        "import subprocess\n",
        "import time\n",
        "from IPython.display import clear_output\n",
        "\n",
        "# Runs nvidia-smi cmd continuously\n",
        "while True:\n",
        "    clear_output(wait=True)\n",
        "    result = subprocess.run(['nvidia-smi'], capture_output=True, text=True)\n",
        "    print(result.stdout)\n",
        "    time.sleep(1)"
      ],
      "metadata": {
        "colab": {
          "base_uri": "https://localhost:8080/",
          "height": 579
        },
        "id": "BkX7VquGXlsn",
        "outputId": "44158f6f-5d8c-46f5-f167-54b533fd164e"
      },
      "execution_count": null,
      "outputs": [
        {
          "output_type": "stream",
          "name": "stdout",
          "text": [
            "Thu Mar 27 17:47:41 2025       \n",
            "+-----------------------------------------------------------------------------------------+\n",
            "| NVIDIA-SMI 550.54.15              Driver Version: 550.54.15      CUDA Version: 12.4     |\n",
            "|-----------------------------------------+------------------------+----------------------+\n",
            "| GPU  Name                 Persistence-M | Bus-Id          Disp.A | Volatile Uncorr. ECC |\n",
            "| Fan  Temp   Perf          Pwr:Usage/Cap |           Memory-Usage | GPU-Util  Compute M. |\n",
            "|                                         |                        |               MIG M. |\n",
            "|=========================================+========================+======================|\n",
            "|   0  Tesla T4                       Off |   00000000:00:04.0 Off |                    0 |\n",
            "| N/A   36C    P8              9W /   70W |       0MiB /  15360MiB |      0%      Default |\n",
            "|                                         |                        |                  N/A |\n",
            "+-----------------------------------------+------------------------+----------------------+\n",
            "                                                                                         \n",
            "+-----------------------------------------------------------------------------------------+\n",
            "| Processes:                                                                              |\n",
            "|  GPU   GI   CI        PID   Type   Process name                              GPU Memory |\n",
            "|        ID   ID                                                               Usage      |\n",
            "|=========================================================================================|\n",
            "|  No running processes found                                                             |\n",
            "+-----------------------------------------------------------------------------------------+\n",
            "\n"
          ]
        },
        {
          "output_type": "error",
          "ename": "KeyboardInterrupt",
          "evalue": "",
          "traceback": [
            "\u001b[0;31m---------------------------------------------------------------------------\u001b[0m",
            "\u001b[0;31mKeyboardInterrupt\u001b[0m                         Traceback (most recent call last)",
            "\u001b[0;32m<ipython-input-32-854f4c20b6ee>\u001b[0m in \u001b[0;36m<cell line: 0>\u001b[0;34m()\u001b[0m\n\u001b[1;32m      8\u001b[0m     \u001b[0mresult\u001b[0m \u001b[0;34m=\u001b[0m \u001b[0msubprocess\u001b[0m\u001b[0;34m.\u001b[0m\u001b[0mrun\u001b[0m\u001b[0;34m(\u001b[0m\u001b[0;34m[\u001b[0m\u001b[0;34m'nvidia-smi'\u001b[0m\u001b[0;34m]\u001b[0m\u001b[0;34m,\u001b[0m \u001b[0mcapture_output\u001b[0m\u001b[0;34m=\u001b[0m\u001b[0;32mTrue\u001b[0m\u001b[0;34m,\u001b[0m \u001b[0mtext\u001b[0m\u001b[0;34m=\u001b[0m\u001b[0;32mTrue\u001b[0m\u001b[0;34m)\u001b[0m\u001b[0;34m\u001b[0m\u001b[0;34m\u001b[0m\u001b[0m\n\u001b[1;32m      9\u001b[0m     \u001b[0mprint\u001b[0m\u001b[0;34m(\u001b[0m\u001b[0mresult\u001b[0m\u001b[0;34m.\u001b[0m\u001b[0mstdout\u001b[0m\u001b[0;34m)\u001b[0m  \u001b[0;31m# Print the captured output\u001b[0m\u001b[0;34m\u001b[0m\u001b[0;34m\u001b[0m\u001b[0m\n\u001b[0;32m---> 10\u001b[0;31m     \u001b[0mtime\u001b[0m\u001b[0;34m.\u001b[0m\u001b[0msleep\u001b[0m\u001b[0;34m(\u001b[0m\u001b[0;36m1\u001b[0m\u001b[0;34m)\u001b[0m  \u001b[0;31m# Sleep for 1 second\u001b[0m\u001b[0;34m\u001b[0m\u001b[0;34m\u001b[0m\u001b[0m\n\u001b[0m",
            "\u001b[0;31mKeyboardInterrupt\u001b[0m: "
          ]
        }
      ]
    },
    {
      "cell_type": "code",
      "source": [
        "# Check memory usage before allocation\n",
        "print(\"Pre allocation\")\n",
        "print(f\"{torch.cuda.memory_allocated() / (8 * (1024)**2):.2f}MB\")\n",
        "print()\n",
        "\n",
        "# Allocate a large tensor\n",
        "a = torch.ones(size=(10000, 10000), device=device)\n",
        "\n",
        "# Check memory usage after allocation\n",
        "print(\"Post allocation\")\n",
        "print(f\"{torch.cuda.memory_allocated() / (8 * (1024)**2):.2f}MB\")\n",
        "print()\n",
        "\n",
        "# Clear the tensor and free memory\n",
        "del a\n",
        "\n",
        "import gc\n",
        "_ = gc.collect()\n",
        "\n",
        "# Check memory usage after deleting\n",
        "print(\"After deletion\")\n",
        "print(f\"{torch.cuda.memory_allocated() / (8 * (1024)**2):.2f}MB\")\n",
        "print()"
      ],
      "metadata": {
        "colab": {
          "base_uri": "https://localhost:8080/"
        },
        "id": "qDsxH4LvyiMT",
        "outputId": "6a5b50c3-7f6f-49d6-9f33-789ab7efac74"
      },
      "execution_count": null,
      "outputs": [
        {
          "output_type": "stream",
          "name": "stdout",
          "text": [
            "Pre allocation\n",
            "0.00MB\n",
            "\n",
            "Post allocation\n",
            "47.75MB\n",
            "\n",
            "After deletion\n",
            "0.00MB\n",
            "\n"
          ]
        }
      ]
    },
    {
      "cell_type": "markdown",
      "source": [
        "### TPU"
      ],
      "metadata": {
        "id": "gwRpS_hy3Dmf"
      }
    },
    {
      "cell_type": "code",
      "source": [
        "a = torch.randint(low=-5, high=5, size=(1000, 1000), dtype=torch.float, device=tpu_device)\n",
        "b = torch.randint(low=-5, high=5, size=(1000, 1000), dtype=torch.float, device=tpu_device)\n",
        "\n",
        "# Tpus do lazy exectution this does not compute\n",
        "r = torch.matmul(a, b)\n",
        "\n",
        "print(\n",
        "    \"Result Shape: \",\n",
        "    r.shape,\n",
        "    \"\\n\",\n",
        "    \"Result Device: \",\n",
        "    r.device,\n",
        "    sep='',\n",
        ")"
      ],
      "metadata": {
        "colab": {
          "base_uri": "https://localhost:8080/"
        },
        "collapsed": true,
        "id": "wWyAjK9P5elC",
        "outputId": "bbf63dcc-e937-4291-97e6-09e5ac47aac9"
      },
      "execution_count": null,
      "outputs": [
        {
          "output_type": "stream",
          "name": "stdout",
          "text": [
            "Result Shape: torch.Size([1000, 1000])\n",
            "Result Device: xla:0\n"
          ]
        }
      ]
    },
    {
      "cell_type": "code",
      "source": [
        "r # <-- Now it does as it prints"
      ],
      "metadata": {
        "colab": {
          "base_uri": "https://localhost:8080/"
        },
        "id": "xAygUqJW1JzG",
        "outputId": "35868755-da0c-4319-e612-91b1c2ed830e"
      },
      "execution_count": null,
      "outputs": [
        {
          "output_type": "execute_result",
          "data": {
            "text/plain": [
              "tensor([[ 505.,  134.,  436.,  ...,  228., -107., -192.],\n",
              "        [ 662.,   61.,  123.,  ...,   -2.,  134.,  683.],\n",
              "        [ 195.,   87.,  372.,  ...,  569.,  379.,  110.],\n",
              "        ...,\n",
              "        [ 114.,  506.,  348.,  ...,  -36.,  443.,  295.],\n",
              "        [ 203.,  546.,  -69.,  ...,  145., -158.,  748.],\n",
              "        [ 419.,  -64.,  131.,  ...,  190., -181.,  -59.]], device='xla:0')"
            ]
          },
          "metadata": {},
          "execution_count": 56
        }
      ]
    },
    {
      "cell_type": "markdown",
      "source": [
        "### Moving"
      ],
      "metadata": {
        "id": "dA7eAw8UXIy8"
      }
    },
    {
      "cell_type": "code",
      "source": [
        "# Make var on cpu\n",
        "A: torch.Tensor = torch.tensor([1,2,3], dtype=torch.int)\n",
        "\n",
        "print(\n",
        "    \"A is on the\",\n",
        "    A.device\n",
        ")\n",
        "\n",
        "# Make var on gpu\n",
        "\n",
        "B: torch.Tensor = torch.tensor([1,2,3], dtype=torch.int, device=device)\n",
        "\n",
        "print(\n",
        "    \"B is on the\",\n",
        "    B.device\n",
        ")\n",
        "\n",
        "# Doing opperations across devices\n",
        "try:\n",
        "  A + B\n",
        "except RuntimeError as RE:\n",
        "  Color.RED(\"Cannot do opperations across devices\")\n",
        "print()\n",
        "\n",
        "# Must transfer with .to()\n",
        "\n",
        "# to gpu\n",
        "print(\n",
        "    t := A.to(device) + B,\n",
        "    \"\\n\",\n",
        "    \"On: \",\n",
        "    t.device,\n",
        ")\n",
        "\n",
        "print()\n",
        "\n",
        "# to cpu\n",
        "print(\n",
        "    t := A + B.to('cpu'),\n",
        "    \"\\n\",\n",
        "    \"On: \",\n",
        "    t.device,\n",
        ")"
      ],
      "metadata": {
        "colab": {
          "base_uri": "https://localhost:8080/"
        },
        "id": "Syj61sRuXLuV",
        "outputId": "6d094a8b-93d2-4ef6-b048-cbefb109201e"
      },
      "execution_count": null,
      "outputs": [
        {
          "output_type": "stream",
          "name": "stdout",
          "text": [
            "A is on the cpu\n",
            "B is on the cuda:0\n",
            "\u001b[31mCannot do opperations across devices\u001b[0m\n",
            "\n",
            "tensor([2, 4, 6], device='cuda:0', dtype=torch.int32) \n",
            " On:  cuda:0\n",
            "\n",
            "tensor([2, 4, 6], dtype=torch.int32) \n",
            " On:  cpu\n"
          ]
        }
      ]
    },
    {
      "cell_type": "markdown",
      "source": [
        "### Benchmarking"
      ],
      "metadata": {
        "id": "7Yjp-qlE1YTz"
      }
    },
    {
      "cell_type": "code",
      "source": [
        "# Benchmark matmul as dim scales (log)\n",
        "\n",
        "import timeit, random\n",
        "from IPython.display import clear_output\n",
        "\n",
        "n: int = 5\n",
        "\n",
        "tests = np.linspace(0, n, 100)\n",
        "cpu_times = np.zeros_like(tests)\n",
        "device_times = np.zeros_like(tests) # GPU or TPU\n",
        "\n",
        "for i, d in enumerate(tests):\n",
        "\n",
        "  clear_output(wait=True)\n",
        "  print(f\"{d}/{n}\")\n",
        "\n",
        "  a = torch.randint(low=-5, high=5, size=(int(10**d), int(10**d)), dtype=torch.float, device='cpu')\n",
        "  b = torch.randint(low=-5, high=5, size=(int(10**d), int(10**d)), dtype=torch.float, device='cpu')\n",
        "\n",
        "  # Excecute on cpu\n",
        "  cpu_times[i] = timeit.timeit(lambda: torch.matmul(a, b), number=1)\n",
        "\n",
        "  a = a.to(device)\n",
        "  b = b.to(device)\n",
        "\n",
        "  with open('log.txt', 'w') as logtxt:\n",
        "\n",
        "    device_times[i] = timeit.timeit(lambda: print(torch.matmul(a, b), file=logtxt), number=1)\n"
      ],
      "metadata": {
        "colab": {
          "base_uri": "https://localhost:8080/",
          "height": 397
        },
        "id": "jQG6zs4c1dM7",
        "outputId": "e7e166fc-bc62-4bd8-aba3-2e4c827928f9"
      },
      "execution_count": null,
      "outputs": [
        {
          "output_type": "stream",
          "name": "stdout",
          "text": [
            "4.444444444444445/5\n"
          ]
        },
        {
          "output_type": "error",
          "ename": "KeyboardInterrupt",
          "evalue": "",
          "traceback": [
            "\u001b[0;31m---------------------------------------------------------------------------\u001b[0m",
            "\u001b[0;31mKeyboardInterrupt\u001b[0m                         Traceback (most recent call last)",
            "\u001b[0;32m<ipython-input-8-ccaaac564915>\u001b[0m in \u001b[0;36m<cell line: 0>\u001b[0;34m()\u001b[0m\n\u001b[1;32m     19\u001b[0m \u001b[0;34m\u001b[0m\u001b[0m\n\u001b[1;32m     20\u001b[0m   \u001b[0;31m# Excecute on cpu\u001b[0m\u001b[0;34m\u001b[0m\u001b[0;34m\u001b[0m\u001b[0m\n\u001b[0;32m---> 21\u001b[0;31m   \u001b[0mcpu_times\u001b[0m\u001b[0;34m[\u001b[0m\u001b[0mi\u001b[0m\u001b[0;34m]\u001b[0m \u001b[0;34m=\u001b[0m \u001b[0mtimeit\u001b[0m\u001b[0;34m.\u001b[0m\u001b[0mtimeit\u001b[0m\u001b[0;34m(\u001b[0m\u001b[0;32mlambda\u001b[0m\u001b[0;34m:\u001b[0m \u001b[0mtorch\u001b[0m\u001b[0;34m.\u001b[0m\u001b[0mmatmul\u001b[0m\u001b[0;34m(\u001b[0m\u001b[0ma\u001b[0m\u001b[0;34m,\u001b[0m \u001b[0mb\u001b[0m\u001b[0;34m)\u001b[0m\u001b[0;34m,\u001b[0m \u001b[0mnumber\u001b[0m\u001b[0;34m=\u001b[0m\u001b[0;36m1\u001b[0m\u001b[0;34m)\u001b[0m\u001b[0;34m\u001b[0m\u001b[0;34m\u001b[0m\u001b[0m\n\u001b[0m\u001b[1;32m     22\u001b[0m \u001b[0;34m\u001b[0m\u001b[0m\n\u001b[1;32m     23\u001b[0m   \u001b[0ma\u001b[0m \u001b[0;34m=\u001b[0m \u001b[0ma\u001b[0m\u001b[0;34m.\u001b[0m\u001b[0mto\u001b[0m\u001b[0;34m(\u001b[0m\u001b[0mdevice\u001b[0m\u001b[0;34m)\u001b[0m\u001b[0;34m\u001b[0m\u001b[0;34m\u001b[0m\u001b[0m\n",
            "\u001b[0;32m/usr/lib/python3.11/timeit.py\u001b[0m in \u001b[0;36mtimeit\u001b[0;34m(stmt, setup, timer, number, globals)\u001b[0m\n\u001b[1;32m    235\u001b[0m            number=default_number, globals=None):\n\u001b[1;32m    236\u001b[0m     \u001b[0;34m\"\"\"Convenience function to create Timer object and call timeit method.\"\"\"\u001b[0m\u001b[0;34m\u001b[0m\u001b[0;34m\u001b[0m\u001b[0m\n\u001b[0;32m--> 237\u001b[0;31m     \u001b[0;32mreturn\u001b[0m \u001b[0mTimer\u001b[0m\u001b[0;34m(\u001b[0m\u001b[0mstmt\u001b[0m\u001b[0;34m,\u001b[0m \u001b[0msetup\u001b[0m\u001b[0;34m,\u001b[0m \u001b[0mtimer\u001b[0m\u001b[0;34m,\u001b[0m \u001b[0mglobals\u001b[0m\u001b[0;34m)\u001b[0m\u001b[0;34m.\u001b[0m\u001b[0mtimeit\u001b[0m\u001b[0;34m(\u001b[0m\u001b[0mnumber\u001b[0m\u001b[0;34m)\u001b[0m\u001b[0;34m\u001b[0m\u001b[0;34m\u001b[0m\u001b[0m\n\u001b[0m\u001b[1;32m    238\u001b[0m \u001b[0;34m\u001b[0m\u001b[0m\n\u001b[1;32m    239\u001b[0m \u001b[0;34m\u001b[0m\u001b[0m\n",
            "\u001b[0;32m/usr/lib/python3.11/timeit.py\u001b[0m in \u001b[0;36mtimeit\u001b[0;34m(self, number)\u001b[0m\n\u001b[1;32m    178\u001b[0m         \u001b[0mgc\u001b[0m\u001b[0;34m.\u001b[0m\u001b[0mdisable\u001b[0m\u001b[0;34m(\u001b[0m\u001b[0;34m)\u001b[0m\u001b[0;34m\u001b[0m\u001b[0;34m\u001b[0m\u001b[0m\n\u001b[1;32m    179\u001b[0m         \u001b[0;32mtry\u001b[0m\u001b[0;34m:\u001b[0m\u001b[0;34m\u001b[0m\u001b[0;34m\u001b[0m\u001b[0m\n\u001b[0;32m--> 180\u001b[0;31m             \u001b[0mtiming\u001b[0m \u001b[0;34m=\u001b[0m \u001b[0mself\u001b[0m\u001b[0;34m.\u001b[0m\u001b[0minner\u001b[0m\u001b[0;34m(\u001b[0m\u001b[0mit\u001b[0m\u001b[0;34m,\u001b[0m \u001b[0mself\u001b[0m\u001b[0;34m.\u001b[0m\u001b[0mtimer\u001b[0m\u001b[0;34m)\u001b[0m\u001b[0;34m\u001b[0m\u001b[0;34m\u001b[0m\u001b[0m\n\u001b[0m\u001b[1;32m    181\u001b[0m         \u001b[0;32mfinally\u001b[0m\u001b[0;34m:\u001b[0m\u001b[0;34m\u001b[0m\u001b[0;34m\u001b[0m\u001b[0m\n\u001b[1;32m    182\u001b[0m             \u001b[0;32mif\u001b[0m \u001b[0mgcold\u001b[0m\u001b[0;34m:\u001b[0m\u001b[0;34m\u001b[0m\u001b[0;34m\u001b[0m\u001b[0m\n",
            "\u001b[0;32m/usr/lib/python3.11/timeit.py\u001b[0m in \u001b[0;36minner\u001b[0;34m(_it, _timer, _stmt)\u001b[0m\n",
            "\u001b[0;32m<ipython-input-8-ccaaac564915>\u001b[0m in \u001b[0;36m<lambda>\u001b[0;34m()\u001b[0m\n\u001b[1;32m     19\u001b[0m \u001b[0;34m\u001b[0m\u001b[0m\n\u001b[1;32m     20\u001b[0m   \u001b[0;31m# Excecute on cpu\u001b[0m\u001b[0;34m\u001b[0m\u001b[0;34m\u001b[0m\u001b[0m\n\u001b[0;32m---> 21\u001b[0;31m   \u001b[0mcpu_times\u001b[0m\u001b[0;34m[\u001b[0m\u001b[0mi\u001b[0m\u001b[0;34m]\u001b[0m \u001b[0;34m=\u001b[0m \u001b[0mtimeit\u001b[0m\u001b[0;34m.\u001b[0m\u001b[0mtimeit\u001b[0m\u001b[0;34m(\u001b[0m\u001b[0;32mlambda\u001b[0m\u001b[0;34m:\u001b[0m \u001b[0mtorch\u001b[0m\u001b[0;34m.\u001b[0m\u001b[0mmatmul\u001b[0m\u001b[0;34m(\u001b[0m\u001b[0ma\u001b[0m\u001b[0;34m,\u001b[0m \u001b[0mb\u001b[0m\u001b[0;34m)\u001b[0m\u001b[0;34m,\u001b[0m \u001b[0mnumber\u001b[0m\u001b[0;34m=\u001b[0m\u001b[0;36m1\u001b[0m\u001b[0;34m)\u001b[0m\u001b[0;34m\u001b[0m\u001b[0;34m\u001b[0m\u001b[0m\n\u001b[0m\u001b[1;32m     22\u001b[0m \u001b[0;34m\u001b[0m\u001b[0m\n\u001b[1;32m     23\u001b[0m   \u001b[0ma\u001b[0m \u001b[0;34m=\u001b[0m \u001b[0ma\u001b[0m\u001b[0;34m.\u001b[0m\u001b[0mto\u001b[0m\u001b[0;34m(\u001b[0m\u001b[0mdevice\u001b[0m\u001b[0;34m)\u001b[0m\u001b[0;34m\u001b[0m\u001b[0;34m\u001b[0m\u001b[0m\n",
            "\u001b[0;31mKeyboardInterrupt\u001b[0m: "
          ]
        }
      ]
    },
    {
      "cell_type": "markdown",
      "source": [
        "x - dim of mat log <br>\n",
        "y - seconds for matmul\n",
        "\n",
        "CPU vs GPU\n",
        "\n",
        "![CPU v GPU.png](data:image/png;base64,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)\n",
        "\n",
        "CPU vs TPU\n",
        "\n",
        "![cpu v tpu.png](data:image/png;base64,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)"
      ],
      "metadata": {
        "id": "s-QzFuWdpNEF"
      }
    },
    {
      "cell_type": "markdown",
      "source": [
        "## Tensors\n",
        " - Basics\n",
        " - Math\n",
        " - Autograd"
      ],
      "metadata": {
        "id": "YHxNfHqp62ln"
      }
    },
    {
      "cell_type": "markdown",
      "source": [
        "### Basics"
      ],
      "metadata": {
        "id": "zuIZnKFb7F7C"
      }
    },
    {
      "cell_type": "code",
      "source": [
        "# Creating and Typing\n",
        "a: torch.Tensor = torch.tensor([1,2,3], dtype=torch.long)\n",
        "\n",
        "for x in filter(lambda x: callable(x), (getattr(torch, name) for name in dir(torch))):\n",
        "    continue\n",
        "\n",
        "    name = x.__name__\n",
        "    doc = x.__doc__\n",
        "    doc_summary = doc.__str__()[:50].replace(\"\\n\", \"\") if doc else None\n",
        "    print(f\"{name:<20}{doc_summary}\")\n",
        "\n",
        "# Function for creating tensors\n",
        "\n",
        "z = torch.zeros((2,2))\n",
        "\n",
        "o = torch.ones((2,2))\n",
        "\n",
        "f = torch.full((2,2), fill_value=3)\n",
        "\n",
        "i = torch.eye(2)\n",
        "\n",
        "# tensor with shape of other tensor\n",
        "\n",
        "z = torch.zeros_like(z)\n",
        "\n",
        "o = torch.ones_like(o)\n",
        "\n",
        "f = torch.full_like(f, fill_value=3)\n",
        "\n",
        "# Random\n",
        "\n",
        "r = torch.rand((2,2)) # [0, 1]\n",
        "\n",
        "rn = torch.randn((2,2)) # normal mean 0 std 1\n",
        "\n",
        "ri = torch.randint(size=(2,2), low=0, high=2) # uniform int [low, high)\n",
        "\n",
        "rp = torch.randperm(10) # for shuffling\n",
        "\n",
        "# Ranges\n",
        "\n",
        "ar = torch.arange(0, 10.5, 0.5)\n",
        "\n",
        "ls = torch.linspace(0, 10, 21)\n",
        "\n",
        "# Set seed for reproducability\n",
        "\n",
        "torch.manual_seed(42)\n",
        "\n",
        "print(torch.randint(0, 100, (1,)).item())\n",
        "print(torch.randint(0, 100, (1,)).item())\n",
        "\n",
        "# Create generator\n",
        "\n",
        "g = torch.Generator()\n",
        "\n",
        "g.manual_seed(24)\n",
        "\n",
        "print(torch.randint(0, 100, (1,), generator=g).item())\n",
        "print(torch.randint(0, 100, (1,), generator=g).item())"
      ],
      "metadata": {
        "id": "etvQJNEa85Ni",
        "colab": {
          "base_uri": "https://localhost:8080/"
        },
        "outputId": "5a9051bd-1b06-4403-abfd-bd307aed5510"
      },
      "execution_count": null,
      "outputs": [
        {
          "output_type": "stream",
          "name": "stdout",
          "text": [
            "42\n",
            "67\n",
            "14\n",
            "55\n"
          ]
        }
      ]
    },
    {
      "cell_type": "code",
      "source": [
        "# Shaping and Slicing\n",
        "\n",
        "# Slicing\n",
        "at = torch.randint(size=(2,2,2), low=0, high=3)\n",
        "an = np.random.randint(size=(2,2,2), low=0, high=3)\n",
        "\n",
        "# Almost same as numpy : = all, -indexing\n",
        "at[:,:,:]\n",
        "an[:,:,:]\n",
        "\n",
        "# Diffrence is bool masking\n",
        "\n",
        "# Numpy\n",
        "mask = an > 1\n",
        "an[mask]\n",
        "\n",
        "# Torch\n",
        "mask = at > 1\n",
        "torch.masked_select(at, mask)\n",
        "\n",
        "# ? also support boolean indexing\n",
        "at[mask]\n",
        "\n",
        "# Shape\n",
        "b = torch.randint(size=(2,2,2), low=0, high=3)\n",
        "\n",
        "print(b.shape)\n",
        "print(b.stride())\n",
        "\n",
        "# Gets shape\n",
        "s = b.shape\n",
        "\n",
        "# Gets number of elements\n",
        "s.numel()\n",
        "\n",
        "# Gets stride, skips x to get next position in dim\n",
        "st = b.stride()\n",
        "\n",
        "# Reshape, ensure continguous\n",
        "b = b.reshape((-1,2,1))\n",
        "\n",
        "print(b.shape)\n",
        "print(b.stride())\n",
        "\n",
        "# Transpose\n",
        "b = b.transpose(0,1) # | .t() for 2D\n",
        "\n",
        "print(b.shape)\n",
        "print(b.stride())\n",
        "\n",
        "# Permute\n",
        "b = b.permute((1,0,2))\n",
        "\n",
        "print(b.shape)\n",
        "print(b.stride())\n",
        "\n",
        "# Add new dim, size 1\n",
        "b = b.unsqueeze(-1)\n",
        "\n",
        "# Remove new dim, size 1\n",
        "b = b.squeeze(-1)\n",
        "\n",
        "print(b.shape)\n",
        "print(b.stride())\n",
        "\n",
        "# Flatten\n",
        "\n",
        "b = b.flatten()\n",
        "\n",
        "print(b.shape)\n",
        "print(b.stride())\n",
        "\n",
        "pass"
      ],
      "metadata": {
        "colab": {
          "base_uri": "https://localhost:8080/"
        },
        "id": "tRLVgGCQzmTV",
        "outputId": "11207728-da1a-42ec-9830-e92f2aea5abb"
      },
      "execution_count": null,
      "outputs": [
        {
          "output_type": "stream",
          "name": "stdout",
          "text": [
            "torch.Size([2, 2, 2])\n",
            "(4, 2, 1)\n",
            "torch.Size([4, 2, 1])\n",
            "(2, 1, 1)\n",
            "torch.Size([2, 4, 1])\n",
            "(1, 2, 1)\n",
            "torch.Size([4, 2, 1])\n",
            "(2, 1, 1)\n",
            "torch.Size([4, 2, 1])\n",
            "(2, 1, 1)\n",
            "torch.Size([8])\n",
            "(1,)\n"
          ]
        }
      ]
    },
    {
      "cell_type": "code",
      "source": [
        "# Shaping part 2\n",
        "\n",
        "# Contiguous, each dim is in order in memory [[0,1], [2,3]] -> 0 1 2 3\n",
        "\n",
        "a = torch.randint(size=(2,2,2), low=0, high=3)\n",
        "\n",
        "print(\"A is contiguous\", a.is_contiguous())\n",
        "\n",
        "# if we use contiguous here just points as a is contiguous\n",
        "\n",
        "t = a.contiguous()\n",
        "\n",
        "print(\"T points to A\", id(a) == id(t))\n",
        "\n",
        "# Makes uncontigous\n",
        "b = a.permute((2,1,0))\n",
        "\n",
        "print(\"B is contiguous\", b.is_contiguous())\n",
        "\n",
        "print(\"B points to A\", id(a) == id(b))\n",
        "\n",
        "# Copies if not contigous\n",
        "c = b.contiguous()\n",
        "\n",
        "print(\"C is contiguous\", c.is_contiguous())\n",
        "\n",
        "print(\"C points to A\", id(a) == id(c))"
      ],
      "metadata": {
        "colab": {
          "base_uri": "https://localhost:8080/"
        },
        "id": "uB9n0hs5ooWc",
        "outputId": "2241619f-be7b-4a5d-f022-26a07862728a"
      },
      "execution_count": null,
      "outputs": [
        {
          "output_type": "stream",
          "name": "stdout",
          "text": [
            "A is contiguous True\n",
            "T points to A True\n",
            "B is contiguous False\n",
            "B points to A False\n",
            "C is contiguous True\n",
            "C points to A False\n"
          ]
        }
      ]
    },
    {
      "cell_type": "code",
      "source": [
        "# Shape part 3, shapes with multiple tensors\n",
        "\n",
        "a = torch.randint(size=(3,3), low=0, high=5)\n",
        "b = torch.randint(size=(3,3), low=0, high=5)\n",
        "\n",
        "# Concatonate (along current dim) (k, n) (q, n) dim=0 -> (k+q, n)\n",
        "print(\n",
        "    f\".cat() ({a.shape}), ({b.shape}) -> {torch.cat([a, b], dim=0).shape}\\n\"\n",
        ")\n",
        "\n",
        "# Stack (create new dim) (m, (k, n)) dim=-1 -> (k, n, m)\n",
        "print(\n",
        "    f\".stack() ({a.shape}), ({b.shape}) -> {torch.stack([a, b], dim=-1).shape}\\n\"\n",
        ")\n",
        "\n",
        "# VStack (stack if dim < 2 else cat)\n",
        "print(\n",
        "    f\".vstack() ({a.shape}), ({b.shape}) -> {torch.vstack([a, b]).shape}\\n\"\n",
        ")\n",
        "\n",
        "# HStack (cat if dim < 2 else stack dim=1)\n",
        "print(\n",
        "    f\".hstack() ({a.shape}), ({b.shape}) -> {torch.hstack([a, b]).shape}\\n\"\n",
        ")\n",
        "\n",
        "# Split (n, m, k) 3: int -> (*(ceil(n/3) - 1, (3, m, k)), (1, (n % 3, m, k)) returns tuple\n",
        "print(\n",
        "    [x.shape for x in torch.split(a, 2)]\n",
        ")"
      ],
      "metadata": {
        "colab": {
          "base_uri": "https://localhost:8080/"
        },
        "id": "VStxtn8FdAIO",
        "outputId": "95a29664-d919-4c5e-a45d-eea086381539"
      },
      "execution_count": null,
      "outputs": [
        {
          "output_type": "stream",
          "name": "stdout",
          "text": [
            ".cat() (torch.Size([3, 3])), (torch.Size([3, 3])) -> torch.Size([6, 3])\n",
            "\n",
            ".stack() (torch.Size([3, 3])), (torch.Size([3, 3])) -> torch.Size([3, 3, 2])\n",
            "\n",
            ".vstack() (torch.Size([3, 3])), (torch.Size([3, 3])) -> torch.Size([6, 3])\n",
            "\n",
            ".hstack() (torch.Size([3, 3])), (torch.Size([3, 3])) -> torch.Size([3, 6])\n",
            "\n",
            "[torch.Size([2, 3]), torch.Size([1, 3])]\n"
          ]
        }
      ]
    },
    {
      "cell_type": "code",
      "source": [
        "# Example with Image\n",
        "\n",
        "url = \"https://lp-cms-production.imgix.net/2024-04/GettyImages-143795695.jpg?auto=format,compress&q=72&fit=crop&w=1200\"\n",
        "\n",
        "image = Image.open(requests.get(url, stream=True).raw)\n",
        "\n",
        "x = transforms.ToTensor()(image).permute((1,2,0)).contiguous() # Permute as image is 3, x, y (channel , x, y) -> x, y, 3\n",
        "\n",
        "print(x.shape)\n",
        "\n",
        "fig, axs = plt.subplots(2,2)\n",
        "\n",
        "axs = axs.flatten()\n",
        "\n",
        "# Add tracers, 5x5 patch every 100\n",
        "\n",
        "rows = torch.arange(x.shape[0]) % 100 < 100\n",
        "cols = torch.arange(x.shape[1]) % 100 < 5\n",
        "mask = rows.unsqueeze(-1) & cols.unsqueeze(-1).T\n",
        "\n",
        "# Dim image\n",
        "x = x * 0.7\n",
        "\n",
        "# Dots to gradient\n",
        "\n",
        "l = torch.linspace(0, 1, mask.sum())\n",
        "\n",
        "gradient = torch.zeros((mask.sum(), 3))\n",
        "\n",
        "gradient[:, 0] = 1\n",
        "gradient[:, 1] = l\n",
        "gradient[:, 2] = 0\n",
        "\n",
        "x[mask] = gradient\n",
        "\n",
        "print(x.stride())\n",
        "print(x.view(-1, 375, 3).stride())\n",
        "\n",
        "# axs[0].imshow(x)\n",
        "# axs[1].imshow(x.transpose(0,1))\n",
        "# axs[2].imshow(x.max()- x)\n",
        "axs[0].imshow(x.view((-1, 375, 3)))\n",
        "axs[1].imshow(x.view((-1, 800, 3)))\n",
        "axs[2].imshow(x.view((-1, 1200, 3)))\n",
        "axs[3].imshow(x.view((-1, 2000, 3)))"
      ],
      "metadata": {
        "colab": {
          "base_uri": "https://localhost:8080/",
          "height": 501
        },
        "id": "8FlBrAQkxzvo",
        "outputId": "2489c6a7-1052-41e4-e00c-41d514490cf1"
      },
      "execution_count": null,
      "outputs": [
        {
          "output_type": "stream",
          "name": "stdout",
          "text": [
            "torch.Size([800, 1200, 3])\n",
            "(3600, 3, 1)\n",
            "(1125, 3, 1)\n"
          ]
        },
        {
          "output_type": "execute_result",
          "data": {
            "text/plain": [
              "<matplotlib.image.AxesImage at 0x7abf4f0cca10>"
            ]
          },
          "metadata": {},
          "execution_count": 5
        },
        {
          "output_type": "display_data",
          "data": {
            "text/plain": [
              "<Figure size 640x480 with 4 Axes>"
            ],
            "image/png": "[encoded data removed]"
          },
          "metadata": {}
        }
      ]
    },
    {
      "cell_type": "code",
      "source": [
        "img = torch.randn((28,28,1), dtype=torch.float)\n",
        "\n",
        "# Max and min\n",
        "print(\n",
        "    f\"Min {img.min()} at {img.argmin()} | {img.flatten()[img.argmin()]}\",\n",
        "    f\"Max {img.max()} at {img.argmax()} | {img.flatten()[img.argmax()]}\",\n",
        "    f\"Arg sort top 5 {img.flatten().argsort()[:5]}\",\n",
        "    f\"Sort value top 5 {img.flatten().topk(5).values}\",\n",
        "    sep='\\n',\n",
        ")\n",
        "\n",
        "# Get indicies of mask\n",
        "mask = img.abs() > 2.5 # 2.5 stds\n",
        "\n",
        "print(\n",
        "    mask.argwhere()\n",
        ")\n",
        "\n",
        "print(\n",
        "    \"Any pixels > 3 stds?:\", (img.abs() > 3).any().item()\n",
        ")\n",
        "\n",
        "fig, axs = plt.subplots(1, 2)\n",
        "\n",
        "axs = axs.flatten()\n",
        "\n",
        "axs[0].imshow(img, cmap='gray')\n",
        "\n",
        "img[~mask] = 0\n",
        "\n",
        "axs[1].imshow(img, cmap='gray')"
      ],
      "metadata": {
        "colab": {
          "base_uri": "https://localhost:8080/",
          "height": 586
        },
        "id": "VwUapOARDQOY",
        "outputId": "a096e39a-af52-4254-97d5-4f93b23fd59c"
      },
      "execution_count": null,
      "outputs": [
        {
          "output_type": "stream",
          "name": "stdout",
          "text": [
            "Min -3.483419895172119 at 745 | -3.483419895172119\n",
            "Max 3.4682559967041016 at 135 | 3.4682559967041016\n",
            "Arg sort top 5 tensor([745,  99, 275, 366, 606])\n",
            "Sort value top 5 tensor([3.4683, 3.3567, 2.8898, 2.6644, 2.5964])\n",
            "tensor([[ 3, 15,  0],\n",
            "        [ 4, 23,  0],\n",
            "        [ 5,  7,  0],\n",
            "        [ 8, 27,  0],\n",
            "        [ 9, 23,  0],\n",
            "        [13,  2,  0],\n",
            "        [13, 19,  0],\n",
            "        [21, 18,  0],\n",
            "        [25, 13,  0],\n",
            "        [26, 17,  0]])\n",
            "Any pixels > 3 stds?: True\n"
          ]
        },
        {
          "output_type": "execute_result",
          "data": {
            "text/plain": [
              "<matplotlib.image.AxesImage at 0x7e766abdd0d0>"
            ]
          },
          "metadata": {},
          "execution_count": 66
        },
        {
          "output_type": "display_data",
          "data": {
            "text/plain": [
              "<Figure size 640x480 with 2 Axes>"
            ],
            "image/png": "[encoded data removed]"
          },
          "metadata": {}
        }
      ]
    },
    {
      "cell_type": "code",
      "source": [
        "# Ensures everything is reproducable, ChatGPT\n",
        "import random\n",
        "import numpy as np\n",
        "import torch\n",
        "\n",
        "seed = 42\n",
        "\n",
        "random.seed(seed)  # Python’s built-in random module\n",
        "np.random.seed(seed)  # NumPy random seed\n",
        "torch.manual_seed(seed)  # PyTorch CPU seed\n",
        "torch.cuda.manual_seed(seed)  # PyTorch CUDA seed\n",
        "torch.cuda.manual_seed_all(seed)  # All GPUs\n",
        "torch.backends.cudnn.deterministic = True  # Ensures deterministic CNN results\n",
        "torch.backends.cudnn.benchmark = False  # Disables optimization for reproducibility"
      ],
      "metadata": {
        "id": "IixQitmty9E3"
      },
      "execution_count": null,
      "outputs": []
    },
    {
      "cell_type": "markdown",
      "source": [
        "#### Types\n",
        "\n",
        "##### **Floats**\n",
        "float16 => torch.float16 | torch.half <br>\n",
        "float32 => torch.float32 | torch.float <br>\n",
        "float64 => torch.float64 | torch.double <br>\n",
        "\n",
        "##### **Ints**\n",
        "uint8 => torch.uint8 @depricated <br>\n",
        "int8 => torch.int8 <br>\n",
        "int16 => torch.int16 | torch.short <br>\n",
        "int32 => torch.int32 | torch.int <br>\n",
        "int64 => torch.int64 | torch.long <br>\n",
        "\n",
        "##### **Bool**\n",
        "bool => torch.bool <br>\n",
        "\n",
        "##### **Complex Numbers, two floats**\n",
        "complex64 => torch.complex64 | torch.float32 + torch.float32 <br>\n",
        "complex128 => torch.complex128 | torch.float64 + torch.float64 <br>\n",
        "\n",
        "##### **Quantization**\n",
        "qint8 => torch.qint8 <br>\n",
        "quint8 => torch.quint8 <br>\n",
        "qint32 => torch.qint32 <br>\n",
        "\n",
        "##### **Brain Floats**\n",
        "bfloat16 => torch.bfloat16 (same range as float32 less precise) <br>"
      ],
      "metadata": {
        "id": "lypRmkRvy--z"
      }
    },
    {
      "cell_type": "markdown",
      "source": [
        "### Math"
      ],
      "metadata": {
        "id": "KF_uEGy_zcYC"
      }
    },
    {
      "cell_type": "markdown",
      "source": [
        "#### Basic Operations"
      ],
      "metadata": {
        "id": "dSk133CNWgPF"
      }
    },
    {
      "cell_type": "code",
      "source": [
        "# Basics\n",
        "\n",
        "a = torch.randint(size=(2,2), low=0, high=10, dtype=torch.float)\n",
        "\n",
        "b = torch.ones((2,2))\n",
        "\n",
        "# Add\n",
        "\n",
        "a + b\n",
        "\n",
        "# Sub\n",
        "\n",
        "a - b\n",
        "\n",
        "# elem multi\n",
        "\n",
        "a * b\n",
        "\n",
        "# elem div\n",
        "\n",
        "a / b\n",
        "\n",
        "# Mat mul\n",
        "\n",
        "a @ b\n",
        "\n",
        "# Batch matmul, faster, shapes must be (batch, N, M) (batch, K, N)\n",
        "\n",
        "torch.bmm(\n",
        "    torch.randn(10, 4, 5),\n",
        "    torch.randn(10, 5, 4),\n",
        ")\n",
        "\n",
        "# mm then add, for linear layer, faster on gpu\n",
        "\n",
        "torch.addmm(\n",
        "    torch.randn(10, 10), # Bias\n",
        "    torch.randn(10, 5), # Weights\n",
        "    torch.randn(5, 10), # Inputs\n",
        ")\n",
        "\n",
        "# Absolute\n",
        "a.abs()\n",
        "\n",
        "# Square\n",
        "a ** 2\n",
        "\n",
        "# Sqrt\n",
        "a.sqrt()\n",
        "\n",
        "# Exponential (e^a)\n",
        "a.exp()\n",
        "\n",
        "# Natural logarithm, ln\n",
        "a.log()\n",
        "\n",
        "# Log 10\n",
        "a.log10()\n",
        "\n",
        "# Stats\n",
        "\n",
        "# Sum\n",
        "a.sum()\n",
        "\n",
        "# Mean / median / mode\n",
        "a.mean()\n",
        "a.median()\n",
        "a.mode()\n",
        "\n",
        "# std / var / quantiles\n",
        "a.std()\n",
        "a.var()\n",
        "a.quantile(0.75)\n",
        "\n",
        "# Extremes\n",
        "a.min()\n",
        "a.max()\n",
        "\n",
        "# Values to [min, max]\n",
        "a.clamp(0,1)\n",
        "\n",
        "# Position of max / min\n",
        "a.argmax()\n",
        "a.argmin()\n",
        "\n",
        "# Get number of non-zero elements\n",
        "a.count_nonzero()\n",
        "\n",
        "# Sort, returns (values=[...], indices=[...])\n",
        "\n",
        "# Get top k items, returns (values=[...], indices=[...])\n",
        "a.flatten().topk(3)\n",
        "\n",
        "# Binning, equal size between min and max, else data min and max\n",
        "a.histc(4)\n",
        "\n",
        "# PDF, dim key word, return in size of dim use compress on other dims\n",
        "b.flatten().cumsum(dim=-1)\n",
        "\n",
        "# Get unique\n",
        "b.unique(return_counts=True)\n",
        "\n",
        "pass"
      ],
      "metadata": {
        "id": "eCej6x3lWjne"
      },
      "execution_count": null,
      "outputs": []
    },
    {
      "cell_type": "code",
      "source": [
        "# Benchmarking mm vs bmm, would only matter on very large batches, mm detected batches now\n",
        "\n",
        "b: int = int(1e4)\n",
        "\n",
        "a, b = torch.randn(b, 100, 100), torch.randn(b, 100, 100)\n",
        "\n",
        "%timeit torch.matmul(a, b)\n",
        "%timeit torch.bmm(a, b)\n",
        "\n",
        "pass"
      ],
      "metadata": {
        "colab": {
          "base_uri": "https://localhost:8080/"
        },
        "id": "4_uu-d43sLoF",
        "outputId": "6324a2c5-f399-47d0-ce7f-fe2e87ef1f98"
      },
      "execution_count": null,
      "outputs": [
        {
          "output_type": "stream",
          "name": "stdout",
          "text": [
            "661 ms ± 6.13 ms per loop (mean ± std. dev. of 7 runs, 1 loop each)\n",
            "730 ms ± 115 ms per loop (mean ± std. dev. of 7 runs, 1 loop each)\n"
          ]
        }
      ]
    },
    {
      "cell_type": "markdown",
      "source": [
        "#### Linalg"
      ],
      "metadata": {
        "id": "PNI49JaMW2g1"
      }
    },
    {
      "cell_type": "code",
      "source": [
        "a = torch.randint(size=(3,3), low=0, high=6, dtype=torch.float)\n",
        "\n",
        "b = torch.randint(size=(3,), low=0, high=6, dtype=torch.float)\n",
        "\n",
        "# diagonal\n",
        "\n",
        "a.diag()\n",
        "\n",
        "# trace, sum diag\n",
        "\n",
        "a.trace()\n",
        "\n",
        "# Get rank\n",
        "\n",
        "torch.linalg.matrix_rank(a)\n",
        "\n",
        "# Get determinant\n",
        "\n",
        "assert a.det() != 0, \"Matrix is singular\"\n",
        "\n",
        "# Numerically stable log determinant, for large matrix\n",
        "sign, abslogdet = torch.linalg.slogdet(a)\n",
        "# a = sign * exp(abslogdet)\n",
        "\n",
        "# Norm\n",
        "\n",
        "# L1\n",
        "torch.linalg.norm(b, ord=1)\n",
        "\n",
        "# L2\n",
        "torch.linalg.norm(b, ord=2)\n",
        "\n",
        "# L any p, sum(i ** p) ** 1/p\n",
        "p: int = 9\n",
        "torch.linalg.norm(b, ord=p)\n",
        "\n",
        "# inverse\n",
        "\n",
        "a.inverse()\n",
        "\n",
        "# rref, through lu\n",
        "\n",
        "P, L, U = torch.lu_unpack(\n",
        "    *torch.linalg.lu_factor(a)\n",
        ")\n",
        "\n",
        "\n",
        "# QR decomp\n",
        "Q, R = torch.linalg.qr(a)\n",
        "\n",
        "# Eigen, returns complex\n",
        "eigenvalues, eigenvectors = torch.linalg.eig(a)\n",
        "eigvals_real = torch.linalg.eigvalsh(a)\n",
        "\n",
        "# Matrix SVD\n",
        "U, S, V = torch.linalg.svd(a)\n",
        "\n",
        "# Solving linear system, a must be square\n",
        "torch.linalg.solve(a, b)\n",
        "\n",
        "# Solve least square solution, rows > columns -> projection, columns > rows min norm\n",
        "torch.linalg.lstsq(a, b)\n",
        "# In this case same as solve\n",
        "\n",
        "# element wise aii * a (k, m) (q, n) -> (kq, mn)\n",
        "torch.kron(a, a)\n",
        "\n",
        "pass"
      ],
      "metadata": {
        "id": "IozUNjokW8dI"
      },
      "execution_count": null,
      "outputs": []
    },
    {
      "cell_type": "markdown",
      "source": [
        "### Autograd"
      ],
      "metadata": {
        "id": "I24G-3-V2yaS"
      }
    },
    {
      "cell_type": "code",
      "source": [
        "# compute the gradient of a variable with respect to another variable\n",
        "# Tracks operations using a graph\n",
        "\n",
        "a = torch.tensor(2.0, requires_grad=True)\n",
        "\n",
        "loss = (a - 4) ** 2\n",
        "\n",
        "loss.backward()\n",
        "\n",
        "print(a.grad)\n",
        "\n",
        "# remove history\n",
        "a.grad.zero_()\n",
        "\n",
        "print(a.grad)"
      ],
      "metadata": {
        "id": "Edg8by4W21xV",
        "colab": {
          "base_uri": "https://localhost:8080/"
        },
        "outputId": "9f827da1-4991-40f1-8065-42c04314d45d"
      },
      "execution_count": null,
      "outputs": [
        {
          "output_type": "stream",
          "name": "stdout",
          "text": [
            "tensor(-4.)\n",
            "tensor(0.)\n"
          ]
        }
      ]
    },
    {
      "cell_type": "code",
      "source": [
        "# Not using grad\n",
        "\n",
        "with torch.no_grad():\n",
        "  pass"
      ],
      "metadata": {
        "id": "sido8W0MNU1k"
      },
      "execution_count": null,
      "outputs": []
    },
    {
      "cell_type": "code",
      "source": [
        "# Simple training loop\n",
        "\n",
        "from itertools import repeat\n",
        "\n",
        "a = torch.tensor(torch.randint(size=(1,), low=-100, high=100, dtype=torch.float).item(), requires_grad=True)\n",
        "\n",
        "# Optimal solution is 4\n",
        "loss_fn = lambda x: (x - 4) ** 2\n",
        "\n",
        "epochs: int = 500\n",
        "lr: float = 1e-2\n",
        "\n",
        "# Track\n",
        "loss_hist = []\n",
        "a_hist = []\n",
        "\n",
        "for _ in repeat(None, epochs):\n",
        "\n",
        "  loss = loss_fn(a)\n",
        "\n",
        "  loss_hist.append(loss.item())\n",
        "\n",
        "  loss.backward()\n",
        "\n",
        "  # print(\n",
        "  #     f\"A ({a.item()} -> {a.item() - lr * a.grad.item()})\",\n",
        "  #     f\"Loss: {loss.item()}\",\n",
        "  #     f\"Grad: {a.grad.item()}\",\n",
        "  #     \"\",\n",
        "  #     sep='\\n'\n",
        "  # )\n",
        "\n",
        "  a = torch.tensor(float(a.item() - lr * a.grad.item()), requires_grad=True)\n",
        "\n",
        "  a_hist.append(a.item())\n",
        "\n",
        "  if a.grad: a.grad.zero_()\n",
        "\n",
        "plt.plot(range(epochs), loss_hist)\n",
        "plt.plot(range(epochs), a_hist, 'r')\n",
        "plt.plot(range(epochs), list(repeat(4, epochs)), 'b--')"
      ],
      "metadata": {
        "colab": {
          "base_uri": "https://localhost:8080/",
          "height": 449
        },
        "id": "B0SWfDr9FpDO",
        "outputId": "79c66abf-d128-4579-b43a-c6efee8e9f30"
      },
      "execution_count": null,
      "outputs": [
        {
          "output_type": "execute_result",
          "data": {
            "text/plain": [
              "[<matplotlib.lines.Line2D at 0x7dc1f7b07b90>]"
            ]
          },
          "metadata": {},
          "execution_count": 64
        },
        {
          "output_type": "display_data",
          "data": {
            "text/plain": [
              "<Figure size 640x480 with 1 Axes>"
            ],
            "image/png": "[encoded data removed]"
          },
          "metadata": {}
        }
      ]
    },
    {
      "cell_type": "markdown",
      "source": [
        "## Neural Networks\n",
        "\n",
        "- Dataloaders\n",
        "- Linear Model (Fibonnaci)\n",
        "- Linear Model (MNIST)\n",
        "- RNN Model (IMDB)"
      ],
      "metadata": {
        "id": "WHFhSX8SKiU3"
      }
    },
    {
      "cell_type": "code",
      "source": [
        "import copy\n",
        "\n",
        "from torch.utils.data import DataLoader, Dataset, ConcatDataset\n",
        "from torch import optim, nn\n",
        "import torch.nn.functional as F\n",
        "from torchvision import transforms, datasets as vdatasets\n",
        "\n",
        "from torchvision.datasets import MNIST, CIFAR10\n",
        "from datasets import load_dataset"
      ],
      "metadata": {
        "id": "a9bV4kKKNWzU"
      },
      "execution_count": 8,
      "outputs": []
    },
    {
      "cell_type": "markdown",
      "source": [
        "### Dataloaders"
      ],
      "metadata": {
        "id": "kSMt2cS9Ks02"
      }
    },
    {
      "cell_type": "code",
      "source": [
        "# Fit model on fibonnaci, test for generalization, it wont lol\n",
        "\n",
        "x = torch.arange(0, 30, 1)\n",
        "\n",
        "y = torch.tensor(list(map(fibbonaci, x)))\n",
        "\n",
        "p = torch.randperm(x.shape[0])\n",
        "\n",
        "x, y = x[p], y[p]\n",
        "\n",
        "cutoff: int = 25\n",
        "\n",
        "x_train, y_train, x_test, y_test = x[:cutoff], y[:cutoff], x[cutoff:], y[cutoff:]\n",
        "\n",
        "# Validate on 30 - 40\n",
        "\n",
        "x_val = torch.arange(30, 40, 1)\n",
        "\n",
        "y_val = torch.tensor(list(map(fibbonaci, x_val)))"
      ],
      "metadata": {
        "id": "OHQ7_tHZQdPT"
      },
      "execution_count": null,
      "outputs": []
    },
    {
      "cell_type": "code",
      "source": [
        "# Create a dataset\n",
        "\n",
        "from dataclasses import dataclass\n",
        "\n",
        "@dataclass\n",
        "class FibbonaciSet(Dataset):\n",
        "\n",
        "  def __init__(self, x, y):\n",
        "\n",
        "    self.x = x.to(torch.double)\n",
        "\n",
        "    # Log for numerical stability\n",
        "    self.y = y.to(torch.double).log()\n",
        "\n",
        "  def __len__(self) -> int:\n",
        "\n",
        "    return self.x.shape[0]\n",
        "\n",
        "  def __getitem__(self, idx: int) -> Tuple[torch.long, torch.long]:\n",
        "\n",
        "    return self.x[idx], self.y[idx]\n",
        "\n",
        "train = FibbonaciSet(x_train, y_train)\n",
        "test = FibbonaciSet(x_test, y_test)\n",
        "val = FibbonaciSet(x_val, y_val)\n",
        "\n",
        "# indexing (x, y)\n",
        "train[0:3]\n",
        "\n",
        "# iterating\n",
        "for x, y in train:\n",
        "  break\n",
        "\n",
        "# Concat datasets\n",
        "unseen = ConcatDataset([test, val])\n",
        "\n",
        "pass"
      ],
      "metadata": {
        "id": "FKDMsE3Dg_LJ"
      },
      "execution_count": null,
      "outputs": []
    },
    {
      "cell_type": "code",
      "source": [
        "# Dataloaders\n",
        "\n",
        "train_loader = DataLoader(\n",
        "    train,\n",
        "    batch_size=4,\n",
        "    shuffle=True,\n",
        "    num_workers=2, # <-- For computation\n",
        "    pin_memory=False, # <-- For GPU things\n",
        "    drop_last=False, # <-- For incomplete batches\n",
        ")\n",
        "\n",
        "test_loader = DataLoader(\n",
        "    test,\n",
        "    batch_size=4,\n",
        "    shuffle=True,\n",
        "    num_workers=2,\n",
        "    pin_memory=False,\n",
        "    drop_last=False,\n",
        ")\n",
        "\n",
        "val_loader = DataLoader(\n",
        "    val,\n",
        "    batch_size=4,\n",
        "    shuffle=True,\n",
        "    num_workers=2,\n",
        "    pin_memory=False,\n",
        "    drop_last=False,\n",
        ")\n",
        "\n",
        "# iterating\n",
        "for x, y in train_loader:\n",
        "  break\n",
        "\n",
        "# Does not support indexing\n",
        "try:\n",
        "  train_loader[0]\n",
        "except TypeError as TE:\n",
        "  print(\"Does not\")"
      ],
      "metadata": {
        "colab": {
          "base_uri": "https://localhost:8080/"
        },
        "id": "dqUKzK2xKCUQ",
        "outputId": "0be42c3d-e1bc-4e58-d356-9da099f7ee56"
      },
      "execution_count": null,
      "outputs": [
        {
          "output_type": "stream",
          "name": "stdout",
          "text": [
            "Does not\n"
          ]
        }
      ]
    },
    {
      "cell_type": "markdown",
      "source": [
        "### Linear Model (Fibonnaci)"
      ],
      "metadata": {
        "id": "fFe2jgaMMsfa"
      }
    },
    {
      "cell_type": "code",
      "source": [
        "# Build\n",
        "\n",
        "import torch.nn as nn\n",
        "from torch.nn import functional as f\n",
        "\n",
        "class Model(nn.Module):\n",
        "\n",
        "  def __init__(self):\n",
        "    super().__init__()\n",
        "\n",
        "    self.fc1 = nn.Linear(1, 10)\n",
        "    self.fc2 = nn.Linear(10, 10)\n",
        "    self.fc3 = nn.Linear(10, 1)\n",
        "\n",
        "  def forward(self, x):\n",
        "\n",
        "    x = self.fc1(x)\n",
        "    x = self.fc2(x)\n",
        "    x = self.fc3(x)\n",
        "\n",
        "    return x\n",
        "\n",
        "model = Model()\n",
        "naive_model = copy.deepcopy(model)\n",
        "model = model.to(torch.double)"
      ],
      "metadata": {
        "id": "J9CQXncAMwkI"
      },
      "execution_count": null,
      "outputs": []
    },
    {
      "cell_type": "code",
      "source": [
        "# Compile (optional)\n",
        "\n",
        "# model = torch.compile(model)"
      ],
      "metadata": {
        "id": "pxntA__cQQpj"
      },
      "execution_count": null,
      "outputs": []
    },
    {
      "cell_type": "code",
      "source": [
        "# Train\n",
        "\n",
        "from IPython.display import clear_output\n",
        "\n",
        "train_hist = []\n",
        "test_hist = []\n",
        "\n",
        "loss_fn = nn.MSELoss()\n",
        "\n",
        "optimizer = optim.SGD(model.parameters(), lr=1e-5)\n",
        "\n",
        "epochs: int = 100\n",
        "\n",
        "for i in range(epochs):\n",
        "\n",
        "  print(\n",
        "      f\"Epoch: {i + 1}/{epochs}\"\n",
        "  )\n",
        "\n",
        "  clear_output(wait=True)\n",
        "\n",
        "  for x, y in train_loader:\n",
        "\n",
        "    optimizer.zero_grad()\n",
        "\n",
        "    output = model(x.unsqueeze(-1)).squeeze(-1)\n",
        "\n",
        "    loss = loss_fn(y, output)\n",
        "\n",
        "    train_hist.append(loss.item())\n",
        "\n",
        "    loss.backward()\n",
        "    optimizer.step()\n",
        "\n",
        "  for x, y in test_loader:\n",
        "\n",
        "    test_hist.append(\n",
        "        loss_fn(\n",
        "            y, model(x.unsqueeze(-1)).squeeze(-1)\n",
        "        ).item()\n",
        "    )\n",
        "\n",
        "# go by epochs ignore batches\n",
        "plt.plot(range(epochs), train_hist[::7], 'b')\n",
        "plt.plot(range(epochs), test_hist[::2], 'r')"
      ],
      "metadata": {
        "colab": {
          "base_uri": "https://localhost:8080/",
          "height": 449
        },
        "id": "cFEJuU07QXZu",
        "outputId": "85402127-fdd4-4a97-9a5a-6d42cf60e54c"
      },
      "execution_count": null,
      "outputs": [
        {
          "output_type": "execute_result",
          "data": {
            "text/plain": [
              "[<matplotlib.lines.Line2D at 0x7a933ff63890>]"
            ]
          },
          "metadata": {},
          "execution_count": 24
        },
        {
          "output_type": "display_data",
          "data": {
            "text/plain": [
              "<Figure size 640x480 with 1 Axes>"
            ],
            "image/png": "[encoded data removed]"
          },
          "metadata": {}
        }
      ]
    },
    {
      "cell_type": "code",
      "source": [
        "for x, y in val_loader:\n",
        "  print(\n",
        "      loss_fn(\n",
        "        y, model(x.unsqueeze(-1)).squeeze(-1)\n",
        "    )\n",
        "  )"
      ],
      "metadata": {
        "colab": {
          "base_uri": "https://localhost:8080/"
        },
        "id": "rdN3OrctTu48",
        "outputId": "8d7a57a4-be90-447d-8a8b-914ee4d556a9"
      },
      "execution_count": null,
      "outputs": [
        {
          "output_type": "stream",
          "name": "stdout",
          "text": [
            "tensor(0.3470, dtype=torch.float64, grad_fn=<MseLossBackward0>)\n",
            "tensor(0.3693, dtype=torch.float64, grad_fn=<MseLossBackward0>)\n",
            "tensor(0.2259, dtype=torch.float64, grad_fn=<MseLossBackward0>)\n"
          ]
        }
      ]
    },
    {
      "cell_type": "code",
      "source": [
        "# Show diffrence between naive and trained\n",
        "\n",
        "n: int = 30\n",
        "\n",
        "loss_naive = []\n",
        "loss_trained = []\n",
        "\n",
        "model.eval()\n",
        "naive_model.eval()\n",
        "\n",
        "for i in range(n):\n",
        "\n",
        "  true = fibbonaci(i)\n",
        "\n",
        "  naive = naive_model(torch.tensor(i, dtype=torch.float).unsqueeze(-1))\n",
        "  trained = model(torch.tensor(i, dtype=torch.double).unsqueeze(-1))\n",
        "\n",
        "  loss_naive.append(\n",
        "      loss_fn(\n",
        "          torch.tensor(true),\n",
        "          naive\n",
        "      ).detach().numpy()\n",
        "  )\n",
        "\n",
        "  loss_trained.append(\n",
        "      loss_fn(torch.tensor(true), trained).detach().numpy()\n",
        "  )\n",
        "\n",
        "# Loss by number for fibonnaci\n",
        "print(\"Avg MSE naive \", sum(loss_naive) / loss_naive.__len__())\n",
        "print(\"Avg MSE trained \", sum(loss_trained) / loss_trained.__len__())\n",
        "\n",
        "# This model is bad"
      ],
      "metadata": {
        "colab": {
          "base_uri": "https://localhost:8080/"
        },
        "id": "mms7gqBLgOR-",
        "outputId": "a10c92b3-eb33-45d3-d548-a2498d2fa66e"
      },
      "execution_count": null,
      "outputs": [
        {
          "output_type": "stream",
          "name": "stdout",
          "text": [
            "Avg MSE naive  14261414000.0\n",
            "Avg MSE trained  14260885719.144176\n"
          ]
        }
      ]
    },
    {
      "cell_type": "markdown",
      "source": [
        "### Linear Model (MNIST)"
      ],
      "metadata": {
        "id": "mw7bDWqnTXhO"
      }
    },
    {
      "cell_type": "code",
      "source": [
        "# Dataset and Dataloader\n",
        "\n",
        "transform = transforms.Compose([\n",
        "    transforms.ToTensor(),\n",
        "    # Between -1 and 1\n",
        "    transforms.Normalize(0.5, 0.5),\n",
        "])\n",
        "\n",
        "train_dataset = vdatasets.MNIST(root='./data', train=True, transform=transform, download=True)\n",
        "test_dataset  = vdatasets.MNIST(root='./data', train=False, transform=transform, download=True)\n",
        "\n",
        "train_loader = DataLoader(train_dataset, batch_size=64, shuffle=True, pin_memory=True)\n",
        "test_loader  = DataLoader(test_dataset, batch_size=64, shuffle=False, pin_memory=True)"
      ],
      "metadata": {
        "id": "krlE6cB3TbX8",
        "colab": {
          "base_uri": "https://localhost:8080/"
        },
        "outputId": "394fc96f-c96a-4565-a312-bc7e2589af80"
      },
      "execution_count": null,
      "outputs": [
        {
          "output_type": "stream",
          "name": "stderr",
          "text": [
            "100%|██████████| 9.91M/9.91M [00:02<00:00, 4.59MB/s]\n",
            "100%|██████████| 28.9k/28.9k [00:00<00:00, 134kB/s]\n",
            "100%|██████████| 1.65M/1.65M [00:01<00:00, 1.28MB/s]\n",
            "100%|██████████| 4.54k/4.54k [00:00<00:00, 7.21MB/s]\n"
          ]
        }
      ]
    },
    {
      "cell_type": "code",
      "source": [
        "# Check image distributions\n",
        "\n",
        "for x, y in train_loader:\n",
        "  img = x\n",
        "  print(img.min(), img.max(), img.mean(), img.std())\n",
        "  break"
      ],
      "metadata": {
        "colab": {
          "base_uri": "https://localhost:8080/"
        },
        "id": "gutZorl0ZtcD",
        "outputId": "080f983f-3fb7-4c4f-e390-936280889378"
      },
      "execution_count": null,
      "outputs": [
        {
          "output_type": "stream",
          "name": "stdout",
          "text": [
            "tensor(-1.) tensor(1.) tensor(-0.7371) tensor(0.6179)\n"
          ]
        }
      ]
    },
    {
      "cell_type": "code",
      "source": [
        "# Plot sample images\n",
        "\n",
        "fig, axs = plt.subplots(8,8, figsize=(14, 14))\n",
        "\n",
        "axs = axs.flatten()\n",
        "\n",
        "for x, _ in train_loader:\n",
        "\n",
        "  break\n",
        "\n",
        "for a, img in zip(axs, x):\n",
        "\n",
        "  a.imshow(img.permute(1, 2, 0), cmap='gray')"
      ],
      "metadata": {
        "colab": {
          "base_uri": "https://localhost:8080/",
          "height": 1000
        },
        "collapsed": true,
        "id": "GYfA8kqCbhdO",
        "outputId": "44b955eb-1383-499d-d607-b9294bbdeedc"
      },
      "execution_count": null,
      "outputs": [
        {
          "output_type": "display_data",
          "data": {
            "text/plain": [
              "<Figure size 1400x1400 with 64 Axes>"
            ],
            "image/png": "[encoded data removed]"
          },
          "metadata": {}
        }
      ]
    },
    {
      "cell_type": "code",
      "source": [
        "# try straight linear no featurization\n",
        "\n",
        "class Model(nn.Module):\n",
        "\n",
        "  def __init__(self) -> None:\n",
        "\n",
        "    super().__init__()\n",
        "\n",
        "    self.fc1 = nn.Linear(784, 128)\n",
        "    self.fc2 = nn.Linear(128, 64)\n",
        "    self.out = nn.Linear(64, 10)\n",
        "\n",
        "  def forward(self, x) -> None:\n",
        "\n",
        "    x = nn.Flatten()(x)\n",
        "    x = self.fc1(x)\n",
        "    x = nn.ReLU()(x)\n",
        "    x = self.fc2(x)\n",
        "    x = nn.ReLU()(x)\n",
        "    x = self.out(x)\n",
        "\n",
        "    return x # <-- Return Logits for Categorical Cross Entropy\n",
        "\n",
        "model = Model()\n",
        "model.to(device)\n",
        "\n",
        "next(model.parameters()).device"
      ],
      "metadata": {
        "colab": {
          "base_uri": "https://localhost:8080/"
        },
        "id": "AF00n0POc-E2",
        "outputId": "2dcd8c31-07fd-4e64-c00a-fd66d6367562"
      },
      "execution_count": null,
      "outputs": [
        {
          "output_type": "execute_result",
          "data": {
            "text/plain": [
              "device(type='cuda', index=0)"
            ]
          },
          "metadata": {},
          "execution_count": 72
        }
      ]
    },
    {
      "cell_type": "code",
      "source": [
        "from IPython.display import clear_output\n",
        "\n",
        "epochs: int = 10\n",
        "lr: float = 1e-2\n",
        "\n",
        "optimizer = torch.optim.Adam(model.parameters(), lr)\n",
        "loss_fn = nn.CrossEntropyLoss()\n",
        "\n",
        "loss_hist = torch.zeros(size=(train_loader.__len__() * epochs,))\n",
        "\n",
        "def hist():\n",
        "  yield from [l for l in range(loss_hist.shape[0])]\n",
        "\n",
        "h = hist()\n",
        "\n",
        "for i in range(epochs):\n",
        "\n",
        "  print(f\"{i + 1}/{epochs}\")\n",
        "\n",
        "  print(\n",
        "      'Loss:',\n",
        "      loss_hist[i * train_loader.__len__() - 1].item()\n",
        "    )\n",
        "\n",
        "  for x, y in train_loader:\n",
        "\n",
        "    x = x.to(device)\n",
        "    y = y.to(device)\n",
        "\n",
        "    optimizer.zero_grad()\n",
        "\n",
        "    loss = loss_fn(\n",
        "        model(x),\n",
        "        y\n",
        "    )\n",
        "\n",
        "    loss.backward()\n",
        "\n",
        "    loss_item = loss.detach().item()\n",
        "\n",
        "    loss_hist[next(h)] = loss_item\n",
        "\n",
        "    optimizer.step()\n",
        "\n",
        "  clear_output(wait=True)\n"
      ],
      "metadata": {
        "colab": {
          "base_uri": "https://localhost:8080/"
        },
        "id": "jWLwogmVeHCW",
        "outputId": "31a138ed-fc78-4619-a2de-319055c5d05c"
      },
      "execution_count": null,
      "outputs": [
        {
          "output_type": "stream",
          "name": "stdout",
          "text": [
            "10/10\n",
            "0.39243951439857483\n"
          ]
        }
      ]
    },
    {
      "cell_type": "code",
      "source": [
        "# Show smoothed graph\n",
        "\n",
        "s: int = 10\n",
        "\n",
        "conv_window = torch.ones((1,1, s)) / s\n",
        "\n",
        "smoothed_graph = F.conv1d(loss_hist.view(1, 1, -1), conv_window, padding=s//2)\n",
        "\n",
        "plt.plot(range(smoothed_graph.shape[-1]), smoothed_graph.view(-1))"
      ],
      "metadata": {
        "colab": {
          "base_uri": "https://localhost:8080/",
          "height": 449
        },
        "id": "3nfuJkAvyCSk",
        "outputId": "566ce5e7-cf4c-4ff2-bfe7-c75854fcbe86"
      },
      "execution_count": null,
      "outputs": [
        {
          "output_type": "execute_result",
          "data": {
            "text/plain": [
              "[<matplotlib.lines.Line2D at 0x7db7cd9caf90>]"
            ]
          },
          "metadata": {},
          "execution_count": 74
        },
        {
          "output_type": "display_data",
          "data": {
            "text/plain": [
              "<Figure size 640x480 with 1 Axes>"
            ],
            "image/png": "[encoded data removed]"
          },
          "metadata": {}
        }
      ]
    },
    {
      "cell_type": "code",
      "source": [
        "from torchmetrics.classification import Accuracy\n",
        "\n",
        "metric = Accuracy(task=\"multiclass\", num_classes=10)\n",
        "metric.to(device)\n",
        "\n",
        "acc = []\n",
        "\n",
        "# During training or eval\n",
        "for x, y in test_loader:\n",
        "\n",
        "  x = x.to(device)\n",
        "  y = y.to(device)\n",
        "\n",
        "  acc.append(metric(model(x), y))\n",
        "\n",
        "sum(acc) / acc.__len__()"
      ],
      "metadata": {
        "colab": {
          "base_uri": "https://localhost:8080/"
        },
        "id": "f-Y4O91ajRA9",
        "outputId": "22baa516-3410-4f47-cf92-8b5545008dfd"
      },
      "execution_count": null,
      "outputs": [
        {
          "output_type": "execute_result",
          "data": {
            "text/plain": [
              "tensor(0.9438, device='cuda:0')"
            ]
          },
          "metadata": {},
          "execution_count": 75
        }
      ]
    },
    {
      "cell_type": "markdown",
      "source": [
        "### RNN Model (IMDB)"
      ],
      "metadata": {
        "id": "f86w_ZWj_jeu"
      }
    },
    {
      "cell_type": "code",
      "source": [
        "dataset = load_dataset(\"imdb\")"
      ],
      "metadata": {
        "colab": {
          "base_uri": "https://localhost:8080/",
          "height": 373,
          "referenced_widgets": [
            "3a55eb04c1ce44cab5864727b7e11aa7",
            "a98954e6a6f44f0fb93f22d093e0e43d",
            "395f10d1d3934d4eb54e72ed0e311d1c",
            "cb24658f31d840e793118147459607d1",
            "e4a6e348140b4af2b306eb84e7164db7",
            "fe369a83a8ca41b8ac389bf7723430a3",
            "d90569e445f3471aa3c7e6fd2cd0cc61",
            "2481e6c7cbec4b19892af65b69ca87e3",
            "4dcc170079a548dfa3105e0761cf4965",
            "099dd0ce6e8443ab8f56e96684988aaa",
            "5bc02c6e2a90468c874a8875a2cd8594",
            "54dfce374b76489f922d78cb2a043501",
            "49397335c5f14d39977311006f6ef0fc",
            "cc68582b792346249ffb8016e742f27e",
            "392550e003ca4191bf24e79385f7a13c",
            "a436f6b3e3d4460da9899e7da98ea526",
            "90cc1f4fb08a41a483d4965ca0f037da",
            "d632248d2d874dc399387bf2fdbbe24a",
            "f370728ad8824cfe81f0e21af629740d",
            "4617729e331f4ea5b4017d3e15d9c727",
            "7129ddf5a94e432494d3f72be364cd33",
            "3483c013a24a45b9a69745c40599ea60",
            "93815e5334b94760919d8cfdc3a5bff4",
            "034c59d0eedc452a995529305b673e9b",
            "2e84470dbb3f4eb6a9e05893899e013f",
            "8c07fc065d614875829cd123d350a85a",
            "d296f6d108fd41de860aacedf991aa0b",
            "bc0428c4eb1d4d3b97599e94a078f588",
            "9480d066370e45ac9892a5fd4953d3ed",
            "8876311500774735ba059e71905170eb",
            "1b6b56f8574445a683189d911f5d3e31",
            "8176a8b4e74143749c1c650b449bdbc3",
            "f29b915dbcb34ce2b0dd1dea0847d901",
            "85b6ff68302e4d0eb2604c9d5fe4d3d8",
            "a1179f2ae4014227b0364aca36cd879d",
            "6ecfefaaad084149a3f0b80c4edd5966",
            "5172827fa7e54d91ad8ea76955a691f3",
            "8fe62634e2764864902bef8255030bc7",
            "de1b8c830ef740eeb3836366d66abcfa",
            "f8ae12cf027142ae8bc9a877334e9513",
            "031ad2696d7748b6ac953be70b80ca5d",
            "b97e2f97269942d3ac2c478ba2374740",
            "436a4d25ee87427a8e52a358be73e06c",
            "1d13cc0e9a2e439db4ae31efebf5a66c",
            "d90dd0baeb494ab58c50d65b00410c7f",
            "1d8b6fe71ea049cdb75b26bd90c23d2a",
            "d01e3b684aaf49ea81258fb8ec34b7e1",
            "c6d37138c90b4919b90bbb14ed586a53",
            "5c6164ac5caa4e5f8a224ad42950b2ec",
            "f0f586bbddc846eea85825aa6ddbe806",
            "41e9ae11eb2c487aad74b252f62b16e4",
            "3c44a9abbfb24e98b9d1fa1fbe68b5d1",
            "c662b437bc91426e8d2820d49c960766",
            "7a1fa524ec674e83a04a89be1a58da16",
            "1914807c5885445c92b0b36f0ca4abdd",
            "02d003a8d4bf4584ae1a872f1e204c6e",
            "ca0d290d58db4d2a8628993838684d71",
            "7768131cd5574b3d93791fb941c1ba4a",
            "98ef96b384db40ea8919b94ce32b29c7",
            "d88093972ec444d0bad1ddf627674128",
            "543aba14d7334003af9de8ff11b69945",
            "a813f6d0a6284897b02d8eedbf3e3c79",
            "f0f45787270945a693d45979b80593f6",
            "3b7d0042b80248e988910e721721ebf4",
            "1cd4c4efc85e41a5b8321d80e0f08bc3",
            "8ae202f4f0764dc3a19eb2f8cc2351a3",
            "4ce37ff0a2114d469ce7510bb9178e7e",
            "5341788e03ba474a86530c15ab130a06",
            "e440ee43449546588c109fa47c6d0528",
            "535a319a1a47448fa8776e2baf6f3a32",
            "bed9b6edb7014b538e008a10ef91fe3c",
            "f14956aeb0834b1c889ee87fba5d874d",
            "c527d26ee3a549acb92b2c3f0deef29f",
            "a62f158a21864e88b7690266576c53b9",
            "8d846a4cfa5f4aca8edbb6cb6892449a",
            "a064bebdea6e4416b66dd99d1732da5a",
            "454bf511cd2c4c84aca9eacf2ce11f98"
          ]
        },
        "collapsed": true,
        "id": "cvTikUrf_pMd",
        "outputId": "279d98f1-900a-45bd-a1d2-b27c6a4db3b1"
      },
      "execution_count": 9,
      "outputs": [
        {
          "output_type": "stream",
          "name": "stderr",
          "text": [
            "/usr/local/lib/python3.11/dist-packages/huggingface_hub/utils/_auth.py:94: UserWarning: \n",
            "The secret `HF_TOKEN` does not exist in your Colab secrets.\n",
            "To authenticate with the Hugging Face Hub, create a token in your settings tab (https://huggingface.co/settings/tokens), set it as secret in your Google Colab and restart your session.\n",
            "You will be able to reuse this secret in all of your notebooks.\n",
            "Please note that authentication is recommended but still optional to access public models or datasets.\n",
            "  warnings.warn(\n"
          ]
        },
        {
          "output_type": "display_data",
          "data": {
            "text/plain": [
              "README.md:   0%|          | 0.00/7.81k [00:00<?, ?B/s]"
            ],
            "application/vnd.jupyter.widget-view+json": {
              "version_major": 2,
              "version_minor": 0,
              "model_id": "3a55eb04c1ce44cab5864727b7e11aa7"
            }
          },
          "metadata": {}
        },
        {
          "output_type": "display_data",
          "data": {
            "text/plain": [
              "train-00000-of-00001.parquet:   0%|          | 0.00/21.0M [00:00<?, ?B/s]"
            ],
            "application/vnd.jupyter.widget-view+json": {
              "version_major": 2,
              "version_minor": 0,
              "model_id": "54dfce374b76489f922d78cb2a043501"
            }
          },
          "metadata": {}
        },
        {
          "output_type": "display_data",
          "data": {
            "text/plain": [
              "test-00000-of-00001.parquet:   0%|          | 0.00/20.5M [00:00<?, ?B/s]"
            ],
            "application/vnd.jupyter.widget-view+json": {
              "version_major": 2,
              "version_minor": 0,
              "model_id": "93815e5334b94760919d8cfdc3a5bff4"
            }
          },
          "metadata": {}
        },
        {
          "output_type": "display_data",
          "data": {
            "text/plain": [
              "unsupervised-00000-of-00001.parquet:   0%|          | 0.00/42.0M [00:00<?, ?B/s]"
            ],
            "application/vnd.jupyter.widget-view+json": {
              "version_major": 2,
              "version_minor": 0,
              "model_id": "85b6ff68302e4d0eb2604c9d5fe4d3d8"
            }
          },
          "metadata": {}
        },
        {
          "output_type": "display_data",
          "data": {
            "text/plain": [
              "Generating train split:   0%|          | 0/25000 [00:00<?, ? examples/s]"
            ],
            "application/vnd.jupyter.widget-view+json": {
              "version_major": 2,
              "version_minor": 0,
              "model_id": "d90dd0baeb494ab58c50d65b00410c7f"
            }
          },
          "metadata": {}
        },
        {
          "output_type": "display_data",
          "data": {
            "text/plain": [
              "Generating test split:   0%|          | 0/25000 [00:00<?, ? examples/s]"
            ],
            "application/vnd.jupyter.widget-view+json": {
              "version_major": 2,
              "version_minor": 0,
              "model_id": "02d003a8d4bf4584ae1a872f1e204c6e"
            }
          },
          "metadata": {}
        },
        {
          "output_type": "display_data",
          "data": {
            "text/plain": [
              "Generating unsupervised split:   0%|          | 0/50000 [00:00<?, ? examples/s]"
            ],
            "application/vnd.jupyter.widget-view+json": {
              "version_major": 2,
              "version_minor": 0,
              "model_id": "4ce37ff0a2114d469ce7510bb9178e7e"
            }
          },
          "metadata": {}
        }
      ]
    },
    {
      "cell_type": "code",
      "source": [
        "train_dist = torch.tensor(dataset['train']['label']).unique(return_counts=True)\n",
        "test_dist = torch.tensor(dataset['test']['label']).unique(return_counts=True)\n",
        "\n",
        "for dist in (train_dist, test_dist):\n",
        "\n",
        "  for label, num in zip(*dist):\n",
        "\n",
        "    print(\n",
        "        f\"Label {label} has {num} examples\"\n",
        "    )\n",
        "\n",
        "# 50/50 for both sets"
      ],
      "metadata": {
        "colab": {
          "base_uri": "https://localhost:8080/"
        },
        "id": "YjYF2Xe3_zm5",
        "outputId": "4a7e1e7d-f8d7-4785-dc72-11f143d98a4a"
      },
      "execution_count": 10,
      "outputs": [
        {
          "output_type": "stream",
          "name": "stdout",
          "text": [
            "Label 0 has 12500 examples\n",
            "Label 1 has 12500 examples\n",
            "Label 0 has 12500 examples\n",
            "Label 1 has 12500 examples\n"
          ]
        }
      ]
    },
    {
      "cell_type": "code",
      "source": [
        "# Dataset and Loader\n",
        "\n",
        "class TextDataset(Dataset):\n",
        "\n",
        "  def __init__(self, text, labels) -> None:\n",
        "\n",
        "    self.text = text\n",
        "    self.labels = labels\n",
        "\n",
        "  def __len__(self) -> int:\n",
        "\n",
        "    return self.text.__len__()\n",
        "\n",
        "  def __getitem__(self, idx: int) -> Tuple[str, int]:\n",
        "\n",
        "    return self.text[idx], self.labels[idx]\n",
        "\n",
        "train = TextDataset(dataset['train']['text'], dataset['train']['label'])\n",
        "test = TextDataset(dataset['test']['text'], dataset['test']['label'])\n",
        "\n",
        "train_loader = DataLoader(train, batch_size=128, shuffle=True, num_workers=2, pin_memory=True)\n",
        "test_loader = DataLoader(test, batch_size=128, shuffle=True, num_workers=2, pin_memory=True)"
      ],
      "metadata": {
        "id": "yxAeXCcsBfNX"
      },
      "execution_count": 20,
      "outputs": []
    },
    {
      "cell_type": "code",
      "source": [
        "import torch\n",
        "import torch.nn as nn\n",
        "from transformers import BertModel, BertTokenizer\n",
        "\n",
        "tokenizer = BertTokenizer.from_pretrained('bert-base-uncased')\n",
        "bert = BertModel.from_pretrained('bert-base-uncased')\n",
        "bert.eval()\n",
        "\n",
        "class Model(nn.Module):\n",
        "    def __init__(self, embedder, tokenizer):\n",
        "        super().__init__()\n",
        "        self.tokenizer = tokenizer\n",
        "        self.embedder = embedder\n",
        "\n",
        "        self.rnn = nn.RNN(\n",
        "            input_size=768,\n",
        "            hidden_size=384,\n",
        "            num_layers=3,\n",
        "            batch_first=True\n",
        "        )\n",
        "\n",
        "        self.fc1 = nn.Linear(384, 192)\n",
        "        self.fc2 = nn.Linear(192, 96)\n",
        "        self.fc3 = nn.Linear(96, 32)\n",
        "        self.output = nn.Linear(32, 2)\n",
        "        self.act = nn.GELU()\n",
        "\n",
        "    def forward(self, text: str) -> torch.Tensor:\n",
        "\n",
        "        encoding = self.tokenizer(\n",
        "            text,\n",
        "            return_tensors='pt',\n",
        "            padding=True,\n",
        "            truncation=True\n",
        "        ).to(device)\n",
        "\n",
        "        with torch.no_grad():\n",
        "            bert_output = self.embedder(**encoding)\n",
        "\n",
        "            x = bert_output.last_hidden_state\n",
        "\n",
        "        x, _ = self.rnn(x)\n",
        "\n",
        "        x = x[:, -1, :]\n",
        "\n",
        "        x = self.act(self.fc1(x))\n",
        "        x = self.act(self.fc2(x))\n",
        "        x = self.act(self.fc3(x))\n",
        "        x = self.output(x)\n",
        "\n",
        "        return x\n",
        "\n",
        "model = Model(bert, tokenizer)\n",
        "\n",
        "model.to(device)"
      ],
      "metadata": {
        "colab": {
          "base_uri": "https://localhost:8080/",
          "height": 1000,
          "referenced_widgets": [
            "0fbb64e58ac547d29decd6cb037fa3b4",
            "60440a2bf2aa4d11898761a519da057a",
            "7273c78d179c4a518812971345adfa99",
            "05958c5ce6ff44a685a9ba7a88f9f574",
            "4ee1f4d40ebb4672be69b11f20e53b4e",
            "2b94f1087ffc4a9aa35d99af77fde61d",
            "d57e0690811742438999aa092d623b12",
            "09b3407afac34ecd9b61c5b0ec4c1d3d",
            "5b8bc41de8874fafb56ba2fa73d69d1c",
            "38176255bc8845aca1c5f7fba52ea9be",
            "ad70920cd8bc42a88e2bfd5b7a8c24ff",
            "3e505a58021241b6ac88ec636bdfa549",
            "e272864773af473386bea04a998c6846",
            "36000ad82a4d45c993fb7d1d12d6247c",
            "4c1d1e8893864f5d929c85a8fc821f18",
            "ea44be87f5314055ba2d73343f983e76",
            "6d79872e13d14399ad0bc57c50719bdc",
            "96683155f6124769985c14ab05b3107c",
            "21129486a1ed41ef8c37659980b55d6b",
            "f19e9fc187374c7dadb95d2c652d00ca",
            "3cd8ec65915a40cb9d38def9f5bf9471",
            "08d35082b295406190bffec386d5596a",
            "1d9fc8b263594ee0b542f8fccd6f6cfd",
            "28ead8b2a1bf464786729bea6a7df072",
            "f2403b54d4ec4641ab8bbe119a7d2302",
            "fbe05f42bb4c4174b849c67638118a38",
            "3c02b3a741794183ae3af7152ba32c2f",
            "7a7d0048e7e440e2b9e51d95d66194ef",
            "19f92edc2ba346f684967c7ff4713422",
            "2fec51ef685e4f15a8de9fd113d072c1",
            "6ab3ed4da9e84221befe4206919541f2",
            "b1246b57b35547a78d1821098f6b05dd",
            "944408f884b04fe7bde33c9c83271bb3",
            "c103b5a2fd6f46699b4dc5347da90fde",
            "8cc760484de542bfacb989a372690ccf",
            "c81e1604d45d47f88586affa5b046e7d",
            "e8f9b80fb6384aba8b70897808a58ae5",
            "52b803a979e5498bae0b611f6f811f65",
            "83fe16a142fb4bd2b9f88bd476dab27c",
            "8941e110a5bc41d7b36cc9908b932efd",
            "c96959210cff4f829e99d6f0241e0868",
            "537fdc69682047d6bd79c4eaebe66a63",
            "ce963fdd569b44c5b9806ce23de4a296",
            "4c61fd1102a04619a816638d6d7261de",
            "58e6b6fe9fc44c60abfa8f1e0ee12bb5",
            "50180f1e0ff84baa96dcc72416d7065d",
            "f2d122cb1ae04d8eb59eb56d6f3051f1",
            "dbe59daee3ec40c480af03e46baea38f",
            "0e27f5ad7b25418ea4af927c184b0496",
            "f5d235c6a3bb490a85d61ab341c61568",
            "7819876bd40540a29b1ca315d1fce18a",
            "15587715fb4f43048a433981463550f0",
            "829b7dc548b444f7a6f7b4e7a57a527f",
            "fc52713a1cf04dfe9795c085fb5f1c22",
            "9a768ab6476e4b6394ae56bc697e2492"
          ]
        },
        "collapsed": true,
        "id": "sr63-jubELbx",
        "outputId": "18d3127f-69da-447e-b26e-34d9295e5086"
      },
      "execution_count": 23,
      "outputs": [
        {
          "output_type": "display_data",
          "data": {
            "text/plain": [
              "tokenizer_config.json:   0%|          | 0.00/48.0 [00:00<?, ?B/s]"
            ],
            "application/vnd.jupyter.widget-view+json": {
              "version_major": 2,
              "version_minor": 0,
              "model_id": "0fbb64e58ac547d29decd6cb037fa3b4"
            }
          },
          "metadata": {}
        },
        {
          "output_type": "display_data",
          "data": {
            "text/plain": [
              "vocab.txt:   0%|          | 0.00/232k [00:00<?, ?B/s]"
            ],
            "application/vnd.jupyter.widget-view+json": {
              "version_major": 2,
              "version_minor": 0,
              "model_id": "3e505a58021241b6ac88ec636bdfa549"
            }
          },
          "metadata": {}
        },
        {
          "output_type": "display_data",
          "data": {
            "text/plain": [
              "tokenizer.json:   0%|          | 0.00/466k [00:00<?, ?B/s]"
            ],
            "application/vnd.jupyter.widget-view+json": {
              "version_major": 2,
              "version_minor": 0,
              "model_id": "1d9fc8b263594ee0b542f8fccd6f6cfd"
            }
          },
          "metadata": {}
        },
        {
          "output_type": "display_data",
          "data": {
            "text/plain": [
              "config.json:   0%|          | 0.00/570 [00:00<?, ?B/s]"
            ],
            "application/vnd.jupyter.widget-view+json": {
              "version_major": 2,
              "version_minor": 0,
              "model_id": "c103b5a2fd6f46699b4dc5347da90fde"
            }
          },
          "metadata": {}
        },
        {
          "output_type": "stream",
          "name": "stderr",
          "text": [
            "Xet Storage is enabled for this repo, but the 'hf_xet' package is not installed. Falling back to regular HTTP download. For better performance, install the package with: `pip install huggingface_hub[hf_xet]` or `pip install hf_xet`\n",
            "WARNING:huggingface_hub.file_download:Xet Storage is enabled for this repo, but the 'hf_xet' package is not installed. Falling back to regular HTTP download. For better performance, install the package with: `pip install huggingface_hub[hf_xet]` or `pip install hf_xet`\n"
          ]
        },
        {
          "output_type": "display_data",
          "data": {
            "text/plain": [
              "model.safetensors:   0%|          | 0.00/440M [00:00<?, ?B/s]"
            ],
            "application/vnd.jupyter.widget-view+json": {
              "version_major": 2,
              "version_minor": 0,
              "model_id": "58e6b6fe9fc44c60abfa8f1e0ee12bb5"
            }
          },
          "metadata": {}
        },
        {
          "output_type": "execute_result",
          "data": {
            "text/plain": [
              "Model(\n",
              "  (embedder): BertModel(\n",
              "    (embeddings): BertEmbeddings(\n",
              "      (word_embeddings): Embedding(30522, 768, padding_idx=0)\n",
              "      (position_embeddings): Embedding(512, 768)\n",
              "      (token_type_embeddings): Embedding(2, 768)\n",
              "      (LayerNorm): LayerNorm((768,), eps=1e-12, elementwise_affine=True)\n",
              "      (dropout): Dropout(p=0.1, inplace=False)\n",
              "    )\n",
              "    (encoder): BertEncoder(\n",
              "      (layer): ModuleList(\n",
              "        (0-11): 12 x BertLayer(\n",
              "          (attention): BertAttention(\n",
              "            (self): BertSdpaSelfAttention(\n",
              "              (query): Linear(in_features=768, out_features=768, bias=True)\n",
              "              (key): Linear(in_features=768, out_features=768, bias=True)\n",
              "              (value): Linear(in_features=768, out_features=768, bias=True)\n",
              "              (dropout): Dropout(p=0.1, inplace=False)\n",
              "            )\n",
              "            (output): BertSelfOutput(\n",
              "              (dense): Linear(in_features=768, out_features=768, bias=True)\n",
              "              (LayerNorm): LayerNorm((768,), eps=1e-12, elementwise_affine=True)\n",
              "              (dropout): Dropout(p=0.1, inplace=False)\n",
              "            )\n",
              "          )\n",
              "          (intermediate): BertIntermediate(\n",
              "            (dense): Linear(in_features=768, out_features=3072, bias=True)\n",
              "            (intermediate_act_fn): GELUActivation()\n",
              "          )\n",
              "          (output): BertOutput(\n",
              "            (dense): Linear(in_features=3072, out_features=768, bias=True)\n",
              "            (LayerNorm): LayerNorm((768,), eps=1e-12, elementwise_affine=True)\n",
              "            (dropout): Dropout(p=0.1, inplace=False)\n",
              "          )\n",
              "        )\n",
              "      )\n",
              "    )\n",
              "    (pooler): BertPooler(\n",
              "      (dense): Linear(in_features=768, out_features=768, bias=True)\n",
              "      (activation): Tanh()\n",
              "    )\n",
              "  )\n",
              "  (rnn): RNN(768, 384, num_layers=3, batch_first=True)\n",
              "  (fc1): Linear(in_features=384, out_features=192, bias=True)\n",
              "  (fc2): Linear(in_features=192, out_features=96, bias=True)\n",
              "  (fc3): Linear(in_features=96, out_features=32, bias=True)\n",
              "  (output): Linear(in_features=32, out_features=2, bias=True)\n",
              "  (act): GELU(approximate='none')\n",
              ")"
            ]
          },
          "metadata": {},
          "execution_count": 23
        }
      ]
    },
    {
      "cell_type": "code",
      "source": [
        "from tqdm import tqdm\n",
        "\n",
        "epochs = 10\n",
        "lr = 1e-2\n",
        "\n",
        "loss_fn = nn.CrossEntropyLoss()\n",
        "optimizer = torch.optim.Adam(model.parameters(), lr=lr)\n",
        "\n",
        "loss_hist = []\n",
        "\n",
        "model.train()\n",
        "\n",
        "for e in range(epochs):\n",
        "\n",
        "  total_loss = 0\n",
        "\n",
        "  loop = tqdm(train_loader, desc=f\"Epoch {e + 1}\")\n",
        "\n",
        "  batch_num = 0\n",
        "\n",
        "  for x, y in loop:\n",
        "\n",
        "    y = y.to(device)\n",
        "\n",
        "    optimizer.zero_grad()\n",
        "\n",
        "    logits = model(x)\n",
        "\n",
        "    loss = loss_fn(logits, y)\n",
        "\n",
        "    loss.backward()\n",
        "\n",
        "    optimizer.step()\n",
        "\n",
        "    total_loss += loss.item()\n",
        "\n",
        "    loss_hist.append(loss.item())\n",
        "\n",
        "    loop.set_postfix(loss=loss.item())\n",
        "\n",
        "    batch_num += 1\n",
        "\n",
        "  print(f\"Epoch {e+1} average loss: {total_loss/len(train_loader):.4f}\")\n",
        "\n",
        "# Ran out of free GPU run time :("
      ],
      "metadata": {
        "colab": {
          "base_uri": "https://localhost:8080/"
        },
        "collapsed": true,
        "id": "wdcahkowTb7E",
        "outputId": "e16f052a-4932-42ab-a765-d3b42ed08875"
      },
      "execution_count": null,
      "outputs": [
        {
          "output_type": "stream",
          "name": "stderr",
          "text": [
            "Epoch 1: 100%|██████████| 196/196 [15:32<00:00,  4.76s/it, loss=0.695]\n"
          ]
        },
        {
          "output_type": "stream",
          "name": "stdout",
          "text": [
            "Epoch 1 average loss: 0.6935\n"
          ]
        },
        {
          "output_type": "stream",
          "name": "stderr",
          "text": [
            "Epoch 2: 100%|██████████| 196/196 [15:33<00:00,  4.76s/it, loss=0.694]\n"
          ]
        },
        {
          "output_type": "stream",
          "name": "stdout",
          "text": [
            "Epoch 2 average loss: 0.6933\n"
          ]
        },
        {
          "output_type": "stream",
          "name": "stderr",
          "text": [
            "Epoch 3:  88%|████████▊ | 172/196 [13:43<01:54,  4.76s/it, loss=0.693]"
          ]
        }
      ]
    },
    {
      "cell_type": "code",
      "source": [
        "torch.save(model.state_dict(), \"model.pth\")"
      ],
      "metadata": {
        "id": "GN51K6WO20Od"
      },
      "execution_count": null,
      "outputs": []
    },
    {
      "cell_type": "code",
      "source": [
        "a = torch.tensor([], device=device)\n",
        "\n",
        "loop = tqdm(test_loader, desc=f\"Batch\")\n",
        "\n",
        "batch_num = 0\n",
        "\n",
        "for x, y in loop:\n",
        "\n",
        "  if batch_num >= 32:\n",
        "\n",
        "    break\n",
        "\n",
        "  logits = model(x).softmax(dim=0)\n",
        "\n",
        "  a = torch.concat([a, logits.argmax() == y.to(device)])\n",
        "\n",
        "  batch_num += 1"
      ],
      "metadata": {
        "id": "8muX6sSigknA"
      },
      "execution_count": null,
      "outputs": []
    },
    {
      "cell_type": "code",
      "source": [
        "a.mean()"
      ],
      "metadata": {
        "id": "SRAJXo8DjNbs"
      },
      "execution_count": null,
      "outputs": []
    },
    {
      "cell_type": "code",
      "source": [
        "model(\"Hello I love this movie\")"
      ],
      "metadata": {
        "id": "HvXzkNMajyUd"
      },
      "execution_count": null,
      "outputs": []
    }
  ]
}