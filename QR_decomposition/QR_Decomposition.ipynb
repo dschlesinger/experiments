{
  "nbformat": 4,
  "nbformat_minor": 0,
  "metadata": {
    "colab": {
      "provenance": [],
      "authorship_tag": "ABX9TyNBGudR8uiZjyU/3qpOU3hb",
      "include_colab_link": true
    },
    "kernelspec": {
      "name": "python3",
      "display_name": "Python 3"
    },
    "language_info": {
      "name": "python"
    }
  },
  "cells": [
    {
      "cell_type": "markdown",
      "metadata": {
        "id": "view-in-github",
        "colab_type": "text"
      },
      "source": [
        "<a href=\"https://colab.research.google.com/github/dschlesinger/experiments/blob/main/QR_decomposition/QR_Decomposition.ipynb\" target=\"_parent\"><img src=\"https://colab.research.google.com/assets/colab-badge.svg\" alt=\"Open In Colab\"/></a>"
      ]
    },
    {
      "cell_type": "code",
      "execution_count": 5,
      "metadata": {
        "id": "HUwHJB9HokMP"
      },
      "outputs": [],
      "source": [
        "import numpy as np\n",
        "\n",
        "from collections.abc import Callable\n",
        "from typing import Tuple\n",
        "from functools import partial"
      ]
    },
    {
      "cell_type": "code",
      "source": [
        "def generate_full_rank(rank: int = 5, num_func: Callable = np.random.randint, **kwargs) -> np.ndarray:\n",
        "  \"\"\"Generates guarrenteed full rank matrix\n",
        "\n",
        "  Args:\n",
        "    rank: int -> Rank of generated matrix\n",
        "    num_func: Callable -> the function to generation numbers\n",
        "    **kwargs: dict -> passed into num_func\n",
        "\n",
        "  Returns:\n",
        "    A: np.ndarray -> Always full rank matrix\n",
        "  \"\"\"\n",
        "\n",
        "  A = num_func(size=(rank, rank), **kwargs)\n",
        "\n",
        "  while np.linalg.det(A) == 0:\n",
        "\n",
        "    A = num_func(size=(rank, rank), **kwargs)\n",
        "\n",
        "  return A.astype(np.float32)\n",
        "\n",
        "matrix_generator = lambda: generate_full_rank(low=-5, high=6)"
      ],
      "metadata": {
        "id": "7zUzRrjSotGt"
      },
      "execution_count": 11,
      "outputs": []
    },
    {
      "cell_type": "code",
      "source": [
        "def qr(A: np.ndarray) -> Tuple[np.ndarray, np.ndarray]:\n",
        "  \"\"\"Returns orthogonal matrix Q and R which tracks operations\n",
        "  Q @ R = A\n",
        "\n",
        "  Args:\n",
        "    A: np.ndarray (m, n) -> Matrix to decompose\n",
        "\n",
        "  Retruns:\n",
        "    Q: np.ndarray -> column orthogonal matrix\n",
        "    R: np.ndarray -> upper triangular matrix\n",
        "\n",
        "  Raises:\n",
        "    ValueError: if A is not full rank\n",
        "  \"\"\"\n",
        "\n",
        "  m, n, *_ = A.shape\n",
        "\n",
        "  if np.linalg.matrix_rank(A) < m:\n",
        "    raise ValueError(\"A is not full rank\")\n",
        "\n",
        "  Q = np.zeros((m, n), dtype=np.float32)\n",
        "  R = np.zeros((n, n))\n",
        "\n",
        "  # Construct Q and R\n",
        "  q1 = A[:, 0]\n",
        "  R[0, 0] = np.linalg.norm(q1)\n",
        "  Q[:, 0] = q1 / R[0, 0]\n",
        "\n",
        "  for column in range(1, n):\n",
        "\n",
        "    q = A[:, column]\n",
        "\n",
        "    proj = Q[:, :column].T @ q\n",
        "\n",
        "    # Subtract projections\n",
        "    q = q - Q[:, :column] @ proj\n",
        "\n",
        "    # Normalize and update Q and R\n",
        "    R[:column, column] = proj\n",
        "\n",
        "    R[column, column] = np.linalg.norm(q)\n",
        "    Q[:, column] = q / R[column, column]\n",
        "\n",
        "  return Q, R\n"
      ],
      "metadata": {
        "id": "NfGmzujqrbhl"
      },
      "execution_count": 12,
      "outputs": []
    },
    {
      "cell_type": "code",
      "source": [
        "# Testing\n",
        "from itertools import repeat\n",
        "\n",
        "for _ in repeat(None, 1000):\n",
        "\n",
        "  A = matrix_generator()\n",
        "\n",
        "  Q, R = qr(A)\n",
        "\n",
        "  if not np.allclose(A, Q @ R, atol=1e-4, rtol=1e-4):\n",
        "\n",
        "    print(f\"Fails\")\n",
        "\n",
        "    print(A, np.round(Q @ R), Q, R, sep='\\n')\n",
        "\n",
        "    break\n",
        "\n",
        "else:\n",
        "\n",
        "  print(\"Correct\")"
      ],
      "metadata": {
        "colab": {
          "base_uri": "https://localhost:8080/"
        },
        "id": "0pjfgleZJbma",
        "outputId": "de0cb112-69d6-4419-bba6-a58c79011cbe"
      },
      "execution_count": 13,
      "outputs": [
        {
          "output_type": "stream",
          "name": "stdout",
          "text": [
            "Correct\n"
          ]
        }
      ]
    }
  ]
}